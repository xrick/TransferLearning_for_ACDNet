{
 "cells": [
  {
   "cell_type": "code",
   "execution_count": 8,
   "id": "9d5ffcf6-86aa-4979-9fb1-0f6a57f3d726",
   "metadata": {},
   "outputs": [],
   "source": [
    "import sys\n",
    "import os\n",
    "import numpy as np\n",
    "import wavio"
   ]
  },
  {
   "cell_type": "code",
   "execution_count": 3,
   "id": "fe5a1b17-98d4-40e6-9609-78f7bd9a29ef",
   "metadata": {},
   "outputs": [],
   "source": [
    "sys.path.append(\"../../\")"
   ]
  },
  {
   "cell_type": "code",
   "execution_count": 5,
   "id": "bffff0d3-3368-40d6-948c-04a72b57b30a",
   "metadata": {},
   "outputs": [],
   "source": [
    "from th.resources import models, calculator as calc"
   ]
  },
  {
   "cell_type": "code",
   "execution_count": null,
   "id": "e073cbe5-d204-4e45-abc9-b142cc7a2342",
   "metadata": {},
   "outputs": [],
   "source": []
  },
  {
   "cell_type": "code",
   "execution_count": 9,
   "id": "346ba597-3ff9-4ad6-a996-b24c4d6916a6",
   "metadata": {},
   "outputs": [],
   "source": [
    "t_int8_quant_model_path = \"../../th/quantized_models/quant_retrained_model_95.4_20240201003448.pt\""
   ]
  },
  {
   "cell_type": "code",
   "execution_count": null,
   "id": "b6ca2c19-f078-407c-b79e-a42f9c0e5b8e",
   "metadata": {},
   "outputs": [],
   "source": [
    "input"
   ]
  }
 ],
 "metadata": {
  "kernelspec": {
   "display_name": "Python 3 (ipykernel)",
   "language": "python",
   "name": "python3"
  },
  "language_info": {
   "codemirror_mode": {
    "name": "ipython",
    "version": 3
   },
   "file_extension": ".py",
   "mimetype": "text/x-python",
   "name": "python",
   "nbconvert_exporter": "python",
   "pygments_lexer": "ipython3",
   "version": "3.10.13"
  }
 },
 "nbformat": 4,
 "nbformat_minor": 5
}
