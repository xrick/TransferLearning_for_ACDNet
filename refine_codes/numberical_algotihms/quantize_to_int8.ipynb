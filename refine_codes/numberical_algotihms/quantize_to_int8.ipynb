{
 "cells": [
  {
   "cell_type": "code",
   "execution_count": 1,
   "id": "a277f809-9798-4a9a-b23c-6a061767c416",
   "metadata": {},
   "outputs": [],
   "source": [
    "import sys\n",
    "import os\n",
    "import numpy as np"
   ]
  },
  {
   "cell_type": "code",
   "execution_count": null,
   "id": "9bc014f5-44d7-4470-9f32-683617b4b52d",
   "metadata": {},
   "outputs": [],
   "source": []
  },
  {
   "cell_type": "code",
   "execution_count": 2,
   "id": "f70c3f1c-61f0-4508-ab67-9b7839de0358",
   "metadata": {},
   "outputs": [],
   "source": [
    "def quantize_int8(x, axis):\n",
    "  '''Quantization into int8_t precision, operating on x along axis'''\n",
    "\n",
    "  scaling_factor_shape = tuple(np.append([len(x)],np.ones(x.ndim - 1, dtype = int)))\n",
    "  epsilon = 0.000000001\n",
    "  x_scaling_factor = (2 * np.max(np.abs(x), axis) / 255) + epsilon\n",
    "  x_scaling_factor = x_scaling_factor.reshape(scaling_factor_shape)\n",
    "  x_zero_offset = -0.5\n",
    "  result = (x / x_scaling_factor) + x_zero_offset\n",
    "\n",
    "  return np.rint(result).astype(np.int8)"
   ]
  },
  {
   "cell_type": "code",
   "execution_count": 14,
   "id": "6d07672a-9552-486d-815c-49197c0d83df",
   "metadata": {},
   "outputs": [
    {
     "name": "stdout",
     "output_type": "stream",
     "text": [
      "test_np_max_int_ary:\n",
      "\n",
      "(1, 234)\n",
      "[[6 5 3 4 7 7 9 7 6 0 4 6 1 9 5 8 3 5 2 2 2 8 7 7 1 9 6 7 1 9 7 9 9 7 5 1\n",
      "  3 8 1 6 1 5 6 5 8 9 3 7 8 0 0 1 9 9 0 9 3 0 7 1 6 6 5 2 8 0 8 1 7 8 5 7\n",
      "  5 8 2 5 4 6 1 4 7 5 8 0 3 3 6 4 1 9 5 3 9 5 2 9 8 1 3 7 1 3 4 4 9 9 1 4\n",
      "  5 8 7 5 8 8 8 9 0 4 4 8 7 8 0 3 1 2 4 6 3 0 8 1 9 6 4 8 8 9 7 2 7 3 0 4\n",
      "  4 3 4 6 2 6 4 1 4 7 1 7 7 2 8 5 8 2 2 0 4 4 5 4 6 6 8 0 4 3 0 2 5 2 7 8\n",
      "  4 5 9 0 1 6 0 9 8 7 6 9 6 8 6 6 7 9 6 7 9 5 7 5 2 4 6 4 7 7 9 6 6 2 5 2\n",
      "  5 1 0 3 7 5 1 8 4 7 2 7 1 5 2 5 4 6]]\n",
      "[9]\n"
     ]
    }
   ],
   "source": [
    "test_int16 = np.random.randint(-2^8-1,2^8,(1,1,30225,1), dtype=np.int16)\n",
    "# print(test_int16)\n",
    "epsilon = 0.000000001\n",
    "test_np_max_int_ary = np.random.randint(0,10,(1,234), dtype=np.int16)\n",
    "print(f\"test_np_max_int_ary:\\n\")\n",
    "print(test_np_max_int_ary.shape)\n",
    "print(test_np_max_int_ary)\n",
    "print(np.max(np.abs(test_np_max_int_ary), 1))\n",
    "\n",
    "# np.max(np.abs(test_np_max_int_ary), 1"
   ]
  },
  {
   "cell_type": "code",
   "execution_count": null,
   "id": "367a44e9-cc88-49f8-8bbb-823fda6fdfd3",
   "metadata": {},
   "outputs": [],
   "source": []
  },
  {
   "cell_type": "code",
   "execution_count": null,
   "id": "abed1ff6-2f6c-4550-86e3-c62e32222d85",
   "metadata": {},
   "outputs": [],
   "source": [
    "int_8* 1nt16_to_int8(int[] data_ary)\n",
    "{\n",
    "    /*\n",
    "        input:\n",
    "            data_ary: 1D int16 array\n",
    "        output:\n",
    "            data_ary: 1D int8 array\n",
    "        note:\n",
    "            the input and output arrays length all should be 30225\n",
    "    */\n",
    "    \n",
    "    uint16_t len = sizeof(data_ary)/sizeof(data_ary[0]);\n",
    "    int16_t max_v = data_ary[0];\n",
    "    float epsilon = 0.000000001;\n",
    "    float zero_offset = -0.5;\n",
    "    int_8 ret_ary[len];                   \n",
    "    for (int i = 0; i < len; i++) {      \n",
    "       if(arr[i] > max_v)    \n",
    "           max_v = arr[i];    \n",
    "    }      \n",
    "    \n",
    "    scaling_factor = (2 * max_v)/255 + epsilon;\n",
    "    for(int i = 0; i < len; i++)\n",
    "    {\n",
    "        float tmp_v = data_ary[i]/255 + zero_offset;\n",
    "        ret_ary[i] = int_8(math.floor(tmp_v)); //we can using math.ceil() too see which is better.\n",
    "    }\n",
    "    return ret_ary;\n",
    "}"
   ]
  }
 ],
 "metadata": {
  "kernelspec": {
   "display_name": "Python 3 (ipykernel)",
   "language": "python",
   "name": "python3"
  },
  "language_info": {
   "codemirror_mode": {
    "name": "ipython",
    "version": 3
   },
   "file_extension": ".py",
   "mimetype": "text/x-python",
   "name": "python",
   "nbconvert_exporter": "python",
   "pygments_lexer": "ipython3",
   "version": "3.10.13"
  }
 },
 "nbformat": 4,
 "nbformat_minor": 5
}
