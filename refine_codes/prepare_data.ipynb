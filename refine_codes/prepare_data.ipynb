{
 "cells": [
  {
   "cell_type": "code",
   "execution_count": 7,
   "id": "76b43e22-a14e-4616-9395-089442614d1e",
   "metadata": {},
   "outputs": [],
   "source": [
    "import sys\n",
    "import os\n",
    "import subprocess\n",
    "import glob\n",
    "import numpy as np\n",
    "import wavio\n",
    "import time;\n",
    "import random;\n",
    "sys.path.append(os.path.abspath(\"../\"))\n",
    "import re"
   ]
  },
  {
   "cell_type": "code",
   "execution_count": 9,
   "id": "47433362-b1e4-4057-8236-5bd8bb0a06ec",
   "metadata": {},
   "outputs": [],
   "source": [
    "from common.tlopts import display_info;\n",
    "import common.utils as U;"
   ]
  },
  {
   "cell_type": "code",
   "execution_count": null,
   "id": "30ba8dc0-57b0-47d0-977a-7ca912373e63",
   "metadata": {},
   "outputs": [],
   "source": []
  },
  {
   "cell_type": "code",
   "execution_count": null,
   "id": "13dc9e11-f919-4e96-bee6-233091608bc8",
   "metadata": {},
   "outputs": [],
   "source": [
    "training_positive_sounds_src = \"../datasets/\""
   ]
  }
 ],
 "metadata": {
  "kernelspec": {
   "display_name": "Python 3 (ipykernel)",
   "language": "python",
   "name": "python3"
  },
  "language_info": {
   "codemirror_mode": {
    "name": "ipython",
    "version": 3
   },
   "file_extension": ".py",
   "mimetype": "text/x-python",
   "name": "python",
   "nbconvert_exporter": "python",
   "pygments_lexer": "ipython3",
   "version": "3.10.13"
  }
 },
 "nbformat": 4,
 "nbformat_minor": 5
}
