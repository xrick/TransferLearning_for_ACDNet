{
 "cells": [
  {
   "cell_type": "code",
   "execution_count": 7,
   "id": "54f25cb6-4ecf-433b-9fc9-07cf9ee1a28d",
   "metadata": {},
   "outputs": [],
   "source": [
    "import sys;\n",
    "import os;\n",
    "import glob;\n",
    "import math;\n",
    "import random;\n",
    "import torch;\n",
    "import torch.nn as nn;\n",
    "import numpy as np\n",
    "import copy\n",
    "sys.path.append(os.path.abspath(\"../\"))"
   ]
  },
  {
   "cell_type": "code",
   "execution_count": 2,
   "id": "28b00849-c840-42f6-9cc8-41fae83e35f3",
   "metadata": {},
   "outputs": [],
   "source": [
    "from tinynn.converter import TFLiteConverter"
   ]
  },
  {
   "cell_type": "code",
   "execution_count": 8,
   "id": "8696b704-c99f-4308-9515-dad0afcd6ef0",
   "metadata": {},
   "outputs": [],
   "source": [
    "from datetime import datetime"
   ]
  },
  {
   "cell_type": "code",
   "execution_count": 9,
   "id": "10864945-e00e-463f-9972-1397bd964e16",
   "metadata": {},
   "outputs": [],
   "source": [
    "from th.resources.models import *"
   ]
  },
  {
   "cell_type": "code",
   "execution_count": 4,
   "id": "ad55b0bc-58d4-46c2-9f20-490eff5b644f",
   "metadata": {},
   "outputs": [],
   "source": [
    "def genDataTimeStr():\n",
    "    return datetime.today().strftime('%Y-%m-%d %H:%M:%S').replace('-',\"\").replace(' ',\"\").replace(':',\"\");"
   ]
  },
  {
   "cell_type": "code",
   "execution_count": 5,
   "id": "9999a750-6d15-49eb-a921-53de59dd2da3",
   "metadata": {},
   "outputs": [],
   "source": [
    "pt_uncompressed_model = \"./trained_models/current_best/acdnet_alarm_3rd_20240119093633_acc_97.7272720336914_190th_epoch.pt\"\n",
    "tflite_save_path = \"./tflite_models/acdnet_alarm_3rd_acc97.7_{}.tflite\""
   ]
  },
  {
   "cell_type": "code",
   "execution_count": 10,
   "id": "2285eb68-92f9-4966-81e7-1ca644a868c3",
   "metadata": {},
   "outputs": [],
   "source": [
    "inputLength = 30225\n",
    "nClass = 2;\n",
    "sr = 20000"
   ]
  },
  {
   "cell_type": "code",
   "execution_count": 16,
   "id": "b1030ae6-7e65-49ed-aa5e-71dc4132fd33",
   "metadata": {},
   "outputs": [
    {
     "data": {
      "text/plain": [
       "'\\nalarm detect(two class) model config\\n[8, 64, 32, 64, 64, 128, 128, 256, 256, 512, 512, 2]\\n'"
      ]
     },
     "execution_count": 16,
     "metadata": {},
     "output_type": "execute_result"
    }
   ],
   "source": [
    "\"\"\"\n",
    "alarm detect(two class) model config\n",
    "[8, 64, 32, 64, 64, 128, 128, 256, 256, 512, 512, 2]\n",
    "\"\"\""
   ]
  },
  {
   "cell_type": "code",
   "execution_count": 12,
   "id": "18373e5e-4ae8-4bca-9e4b-fa82bef5f4ab",
   "metadata": {},
   "outputs": [
    {
     "name": "stdout",
     "output_type": "stream",
     "text": [
      "[8, 64, 32, 64, 64, 128, 128, 256, 256, 512, 512, 2]\n"
     ]
    }
   ],
   "source": [
    "state = torch.load(pt_uncompressed_model, map_location='cpu');\n",
    "print(state['config']);\n",
    "net = GetACDNetModel(input_len=inputLength, nclass=nClass, sr=sr, channel_config=state['config']).to('cpu');"
   ]
  },
  {
   "cell_type": "code",
   "execution_count": 15,
   "id": "47f68b67-cce8-4119-990d-5f9ac02cae1c",
   "metadata": {},
   "outputs": [
    {
     "name": "stderr",
     "output_type": "stream",
     "text": [
      "INFO (tinynn.converter.base) Generated model saved to ./tflite_models/acdnet_alarm_3rd_acc97.7_20240119121437.tflite\n"
     ]
    }
   ],
   "source": [
    "with torch.no_grad():\n",
    "            # dummy_input = torch.randn(1, 1, 30225, 1); wrong: RuntimeError: quantized::conv2d (qnnpack): each dimension of output tensor should be greater than 0.\n",
    "            dummy_input = torch.randn(1, 1, 1, 30225); #correct,workable\n",
    "            # dummy_input = torch.randn(30225,1,1,1); wrong: RuntimeError: quantized::conv2d (qnnpack): each dimension of output tensor should be greater than 0.\n",
    "            # dummy_input = torch.randn(1,30225,1,1); wrong:RuntimeError: Input channel size of weight and bias must match.\n",
    "            converter = TFLiteConverter(net,\n",
    "                                        dummy_input,\n",
    "                                        tflite_path=tflite_save_path.format(genDataTimeStr()))\n",
    "            converter.convert()"
   ]
  },
  {
   "cell_type": "code",
   "execution_count": null,
   "id": "676a9bd0-7dc4-4d4c-9a96-0f9c7dbd141a",
   "metadata": {},
   "outputs": [],
   "source": []
  }
 ],
 "metadata": {
  "kernelspec": {
   "display_name": "Python 3 (ipykernel)",
   "language": "python",
   "name": "python3"
  },
  "language_info": {
   "codemirror_mode": {
    "name": "ipython",
    "version": 3
   },
   "file_extension": ".py",
   "mimetype": "text/x-python",
   "name": "python",
   "nbconvert_exporter": "python",
   "pygments_lexer": "ipython3",
   "version": "3.10.13"
  }
 },
 "nbformat": 4,
 "nbformat_minor": 5
}
