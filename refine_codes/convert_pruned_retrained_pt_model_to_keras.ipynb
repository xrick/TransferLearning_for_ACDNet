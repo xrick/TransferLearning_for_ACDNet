{
 "cells": [
  {
   "cell_type": "code",
   "execution_count": 1,
   "id": "3eb37e5b-525e-4695-ac1c-1463134c1655",
   "metadata": {},
   "outputs": [],
   "source": [
    "from onnx2keras import onnx_to_keras\n",
    "import torch\n",
    "import onnx\n",
    "import io\n",
    "import logging\n",
    "# with tf.device('/cpu:0'):"
   ]
  },
  {
   "cell_type": "code",
   "execution_count": null,
   "id": "268758eb-2c56-4691-bf54-95eea67d5577",
   "metadata": {},
   "outputs": [],
   "source": []
  },
  {
   "cell_type": "code",
   "execution_count": 2,
   "id": "c1af86c0-4972-4cd9-b3a4-672f6367a9a6",
   "metadata": {},
   "outputs": [],
   "source": [
    "import os\n",
    "import sys\n",
    "import glob;\n",
    "import math;\n",
    "import numpy as np;\n",
    "import glob;\n",
    "import random;\n",
    "import time;"
   ]
  },
  {
   "cell_type": "code",
   "execution_count": 68,
   "id": "12a56c60-1326-4bf1-a57b-7e86fc8bfbae",
   "metadata": {},
   "outputs": [],
   "source": [
    "import keras_core as keras\n",
    "import tensorflow as tf\n",
    "from onnx_tf.backend import prepare"
   ]
  },
  {
   "cell_type": "code",
   "execution_count": 4,
   "id": "9fc4e6d5-c397-4916-bc52-b77a2d88ddf4",
   "metadata": {},
   "outputs": [],
   "source": [
    "if torch.cuda.is_available():\n",
    "    DEFAULT_DEVICE = \"cuda\"\n",
    "elif torch.backends.mps.is_available():\n",
    "    DEFAULT_DEVICE = \"mps\"\n",
    "else:\n",
    "    DEFAULT_DEVICE = \"cpu\""
   ]
  },
  {
   "cell_type": "code",
   "execution_count": 5,
   "id": "59cf7b1c-d7a5-4f2f-a47b-2c9a203ead3a",
   "metadata": {},
   "outputs": [],
   "source": [
    "import onnxruntime as rt"
   ]
  },
  {
   "cell_type": "code",
   "execution_count": 6,
   "id": "d074d662-0b2b-4f17-8bb5-04a259acbdd2",
   "metadata": {},
   "outputs": [],
   "source": [
    "# print(\"Num GPUs Available: \", len(tf.config.experimental.list_physical_devices('GPU')))"
   ]
  },
  {
   "cell_type": "code",
   "execution_count": 7,
   "id": "5b8889fe-2b70-48be-bddc-28c596d7a30d",
   "metadata": {},
   "outputs": [
    {
     "name": "stdout",
     "output_type": "stream",
     "text": [
      "mps\n"
     ]
    }
   ],
   "source": [
    "print(DEFAULT_DEVICE)"
   ]
  },
  {
   "cell_type": "code",
   "execution_count": 8,
   "id": "222a6582-9283-465f-a2a9-73d1aeaa23c2",
   "metadata": {},
   "outputs": [],
   "source": [
    "# import torch;\n",
    "import torch.optim as optim;\n",
    "import torch.nn as nn;\n",
    "from torch.autograd import Variable\n",
    "sys.path.append(os.getcwd());\n",
    "sys.path.append(os.path.abspath('../'));\n",
    "# sys.path.append(os.path.join(os.getcwd(), 'torch/resources'));\n",
    "import common.utils as U;\n",
    "import common.opts as opts;\n",
    "# import resources.models as models;\n",
    "import th.resources.calculator as calc;\n",
    "import common.tlopts as tlopts\n",
    "# import resources.train_generator as train_generator;\n",
    "import argparse\n",
    "from itertools import repeat"
   ]
  },
  {
   "cell_type": "code",
   "execution_count": 9,
   "id": "7e72bcfb-ad36-49f1-b98f-0e882797f863",
   "metadata": {},
   "outputs": [],
   "source": [
    "#Reproducibility\n",
    "seed = 42;\n",
    "random.seed(seed);\n",
    "np.random.seed(seed);\n",
    "torch.manual_seed(seed);\n",
    "if torch.cuda.is_available():\n",
    "    torch.cuda.manual_seed(seed);\n",
    "torch.backends.cudnn.deterministic = True;\n",
    "torch.backends.cudnn.benchmark = False;"
   ]
  },
  {
   "cell_type": "code",
   "execution_count": null,
   "id": "75d84781-b8cd-4cfe-ba9a-251555e3816c",
   "metadata": {},
   "outputs": [],
   "source": []
  },
  {
   "cell_type": "code",
   "execution_count": 10,
   "id": "d0b71e69-af49-4617-a311-68882d1ec9fc",
   "metadata": {},
   "outputs": [],
   "source": [
    "pruned_and_retrained_acdnet = './retrained_models_after_pruned/retrained_model_20240124123209_acc_95.45455169677734_795th_epoch.pt'"
   ]
  },
  {
   "cell_type": "code",
   "execution_count": 30,
   "id": "c1a372fd-b212-41e7-9852-850dcb6df6f9",
   "metadata": {},
   "outputs": [],
   "source": [
    "class ACDNetV2(nn.Module):\n",
    "    def __init__(self, input_length, n_class, sr, ch_conf=None):\n",
    "        super(ACDNetV2, self).__init__();\n",
    "        self.input_length = input_length;\n",
    "        self.ch_config = ch_conf;\n",
    "\n",
    "        stride1 = 2;\n",
    "        stride2 = 2;\n",
    "        channels = 8;\n",
    "        k_size = (3, 3);\n",
    "        n_frames = (sr/1000)*10; #No of frames per 10ms\n",
    "\n",
    "        sfeb_pool_size = int(n_frames/(stride1*stride2));\n",
    "        # tfeb_pool_size = (2,2);\n",
    "        if self.ch_config is None:\n",
    "            self.ch_config = [channels, channels*8, channels*4, channels*8, channels*8, channels*16, channels*16, channels*32, channels*32, channels*64, channels*64, n_class];\n",
    "        # avg_pool_kernel_size = (1,4) if self.ch_config[1] < 64 else (2,4);\n",
    "        fcn_no_of_inputs = self.ch_config[-1];\n",
    "        conv1, bn1 = self.make_layers(1, self.ch_config[0], (1, 9), (1, stride1));\n",
    "        conv2, bn2 = self.make_layers(self.ch_config[0], self.ch_config[1], (1, 5), (1, stride2));\n",
    "        conv3, bn3 = self.make_layers(1, self.ch_config[2], k_size, padding=1);\n",
    "        conv4, bn4 = self.make_layers(self.ch_config[2], self.ch_config[3], k_size, padding=1);\n",
    "        conv5, bn5 = self.make_layers(self.ch_config[3], self.ch_config[4], k_size, padding=1);\n",
    "        conv6, bn6 = self.make_layers(self.ch_config[4], self.ch_config[5], k_size, padding=1);\n",
    "        conv7, bn7 = self.make_layers(self.ch_config[5], self.ch_config[6], k_size, padding=1);\n",
    "        conv8, bn8 = self.make_layers(self.ch_config[6], self.ch_config[7], k_size, padding=1);\n",
    "        conv9, bn9 = self.make_layers(self.ch_config[7], self.ch_config[8], k_size, padding=1);\n",
    "        conv10, bn10 = self.make_layers(self.ch_config[8], self.ch_config[9], k_size, padding=1);\n",
    "        conv11, bn11 = self.make_layers(self.ch_config[9], self.ch_config[10], k_size, padding=1);\n",
    "        conv12, bn12 = self.make_layers(self.ch_config[10], self.ch_config[11], (1, 1));\n",
    "        fcn = nn.Linear(fcn_no_of_inputs, n_class);\n",
    "        nn.init.kaiming_normal_(fcn.weight, nonlinearity='sigmoid') # kaiming with sigoid is equivalent to lecun_normal in keras\n",
    "\n",
    "        self.sfeb = nn.Sequential(\n",
    "            #Start: Filter bank\n",
    "            conv1, bn1, nn.ReLU(),\\\n",
    "            conv2, bn2, nn.ReLU(),\\\n",
    "            nn.MaxPool2d(kernel_size=(1, sfeb_pool_size))\n",
    "        );\n",
    "\n",
    "        tfeb_modules = [];\n",
    "        self.tfeb_width = int(((self.input_length / sr)*1000)/10); # 10ms frames of audio length in seconds\n",
    "        tfeb_pool_sizes = self.get_tfeb_pool_sizes(self.ch_config[1], self.tfeb_width);\n",
    "        p_index = 0;\n",
    "        for i in [3,4,6,8,10]:\n",
    "            tfeb_modules.extend([eval('conv{}'.format(i)), eval('bn{}'.format(i)), nn.ReLU()]);\n",
    "\n",
    "            if i != 3:\n",
    "                tfeb_modules.extend([eval('conv{}'.format(i+1)), eval('bn{}'.format(i+1)), nn.ReLU()]);\n",
    "\n",
    "            h, w = tfeb_pool_sizes[p_index];\n",
    "            if h>1 or w>1:\n",
    "                tfeb_modules.append(nn.MaxPool2d(kernel_size = (h,w)));\n",
    "            p_index += 1;\n",
    "\n",
    "        tfeb_modules.append(nn.Dropout(0.2));\n",
    "        tfeb_modules.extend([conv12, bn12, nn.ReLU()]);\n",
    "        h, w = tfeb_pool_sizes[-1];\n",
    "        if h>1 or w>1:\n",
    "            tfeb_modules.append(nn.AvgPool2d(kernel_size = (h,w)));\n",
    "        tfeb_modules.extend([nn.Flatten(), fcn]);\n",
    "\n",
    "        self.tfeb = nn.Sequential(*tfeb_modules);\n",
    "\n",
    "        self.output = nn.Sequential(\n",
    "            nn.Softmax(dim=1)\n",
    "        );\n",
    "\n",
    "    def forward(self, x):\n",
    "        x = self.sfeb(x);\n",
    "        #swapaxes\n",
    "        x = x.permute((0, 2, 1, 3));\n",
    "        x = self.tfeb(x);\n",
    "        y = self.output[0](x);\n",
    "        return y;\n",
    "\n",
    "    def make_layers(self, in_channels, out_channels, kernel_size, stride=(1,1), padding=0, bias=False):\n",
    "        conv = nn.Conv2d(in_channels=in_channels, out_channels=out_channels, kernel_size=kernel_size, stride=stride, padding=padding, bias=bias);\n",
    "        nn.init.kaiming_normal_(conv.weight, nonlinearity='relu'); # kaiming with relu is equivalent to he_normal in keras\n",
    "        bn = nn.BatchNorm2d(out_channels);\n",
    "        return conv, bn;\n",
    "\n",
    "    def get_tfeb_pool_sizes(self, con2_ch, width):\n",
    "        h = self.get_tfeb_pool_size_component(con2_ch);\n",
    "        w = self.get_tfeb_pool_size_component(width);\n",
    "        # print(w);\n",
    "        pool_size = [];\n",
    "        for  (h1, w1) in zip(h, w):\n",
    "            pool_size.append((h1, w1));\n",
    "        return pool_size;\n",
    "\n",
    "    def get_tfeb_pool_size_component(self, length):\n",
    "        # print(length);\n",
    "        c = [];\n",
    "        index = 1;\n",
    "        while index <= 6:\n",
    "            if length >= 2:\n",
    "                if index == 6:\n",
    "                    c.append(length);\n",
    "                else:\n",
    "                    c.append(2);\n",
    "                    length = length // 2;\n",
    "            else:\n",
    "               c.append(1);\n",
    "\n",
    "            index += 1;\n",
    "\n",
    "        return c;\n",
    "\n",
    "def GetACDNetModel(input_len=30225, nclass=2, sr=20000, channel_config=None):\n",
    "    net = ACDNetV2(input_len, nclass, sr, ch_conf=channel_config);\n",
    "    return net;"
   ]
  },
  {
   "cell_type": "code",
   "execution_count": 31,
   "id": "d2ba7e8e-ea11-4e0a-95c8-3bb1027a54f5",
   "metadata": {},
   "outputs": [],
   "source": [
    "def getPruned_and_Retrained_Model(pruned_and_retrain_model_path):\n",
    "    state = torch.load(pruned_and_retrain_model_path, map_location=torch.device('cpu'));\n",
    "    weights = state['weight']\n",
    "    config = state['config']\n",
    "    net = GetACDNetModel(channel_config=config)\n",
    "    print(f\"config is {config}\")\n",
    "    net.load_state_dict(weights)\n",
    "    return net"
   ]
  },
  {
   "cell_type": "code",
   "execution_count": 32,
   "id": "c1e23113-bad7-4e29-b043-20b6aea97ae6",
   "metadata": {},
   "outputs": [
    {
     "name": "stdout",
     "output_type": "stream",
     "text": [
      "config is [5, 32, 9, 16, 23, 33, 29, 56, 47, 65, 90, 2]\n"
     ]
    }
   ],
   "source": [
    "retrain_model = getPruned_and_Retrained_Model(pruned_and_retrain_model_path=pruned_and_retrained_acdnet)"
   ]
  },
  {
   "cell_type": "code",
   "execution_count": 33,
   "id": "143cbfbe-0c5b-40e5-9d29-ee887116d91f",
   "metadata": {},
   "outputs": [
    {
     "name": "stdout",
     "output_type": "stream",
     "text": [
      "+----------------------------------------------------------------------------+\n",
      "+                           Pytorch Model Summary                            +\n",
      "------------------------------------------------------------------------------\n",
      "   Layer (type)       Input Shape      Output Shape    Param #      FLOPS #\n",
      "==============================================================================\n",
      "       Conv2d-1     (1, 1, 30225)     (5, 1, 15109)         45      679,905\n",
      "  BatchNorm2d-2     (5, 1, 15109)     (5, 1, 15109)         10            0\n",
      "         ReLu-3     (5, 1, 15109)     (5, 1, 15109)          0       75,545\n",
      "       Conv2d-4     (5, 1, 15109)     (32, 1, 7553)        800    6,042,400\n",
      "  BatchNorm2d-5     (32, 1, 7553)     (32, 1, 7553)         64            0\n",
      "         ReLu-6     (32, 1, 7553)     (32, 1, 7553)          0      241,696\n",
      "    MaxPool2d-7     (32, 1, 7553)      (32, 1, 151)          0      241,600\n",
      "      Permute-8      (32, 1, 151)      (1, 32, 151)          0            0\n",
      "       Conv2d-9      (1, 32, 151)      (9, 32, 151)         81      391,392\n",
      " BatchNorm2d-10      (9, 32, 151)      (9, 32, 151)         18            0\n",
      "        ReLu-11      (9, 32, 151)      (9, 32, 151)          0       43,488\n",
      "   MaxPool2d-12      (9, 32, 151)       (9, 16, 75)          0       43,200\n",
      "      Conv2d-13       (9, 16, 75)      (16, 16, 75)      1,296    1,555,200\n",
      " BatchNorm2d-14      (16, 16, 75)      (16, 16, 75)         32            0\n",
      "        ReLu-15      (16, 16, 75)      (16, 16, 75)          0       19,200\n",
      "      Conv2d-16      (16, 16, 75)      (23, 16, 75)      3,312    3,974,400\n",
      " BatchNorm2d-17      (23, 16, 75)      (23, 16, 75)         46            0\n",
      "        ReLu-18      (23, 16, 75)      (23, 16, 75)          0       27,600\n",
      "   MaxPool2d-19      (23, 16, 75)       (23, 8, 37)          0       27,232\n",
      "      Conv2d-20       (23, 8, 37)       (33, 8, 37)      6,831    2,021,976\n",
      " BatchNorm2d-21       (33, 8, 37)       (33, 8, 37)         66            0\n",
      "        ReLu-22       (33, 8, 37)       (33, 8, 37)          0        9,768\n",
      "      Conv2d-23       (33, 8, 37)       (29, 8, 37)      8,613    2,549,448\n",
      " BatchNorm2d-24       (29, 8, 37)       (29, 8, 37)         58            0\n",
      "        ReLu-25       (29, 8, 37)       (29, 8, 37)          0        8,584\n",
      "   MaxPool2d-26       (29, 8, 37)       (29, 4, 18)          0        8,352\n",
      "      Conv2d-27       (29, 4, 18)       (56, 4, 18)     14,616    1,052,352\n",
      " BatchNorm2d-28       (56, 4, 18)       (56, 4, 18)        112            0\n",
      "        ReLu-29       (56, 4, 18)       (56, 4, 18)          0        4,032\n",
      "      Conv2d-30       (56, 4, 18)       (47, 4, 18)     23,688    1,705,536\n",
      " BatchNorm2d-31       (47, 4, 18)       (47, 4, 18)         94            0\n",
      "        ReLu-32       (47, 4, 18)       (47, 4, 18)          0        3,384\n",
      "   MaxPool2d-33       (47, 4, 18)        (47, 2, 9)          0        3,384\n",
      "      Conv2d-34        (47, 2, 9)        (65, 2, 9)     27,495      494,910\n",
      " BatchNorm2d-35        (65, 2, 9)        (65, 2, 9)        130            0\n",
      "        ReLu-36        (65, 2, 9)        (65, 2, 9)          0        1,170\n",
      "      Conv2d-37        (65, 2, 9)        (90, 2, 9)     52,650      947,700\n",
      " BatchNorm2d-38        (90, 2, 9)        (90, 2, 9)        180            0\n",
      "        ReLu-39        (90, 2, 9)        (90, 2, 9)          0        1,620\n",
      "   MaxPool2d-40        (90, 2, 9)        (90, 1, 4)          0        1,440\n",
      "      Conv2d-41        (90, 1, 4)         (2, 1, 4)        180          720\n",
      " BatchNorm2d-42         (2, 1, 4)         (2, 1, 4)          4            0\n",
      "        ReLu-43         (2, 1, 4)         (2, 1, 4)          0            8\n",
      "   AvgPool2d-44         (2, 1, 4)         (2, 1, 1)          0            8\n",
      "     Flatten-45         (2, 1, 1)            (1, 2)          0            0\n",
      "      Linear-46            (1, 2)            (1, 2)          6            6\n",
      "     Softmax-47            (1, 2)            (1, 2)          0            2\n",
      "==============================================================================\n",
      "Total Params: 140,427\n",
      "Total FLOPs : 22,177,258\n",
      "------------------------------------------------------------------------------\n",
      "Input size (MB) : 0.12\n",
      "Params size (MB): 0.54\n",
      "Total size (MB) : 0.65\n",
      "------------------------------------------------------------------------------\n",
      "\n"
     ]
    }
   ],
   "source": [
    "#show the retrain_model structure\n",
    "calc.summary(retrain_model, (1,1,30225));"
   ]
  },
  {
   "cell_type": "code",
   "execution_count": 34,
   "id": "27f58d4b-cbef-41b0-9f72-d22e900ad62a",
   "metadata": {},
   "outputs": [],
   "source": [
    "input_np = np.random.uniform(0, 1, (1, 1, 1, 30225))\n",
    "input_var = Variable(torch.FloatTensor(input_np))\n",
    "output = retrain_model(input_var)"
   ]
  },
  {
   "cell_type": "code",
   "execution_count": 35,
   "id": "e284df6c-ec98-43eb-b988-abdbff4b644d",
   "metadata": {},
   "outputs": [
    {
     "name": "stdout",
     "output_type": "stream",
     "text": [
      "tensor([[[[0.3238, 0.8499, 0.7078,  ..., 0.5673, 0.7980, 0.4644]]]])\n",
      "tensor([[0.6254, 0.3746]], grad_fn=<SoftmaxBackward0>)\n"
     ]
    }
   ],
   "source": [
    "print(input_var)\n",
    "print(output)"
   ]
  },
  {
   "cell_type": "markdown",
   "id": "670e94f2-e6be-4975-b929-5bedf0006cd5",
   "metadata": {},
   "source": [
    "## first convert to onnx"
   ]
  },
  {
   "cell_type": "code",
   "execution_count": 17,
   "id": "9b8d4ca0-5e8b-4828-8ee9-26cd62afc1fd",
   "metadata": {},
   "outputs": [
    {
     "data": {
      "text/plain": [
       "'\\nx = torch.randn(1, 1, 256, 784, requires_grad=True)\\ntorch.onnx.export(model, x, \"torchToOnnx.onnx\", verbose=True, input_names = [\\'input\\'], output_names = [\\'output\\'])\\n'"
      ]
     },
     "execution_count": 17,
     "metadata": {},
     "output_type": "execute_result"
    }
   ],
   "source": [
    "\"\"\"\n",
    "x = torch.randn(1, 1, 256, 784, requires_grad=True)\n",
    "torch.onnx.export(model, x, \"torchToOnnx.onnx\", verbose=True, input_names = ['input'], output_names = ['output'])\n",
    "\"\"\"\n",
    "# x =  torch.randn(1,1,1,30225, requires_grad=True)\n",
    "# torch.onnx.export(retrain_model,x,\"./onnx_models/retrain_pt2onnx.onnx\", verbose=True, input_names = ['input'], output_names = ['output'])"
   ]
  },
  {
   "cell_type": "code",
   "execution_count": 18,
   "id": "e8d21144-d34d-445f-85e7-e4e7b668076e",
   "metadata": {},
   "outputs": [
    {
     "name": "stdout",
     "output_type": "stream",
     "text": [
      "input\n",
      "<class 'numpy.ndarray'>\n",
      "[[0.54944634 0.45055372]]\n"
     ]
    }
   ],
   "source": [
    "sess = rt.InferenceSession(\"./onnx_models/retrain_pt2onnx.onnx\")\n",
    "input_name = sess.get_inputs()[0].name\n",
    "print(input_name)\n",
    "print(type(input_np))\n",
    "# Note: The input must be of the same shape as the shape of x during # the model export part. i.e. second argument in this function call: torch.onnx.export()\n",
    "onnxPredictions = sess.run(None, {input_name: np.float32(input_np)})[0]\n",
    "print(onnxPredictions)"
   ]
  },
  {
   "cell_type": "markdown",
   "id": "66baefec-0510-4c77-b9a1-4171c7cbb1a6",
   "metadata": {},
   "source": [
    "## onnx to keras\n",
    "ref:\n",
    "https://github.com/PINTO0309/onnx2tf\n"
   ]
  },
  {
   "cell_type": "code",
   "execution_count": 66,
   "id": "1eb26fe0-9258-463b-becd-a197d799a9f8",
   "metadata": {},
   "outputs": [],
   "source": [
    "# Load ONNX model\n",
    "onnx_model = onnx.load('./onnx_models/retrain_pt2onnx.onnx')\n",
    "# Call the converter (input will be equal to the input_names parameter that you defined during exporting)\n",
    "# k_model = onnx_to_keras(onnx_model, ['input'], name_policy='renumerate')\n",
    "# pytorch_to_keras(model, input_var, [(3, 224, 224,)], verbose=True, change_ordering=True)"
   ]
  },
  {
   "cell_type": "code",
   "execution_count": 67,
   "id": "19486df4-ea5a-4ff7-9745-68c5a7c99788",
   "metadata": {},
   "outputs": [],
   "source": [
    "# !pip install tensorflow-probability"
   ]
  },
  {
   "cell_type": "code",
   "execution_count": 52,
   "id": "ad991dc9-eb78-4841-8366-97f98dae7c20",
   "metadata": {},
   "outputs": [],
   "source": []
  },
  {
   "cell_type": "code",
   "execution_count": 86,
   "id": "6d472f9e-6c08-4f6a-aa2b-7b01bcc62e4f",
   "metadata": {},
   "outputs": [],
   "source": [
    "# tf_rep = prepare(onnx_model)  # prepare tf representation\n",
    "# tf_rep.export_graph(\"path\")\n",
    "# print(tf_rep.graph)"
   ]
  },
  {
   "cell_type": "code",
   "execution_count": 44,
   "id": "5d099653-1cab-4e80-b431-98de081175b9",
   "metadata": {},
   "outputs": [],
   "source": [
    "# k_model.summary()"
   ]
  },
  {
   "cell_type": "code",
   "execution_count": 72,
   "id": "f10e8b8a-f31d-41ff-9fe7-8b892614213f",
   "metadata": {},
   "outputs": [],
   "source": [
    "# k_in = np.transpose(input_np, [0,2,3,1])\n",
    "# print(k_in.shape)\n",
    "# k_model.d\n",
    "# k_model.predict(k_in)\n",
    "\n",
    "\n",
    "# k_input = np.transpose(input_np, [0, 3, 1, 2])\n",
    "# k_model.predict(k_input,data_format=\"NCHW\")"
   ]
  },
  {
   "cell_type": "code",
   "execution_count": 32,
   "id": "ffd34a1b-77c1-4c03-988d-b1af677cc5b5",
   "metadata": {},
   "outputs": [],
   "source": [
    "# k_model.save(\"./keras_models/retrain_model.keras\")"
   ]
  },
  {
   "cell_type": "code",
   "execution_count": 54,
   "id": "66cb8060-0d3f-4ab3-9c58-37fa3c85e36b",
   "metadata": {},
   "outputs": [],
   "source": [
    "# tf.ConfigProto(log_device_placement=True)"
   ]
  },
  {
   "cell_type": "code",
   "execution_count": 87,
   "id": "62cca813-6b19-4aa3-9de0-68790af879dd",
   "metadata": {},
   "outputs": [],
   "source": [
    "# tfmodel = tf.saved_model.load(\"./tensorflow_models/retrain_pruned_model/\")\n",
    "# tfmodel = tf.keras.models.load_model('./tensorflow_models/retrain_pruned_model/')"
   ]
  },
  {
   "cell_type": "code",
   "execution_count": 89,
   "id": "e45f93e0-a764-4e40-8cc3-cfe5738ce996",
   "metadata": {},
   "outputs": [],
   "source": [
    "# input_tensor = tf.convert_to_tensor(input_np,dtype='float32')\n",
    "# print(tfmodel(input_tensor))"
   ]
  },
  {
   "cell_type": "code",
   "execution_count": 96,
   "id": "f1a56776-4429-407c-8c44-d66ffc86bc3a",
   "metadata": {},
   "outputs": [],
   "source": [
    "k_model = tf.keras.models.load_model(\"./keras_models/retrain_model.keras\", safe_mode=False)"
   ]
  },
  {
   "cell_type": "code",
   "execution_count": 97,
   "id": "89f92d33-f883-4e0a-b62e-15d6bd194a0f",
   "metadata": {},
   "outputs": [
    {
     "name": "stdout",
     "output_type": "stream",
     "text": [
      "Model: \"model\"\n",
      "_________________________________________________________________\n",
      " Layer (type)                Output Shape              Param #   \n",
      "=================================================================\n",
      " input (InputLayer)          [(None, 1, 1, 30225)]     0         \n",
      "                                                                 \n",
      " LAYER_0 (Conv2D)            (None, 5, 1, 15109)       50        \n",
      "                                                                 \n",
      " LAYER_1 (Activation)        (None, 5, 1, 15109)       0         \n",
      "                                                                 \n",
      " LAYER_2 (Conv2D)            (None, 32, 1, 7553)       832       \n",
      "                                                                 \n",
      " LAYER_3 (Activation)        (None, 32, 1, 7553)       0         \n",
      "                                                                 \n",
      " LAYER_4 (MaxPooling2D)      (None, 32, 1, 151)        0         \n",
      "                                                                 \n",
      " LAYER_5 (Permute)           (None, 1, 32, 151)        0         \n",
      "                                                                 \n",
      " LAYER_6_pad (ZeroPadding2D  (None, 1, 34, 153)        0         \n",
      " )                                                               \n",
      "                                                                 \n",
      " LAYER_6 (Conv2D)            (None, 9, 32, 151)        90        \n",
      "                                                                 \n",
      " LAYER_7 (Activation)        (None, 9, 32, 151)        0         \n",
      "                                                                 \n",
      " LAYER_8 (MaxPooling2D)      (None, 9, 16, 75)         0         \n",
      "                                                                 \n",
      " LAYER_9_pad (ZeroPadding2D  (None, 9, 18, 77)         0         \n",
      " )                                                               \n",
      "                                                                 \n",
      " LAYER_9 (Conv2D)            (None, 16, 16, 75)        1312      \n",
      "                                                                 \n",
      " LAYER_10 (Activation)       (None, 16, 16, 75)        0         \n",
      "                                                                 \n",
      " LAYER_11_pad (ZeroPadding2  (None, 16, 18, 77)        0         \n",
      " D)                                                              \n",
      "                                                                 \n",
      " LAYER_11 (Conv2D)           (None, 23, 16, 75)        3335      \n",
      "                                                                 \n",
      " LAYER_12 (Activation)       (None, 23, 16, 75)        0         \n",
      "                                                                 \n",
      " LAYER_13 (MaxPooling2D)     (None, 23, 8, 37)         0         \n",
      "                                                                 \n",
      " LAYER_14_pad (ZeroPadding2  (None, 23, 10, 39)        0         \n",
      " D)                                                              \n",
      "                                                                 \n",
      " LAYER_14 (Conv2D)           (None, 33, 8, 37)         6864      \n",
      "                                                                 \n",
      " LAYER_15 (Activation)       (None, 33, 8, 37)         0         \n",
      "                                                                 \n",
      " LAYER_16_pad (ZeroPadding2  (None, 33, 10, 39)        0         \n",
      " D)                                                              \n",
      "                                                                 \n",
      " LAYER_16 (Conv2D)           (None, 29, 8, 37)         8642      \n",
      "                                                                 \n",
      " LAYER_17 (Activation)       (None, 29, 8, 37)         0         \n",
      "                                                                 \n",
      " LAYER_18 (MaxPooling2D)     (None, 29, 4, 18)         0         \n",
      "                                                                 \n",
      " LAYER_19_pad (ZeroPadding2  (None, 29, 6, 20)         0         \n",
      " D)                                                              \n",
      "                                                                 \n",
      " LAYER_19 (Conv2D)           (None, 56, 4, 18)         14672     \n",
      "                                                                 \n",
      " LAYER_20 (Activation)       (None, 56, 4, 18)         0         \n",
      "                                                                 \n",
      " LAYER_21_pad (ZeroPadding2  (None, 56, 6, 20)         0         \n",
      " D)                                                              \n",
      "                                                                 \n",
      " LAYER_21 (Conv2D)           (None, 47, 4, 18)         23735     \n",
      "                                                                 \n",
      " LAYER_22 (Activation)       (None, 47, 4, 18)         0         \n",
      "                                                                 \n",
      " LAYER_23 (MaxPooling2D)     (None, 47, 2, 9)          0         \n",
      "                                                                 \n",
      " LAYER_24_pad (ZeroPadding2  (None, 47, 4, 11)         0         \n",
      " D)                                                              \n",
      "                                                                 \n",
      " LAYER_24 (Conv2D)           (None, 65, 2, 9)          27560     \n",
      "                                                                 \n",
      " LAYER_25 (Activation)       (None, 65, 2, 9)          0         \n",
      "                                                                 \n",
      " LAYER_26_pad (ZeroPadding2  (None, 65, 4, 11)         0         \n",
      " D)                                                              \n",
      "                                                                 \n",
      " LAYER_26 (Conv2D)           (None, 90, 2, 9)          52740     \n",
      "                                                                 \n",
      " LAYER_27 (Activation)       (None, 90, 2, 9)          0         \n",
      "                                                                 \n",
      " LAYER_28 (MaxPooling2D)     (None, 90, 1, 4)          0         \n",
      "                                                                 \n",
      " LAYER_29 (Conv2D)           (None, 2, 1, 4)           182       \n",
      "                                                                 \n",
      " LAYER_30 (Activation)       (None, 2, 1, 4)           0         \n",
      "                                                                 \n",
      " LAYER_31_pad (ZeroPadding2  (None, 2, 1, 4)           0         \n",
      " D)                                                              \n",
      "                                                                 \n",
      " LAYER_31 (AveragePooling2D  (None, 2, 1, 1)           0         \n",
      " )                                                               \n",
      "                                                                 \n",
      " LAYER_32 (Reshape)          (None, 2)                 0         \n",
      "                                                                 \n",
      " LAYER_33 (Dense)            (None, 2)                 6         \n",
      "                                                                 \n",
      " LAYER_34 (Lambda)           (None, 2)                 0         \n",
      "                                                                 \n",
      "=================================================================\n",
      "Total params: 140020 (546.95 KB)\n",
      "Trainable params: 140020 (546.95 KB)\n",
      "Non-trainable params: 0 (0.00 Byte)\n",
      "_________________________________________________________________\n"
     ]
    }
   ],
   "source": [
    "k_model.summary()"
   ]
  },
  {
   "cell_type": "code",
   "execution_count": null,
   "id": "0810fe96-03cd-4485-8723-c79fd21159dd",
   "metadata": {},
   "outputs": [],
   "source": []
  }
 ],
 "metadata": {
  "kernelspec": {
   "display_name": "Python 3 (ipykernel)",
   "language": "python",
   "name": "python3"
  },
  "language_info": {
   "codemirror_mode": {
    "name": "ipython",
    "version": 3
   },
   "file_extension": ".py",
   "mimetype": "text/x-python",
   "name": "python",
   "nbconvert_exporter": "python",
   "pygments_lexer": "ipython3",
   "version": "3.9.18"
  }
 },
 "nbformat": 4,
 "nbformat_minor": 5
}
