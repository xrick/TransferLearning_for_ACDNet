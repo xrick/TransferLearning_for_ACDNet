{
 "cells": [
  {
   "cell_type": "code",
   "execution_count": 1,
   "id": "88d5c4b4-4778-4a65-bf00-fb929c3f3e87",
   "metadata": {},
   "outputs": [
    {
     "name": "stderr",
     "output_type": "stream",
     "text": [
      "2024-01-25 13:07:59.424593: I tensorflow/core/util/port.cc:113] oneDNN custom operations are on. You may see slightly different numerical results due to floating-point round-off errors from different computation orders. To turn them off, set the environment variable `TF_ENABLE_ONEDNN_OPTS=0`.\n",
      "2024-01-25 13:07:59.444111: E external/local_xla/xla/stream_executor/cuda/cuda_dnn.cc:9261] Unable to register cuDNN factory: Attempting to register factory for plugin cuDNN when one has already been registered\n",
      "2024-01-25 13:07:59.444130: E external/local_xla/xla/stream_executor/cuda/cuda_fft.cc:607] Unable to register cuFFT factory: Attempting to register factory for plugin cuFFT when one has already been registered\n",
      "2024-01-25 13:07:59.444656: E external/local_xla/xla/stream_executor/cuda/cuda_blas.cc:1515] Unable to register cuBLAS factory: Attempting to register factory for plugin cuBLAS when one has already been registered\n",
      "2024-01-25 13:07:59.448083: I tensorflow/core/platform/cpu_feature_guard.cc:182] This TensorFlow binary is optimized to use available CPU instructions in performance-critical operations.\n",
      "To enable the following instructions: AVX2 AVX_VNNI FMA, in other operations, rebuild TensorFlow with the appropriate compiler flags.\n",
      "2024-01-25 13:07:59.805713: W tensorflow/compiler/tf2tensorrt/utils/py_utils.cc:38] TF-TRT Warning: Could not find TensorRT\n"
     ]
    }
   ],
   "source": [
    "import os\n",
    "import sys\n",
    "import datetime\n",
    "import shutil\n",
    "import numpy as np\n",
    "import tensorflow as tf\n",
    "from tensorflow import keras\n",
    "# import argparse"
   ]
  },
  {
   "cell_type": "code",
   "execution_count": 2,
   "id": "3345235a-c3d3-4ecd-bde6-0fd804566480",
   "metadata": {},
   "outputs": [],
   "source": [
    "def calculate_arena_size(tflite_path):\n",
    "    '''Displays a model summary'''\n",
    "    with tf.io.gfile.GFile(tflite_path, 'rb') as f:\n",
    "      model_content = f.read()\n",
    "    interpreter = tf.lite.Interpreter(model_content = model_content)\n",
    "    interpreter.allocate_tensors()\n",
    "    tensor_details = interpreter.get_tensor_details()\n",
    "    op_details = interpreter._get_ops_details()\n",
    "\n",
    "    get_tensor = lambda index : [t for t in tensor_details if t['index'] == index][0]\n",
    "    get_node_tensors = lambda n : [get_tensor(t) for t in np.concatenate((n['inputs'],n['outputs']), axis= None)]    \n",
    "    get_tensor_size = lambda t : np.prod(t['shape']) * np.dtype(t['dtype']).itemsize\n",
    "    get_node_tensor_sizes = lambda o : np.sum([get_tensor_size(t) for t in get_node_tensors(o)])   \n",
    "    get_max_node_size = lambda : np.max([get_node_tensor_sizes(o) for o in op_details])\n",
    "\n",
    "    return get_max_node_size() \n",
    "\n",
    "    # return (interpreter.get_tensor_details(), \\\n",
    "    #   interpreter._get_ops_details())"
   ]
  },
  {
   "cell_type": "code",
   "execution_count": 4,
   "id": "aa0fd058-3da4-43e6-ad17-924d34f3c3c8",
   "metadata": {
    "scrolled": true
   },
   "outputs": [
    {
     "name": "stdout",
     "output_type": "stream",
     "text": [
      "arena size is: 318169\n"
     ]
    }
   ],
   "source": [
    "modelPath = \"../th/quantized_models/quant_retrained_model_95.4_20240125130552.tflite\";\n",
    "print(f\"arena size is: {calculate_arena_size(modelPath)}\")"
   ]
  },
  {
   "cell_type": "code",
   "execution_count": null,
   "id": "085afd50-8391-41f9-95b0-30b2a3b97b1e",
   "metadata": {},
   "outputs": [],
   "source": []
  }
 ],
 "metadata": {
  "kernelspec": {
   "display_name": "Python 3 (ipykernel)",
   "language": "python",
   "name": "python3"
  },
  "language_info": {
   "codemirror_mode": {
    "name": "ipython",
    "version": 3
   },
   "file_extension": ".py",
   "mimetype": "text/x-python",
   "name": "python",
   "nbconvert_exporter": "python",
   "pygments_lexer": "ipython3",
   "version": "3.10.13"
  }
 },
 "nbformat": 4,
 "nbformat_minor": 5
}
