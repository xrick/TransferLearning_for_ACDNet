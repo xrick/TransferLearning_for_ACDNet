{
 "cells": [
  {
   "cell_type": "code",
   "execution_count": 1,
   "id": "adc68d42-172f-4c6f-9edb-634b04e47f27",
   "metadata": {},
   "outputs": [],
   "source": [
    "import os\n",
    "import sys\n",
    "import numpy as np"
   ]
  },
  {
   "cell_type": "code",
   "execution_count": 2,
   "id": "524c7584-4a57-4144-8ed1-4ee8d91f88e8",
   "metadata": {},
   "outputs": [],
   "source": [
    "import torch\n",
    "from torch.autograd import Variable"
   ]
  },
  {
   "cell_type": "code",
   "execution_count": 3,
   "id": "be75334b-c6d4-4edc-8964-e6b475b1ed15",
   "metadata": {},
   "outputs": [],
   "source": [
    "os.environ['CUDA_VISIBLE_DEVICES'] = '-1'"
   ]
  },
  {
   "cell_type": "code",
   "execution_count": 4,
   "id": "b2a4250a-05c2-4982-aa44-659bf4dc1553",
   "metadata": {
    "scrolled": true
   },
   "outputs": [
    {
     "name": "stderr",
     "output_type": "stream",
     "text": [
      "2024-01-31 16:10:09.682421: I tensorflow/core/util/port.cc:113] oneDNN custom operations are on. You may see slightly different numerical results due to floating-point round-off errors from different computation orders. To turn them off, set the environment variable `TF_ENABLE_ONEDNN_OPTS=0`.\n",
      "2024-01-31 16:10:09.702292: E external/local_xla/xla/stream_executor/cuda/cuda_dnn.cc:9261] Unable to register cuDNN factory: Attempting to register factory for plugin cuDNN when one has already been registered\n",
      "2024-01-31 16:10:09.702311: E external/local_xla/xla/stream_executor/cuda/cuda_fft.cc:607] Unable to register cuFFT factory: Attempting to register factory for plugin cuFFT when one has already been registered\n",
      "2024-01-31 16:10:09.702818: E external/local_xla/xla/stream_executor/cuda/cuda_blas.cc:1515] Unable to register cuBLAS factory: Attempting to register factory for plugin cuBLAS when one has already been registered\n",
      "2024-01-31 16:10:09.706135: I tensorflow/core/platform/cpu_feature_guard.cc:182] This TensorFlow binary is optimized to use available CPU instructions in performance-critical operations.\n",
      "To enable the following instructions: AVX2 AVX_VNNI FMA, in other operations, rebuild TensorFlow with the appropriate compiler flags.\n",
      "2024-01-31 16:10:10.080228: W tensorflow/compiler/tf2tensorrt/utils/py_utils.cc:38] TF-TRT Warning: Could not find TensorRT\n"
     ]
    }
   ],
   "source": [
    "import tensorflow as tf\n",
    "from tensorflow import keras"
   ]
  },
  {
   "cell_type": "code",
   "execution_count": 16,
   "id": "c0db8ec4-e84a-4b8b-973d-935814f053c4",
   "metadata": {},
   "outputs": [],
   "source": [
    "import random\n",
    "seed = 42;\n",
    "random.seed(seed);\n",
    "np.random.seed(seed);\n",
    "torch.manual_seed(seed);\n",
    "if torch.cuda.is_available():\n",
    "    torch.cuda.manual_seed(seed);\n",
    "torch.backends.cudnn.deterministic = True;\n",
    "torch.backends.cudnn.benchmark = False;"
   ]
  },
  {
   "cell_type": "code",
   "execution_count": 9,
   "id": "00c4afd7-9809-450e-ad8b-ed3244da0032",
   "metadata": {},
   "outputs": [],
   "source": [
    "sys.path.append(\"../../\")"
   ]
  },
  {
   "cell_type": "code",
   "execution_count": 10,
   "id": "a703bd59-2a29-4e83-9c3b-d6caa2ee1094",
   "metadata": {},
   "outputs": [],
   "source": [
    "from th.resources import models\n",
    "from th.resources import calculator as calc"
   ]
  },
  {
   "cell_type": "code",
   "execution_count": 11,
   "id": "5ebdf061-51aa-4b00-bc59-de537d1fcabb",
   "metadata": {},
   "outputs": [],
   "source": [
    "src_pt_model_path = \"../retrained_models_after_pruned/retrained_model_20240124123209_acc_95.45455169677734_795th_epoch.pt\"\n",
    "random_weigths_pruned_keras_model_path = \"../keras_models/pruned_model_copy_weights_from_retrained_model_20240124123209_acc_95.45455169677734_v3.keras\""
   ]
  },
  {
   "cell_type": "code",
   "execution_count": 12,
   "id": "6e0b925a-cb52-4134-9c15-ca4bc2930214",
   "metadata": {},
   "outputs": [
    {
     "data": {
      "text/plain": [
       "<All keys matched successfully>"
      ]
     },
     "execution_count": 12,
     "metadata": {},
     "output_type": "execute_result"
    }
   ],
   "source": [
    "state = torch.load(src_pt_model_path,map_location='cpu')\n",
    "torch_model_weights = state['weight']\n",
    "config = state['config']\n",
    "test_torch_model = models.GetACDNetModel(input_len=30225, nclass=2, sr=20000, channel_config=config)\n",
    "test_torch_model.load_state_dict(torch_model_weights)"
   ]
  },
  {
   "cell_type": "code",
   "execution_count": 13,
   "id": "ec362c4d-2f02-41f0-b282-4e50d1cabfc2",
   "metadata": {},
   "outputs": [
    {
     "name": "stderr",
     "output_type": "stream",
     "text": [
      "2024-01-31 16:10:43.757596: E external/local_xla/xla/stream_executor/cuda/cuda_driver.cc:274] failed call to cuInit: CUDA_ERROR_NO_DEVICE: no CUDA-capable device is detected\n",
      "2024-01-31 16:10:43.757613: I external/local_xla/xla/stream_executor/cuda/cuda_diagnostics.cc:129] retrieving CUDA diagnostic information for host: aiw\n",
      "2024-01-31 16:10:43.757615: I external/local_xla/xla/stream_executor/cuda/cuda_diagnostics.cc:136] hostname: aiw\n",
      "2024-01-31 16:10:43.757642: I external/local_xla/xla/stream_executor/cuda/cuda_diagnostics.cc:159] libcuda reported version is: 545.29.6\n",
      "2024-01-31 16:10:43.757653: I external/local_xla/xla/stream_executor/cuda/cuda_diagnostics.cc:163] kernel reported version is: 545.29.6\n",
      "2024-01-31 16:10:43.757655: I external/local_xla/xla/stream_executor/cuda/cuda_diagnostics.cc:241] kernel version seems to match DSO: 545.29.6\n"
     ]
    }
   ],
   "source": [
    "random_weigths_pruned_keras_model = keras.models.load_model(random_weigths_pruned_keras_model_path)"
   ]
  },
  {
   "cell_type": "code",
   "execution_count": 21,
   "id": "e641be98-214d-40a8-99ff-edb49736ef79",
   "metadata": {},
   "outputs": [
    {
     "name": "stdout",
     "output_type": "stream",
     "text": [
      "tensor([[[[ 0.5255, -1.0540,  1.0037,  ...,  0.2200, -0.2230, -1.2847]]]])\n",
      "(1, 1, 30225, 1)\n"
     ]
    }
   ],
   "source": [
    "input_torch_tensor = torch.randn(1,1,1,30225)\n",
    "print(input_torch_tensor)\n",
    "input_np = input_torch_tensor.numpy()\n",
    "input_tf_var = tf.convert_to_tensor(np.transpose(input_np,(1,2,3,0)))\n",
    "print(input_tf_var.shape)"
   ]
  },
  {
   "cell_type": "code",
   "execution_count": 22,
   "id": "4740e1bd-7290-43a4-9784-f44965c0ec17",
   "metadata": {},
   "outputs": [
    {
     "name": "stdout",
     "output_type": "stream",
     "text": [
      "1/1 [==============================] - 0s 11ms/step\n"
     ]
    },
    {
     "data": {
      "text/plain": [
       "array([[0.38819686, 0.6118032 ]], dtype=float32)"
      ]
     },
     "execution_count": 22,
     "metadata": {},
     "output_type": "execute_result"
    }
   ],
   "source": [
    "random_weigths_pruned_keras_model.predict(input_tf_var)"
   ]
  },
  {
   "cell_type": "code",
   "execution_count": 23,
   "id": "a7fa486b-e6f0-444b-b3e2-af8565552c89",
   "metadata": {},
   "outputs": [
    {
     "name": "stdout",
     "output_type": "stream",
     "text": [
      "tensor([[0.6598, 0.3402]], grad_fn=<SoftmaxBackward0>)\n",
      "<class 'th.resources.models.ACDNetV2'>\n"
     ]
    }
   ],
   "source": [
    "print(test_torch_model(input_torch_tensor))\n",
    "print(type(test_torch_model))"
   ]
  },
  {
   "cell_type": "code",
   "execution_count": 20,
   "id": "2931955e-e14f-4789-a0d7-779952b181b2",
   "metadata": {},
   "outputs": [
    {
     "name": "stdout",
     "output_type": "stream",
     "text": [
      "Model: \"model_1\"\n",
      "_________________________________________________________________\n",
      " Layer (type)                Output Shape              Param #   \n",
      "=================================================================\n",
      " input_2 (InputLayer)        [(None, 1, 30225, 1)]     0         \n",
      "                                                                 \n",
      " conv2d_12 (Conv2D)          (None, 1, 15109, 5)       45        \n",
      "                                                                 \n",
      " batch_normalization_12 (Ba  (None, 1, 15109, 5)       20        \n",
      " tchNormalization)                                               \n",
      "                                                                 \n",
      " re_lu_12 (ReLU)             (None, 1, 15109, 5)       0         \n",
      "                                                                 \n",
      " conv2d_13 (Conv2D)          (None, 1, 7553, 32)       800       \n",
      "                                                                 \n",
      " batch_normalization_13 (Ba  (None, 1, 7553, 32)       128       \n",
      " tchNormalization)                                               \n",
      "                                                                 \n",
      " re_lu_13 (ReLU)             (None, 1, 7553, 32)       0         \n",
      "                                                                 \n",
      " max_pooling2d_6 (MaxPoolin  (None, 1, 151, 32)        0         \n",
      " g2D)                                                            \n",
      "                                                                 \n",
      " permute_1 (Permute)         (None, 32, 151, 1)        0         \n",
      "                                                                 \n",
      " conv2d_14 (Conv2D)          (None, 32, 151, 9)        81        \n",
      "                                                                 \n",
      " batch_normalization_14 (Ba  (None, 32, 151, 9)        36        \n",
      " tchNormalization)                                               \n",
      "                                                                 \n",
      " re_lu_14 (ReLU)             (None, 32, 151, 9)        0         \n",
      "                                                                 \n",
      " max_pooling2d_7 (MaxPoolin  (None, 16, 75, 9)         0         \n",
      " g2D)                                                            \n",
      "                                                                 \n",
      " conv2d_15 (Conv2D)          (None, 16, 75, 16)        1296      \n",
      "                                                                 \n",
      " batch_normalization_15 (Ba  (None, 16, 75, 16)        64        \n",
      " tchNormalization)                                               \n",
      "                                                                 \n",
      " re_lu_15 (ReLU)             (None, 16, 75, 16)        0         \n",
      "                                                                 \n",
      " conv2d_16 (Conv2D)          (None, 16, 75, 23)        3312      \n",
      "                                                                 \n",
      " batch_normalization_16 (Ba  (None, 16, 75, 23)        92        \n",
      " tchNormalization)                                               \n",
      "                                                                 \n",
      " re_lu_16 (ReLU)             (None, 16, 75, 23)        0         \n",
      "                                                                 \n",
      " max_pooling2d_8 (MaxPoolin  (None, 8, 37, 23)         0         \n",
      " g2D)                                                            \n",
      "                                                                 \n",
      " conv2d_17 (Conv2D)          (None, 8, 37, 33)         6831      \n",
      "                                                                 \n",
      " batch_normalization_17 (Ba  (None, 8, 37, 33)         132       \n",
      " tchNormalization)                                               \n",
      "                                                                 \n",
      " re_lu_17 (ReLU)             (None, 8, 37, 33)         0         \n",
      "                                                                 \n",
      " conv2d_18 (Conv2D)          (None, 8, 37, 29)         8613      \n",
      "                                                                 \n",
      " batch_normalization_18 (Ba  (None, 8, 37, 29)         116       \n",
      " tchNormalization)                                               \n",
      "                                                                 \n",
      " re_lu_18 (ReLU)             (None, 8, 37, 29)         0         \n",
      "                                                                 \n",
      " max_pooling2d_9 (MaxPoolin  (None, 4, 18, 29)         0         \n",
      " g2D)                                                            \n",
      "                                                                 \n",
      " conv2d_19 (Conv2D)          (None, 4, 18, 56)         14616     \n",
      "                                                                 \n",
      " batch_normalization_19 (Ba  (None, 4, 18, 56)         224       \n",
      " tchNormalization)                                               \n",
      "                                                                 \n",
      " re_lu_19 (ReLU)             (None, 4, 18, 56)         0         \n",
      "                                                                 \n",
      " conv2d_20 (Conv2D)          (None, 4, 18, 47)         23688     \n",
      "                                                                 \n",
      " batch_normalization_20 (Ba  (None, 4, 18, 47)         188       \n",
      " tchNormalization)                                               \n",
      "                                                                 \n",
      " re_lu_20 (ReLU)             (None, 4, 18, 47)         0         \n",
      "                                                                 \n",
      " max_pooling2d_10 (MaxPooli  (None, 2, 9, 47)          0         \n",
      " ng2D)                                                           \n",
      "                                                                 \n",
      " conv2d_21 (Conv2D)          (None, 2, 9, 65)          27495     \n",
      "                                                                 \n",
      " batch_normalization_21 (Ba  (None, 2, 9, 65)          260       \n",
      " tchNormalization)                                               \n",
      "                                                                 \n",
      " re_lu_21 (ReLU)             (None, 2, 9, 65)          0         \n",
      "                                                                 \n",
      " conv2d_22 (Conv2D)          (None, 2, 9, 90)          52650     \n",
      "                                                                 \n",
      " batch_normalization_22 (Ba  (None, 2, 9, 90)          360       \n",
      " tchNormalization)                                               \n",
      "                                                                 \n",
      " re_lu_22 (ReLU)             (None, 2, 9, 90)          0         \n",
      "                                                                 \n",
      " max_pooling2d_11 (MaxPooli  (None, 1, 4, 90)          0         \n",
      " ng2D)                                                           \n",
      "                                                                 \n",
      " dropout_1 (Dropout)         (None, 1, 4, 90)          0         \n",
      "                                                                 \n",
      " conv2d_23 (Conv2D)          (None, 1, 4, 2)           180       \n",
      "                                                                 \n",
      " batch_normalization_23 (Ba  (None, 1, 4, 2)           8         \n",
      " tchNormalization)                                               \n",
      "                                                                 \n",
      " re_lu_23 (ReLU)             (None, 1, 4, 2)           0         \n",
      "                                                                 \n",
      " average_pooling2d_1 (Avera  (None, 1, 1, 2)           0         \n",
      " gePooling2D)                                                    \n",
      "                                                                 \n",
      " flatten_1 (Flatten)         (None, 2)                 0         \n",
      "                                                                 \n",
      " dense_1 (Dense)             (None, 2)                 6         \n",
      "                                                                 \n",
      " softmax_1 (Softmax)         (None, 2)                 0         \n",
      "                                                                 \n",
      "=================================================================\n",
      "Total params: 141241 (551.72 KB)\n",
      "Trainable params: 140427 (548.54 KB)\n",
      "Non-trainable params: 814 (3.18 KB)\n",
      "_________________________________________________________________\n"
     ]
    }
   ],
   "source": [
    "random_weigths_pruned_keras_model.summary()"
   ]
  },
  {
   "cell_type": "code",
   "execution_count": 19,
   "id": "4c4b7dcd-8777-4092-aacd-d97c4dccbc52",
   "metadata": {},
   "outputs": [
    {
     "name": "stdout",
     "output_type": "stream",
     "text": [
      "+----------------------------------------------------------------------------+\n",
      "+                           Pytorch Model Summary                            +\n",
      "------------------------------------------------------------------------------\n",
      "   Layer (type)       Input Shape      Output Shape    Param #      FLOPS #\n",
      "==============================================================================\n",
      "       Conv2d-1     (1, 1, 30225)     (5, 1, 15109)         45      679,905\n",
      "  BatchNorm2d-2     (5, 1, 15109)     (5, 1, 15109)         10            0\n",
      "         ReLu-3     (5, 1, 15109)     (5, 1, 15109)          0       75,545\n",
      "       Conv2d-4     (5, 1, 15109)     (32, 1, 7553)        800    6,042,400\n",
      "  BatchNorm2d-5     (32, 1, 7553)     (32, 1, 7553)         64            0\n",
      "         ReLu-6     (32, 1, 7553)     (32, 1, 7553)          0      241,696\n",
      "    MaxPool2d-7     (32, 1, 7553)      (32, 1, 151)          0      241,600\n",
      "      Permute-8      (32, 1, 151)      (1, 32, 151)          0            0\n",
      "       Conv2d-9      (1, 32, 151)      (9, 32, 151)         81      391,392\n",
      " BatchNorm2d-10      (9, 32, 151)      (9, 32, 151)         18            0\n",
      "        ReLu-11      (9, 32, 151)      (9, 32, 151)          0       43,488\n",
      "   MaxPool2d-12      (9, 32, 151)       (9, 16, 75)          0       43,200\n",
      "      Conv2d-13       (9, 16, 75)      (16, 16, 75)      1,296    1,555,200\n",
      " BatchNorm2d-14      (16, 16, 75)      (16, 16, 75)         32            0\n",
      "        ReLu-15      (16, 16, 75)      (16, 16, 75)          0       19,200\n",
      "      Conv2d-16      (16, 16, 75)      (23, 16, 75)      3,312    3,974,400\n",
      " BatchNorm2d-17      (23, 16, 75)      (23, 16, 75)         46            0\n",
      "        ReLu-18      (23, 16, 75)      (23, 16, 75)          0       27,600\n",
      "   MaxPool2d-19      (23, 16, 75)       (23, 8, 37)          0       27,232\n",
      "      Conv2d-20       (23, 8, 37)       (33, 8, 37)      6,831    2,021,976\n",
      " BatchNorm2d-21       (33, 8, 37)       (33, 8, 37)         66            0\n",
      "        ReLu-22       (33, 8, 37)       (33, 8, 37)          0        9,768\n",
      "      Conv2d-23       (33, 8, 37)       (29, 8, 37)      8,613    2,549,448\n",
      " BatchNorm2d-24       (29, 8, 37)       (29, 8, 37)         58            0\n",
      "        ReLu-25       (29, 8, 37)       (29, 8, 37)          0        8,584\n",
      "   MaxPool2d-26       (29, 8, 37)       (29, 4, 18)          0        8,352\n",
      "      Conv2d-27       (29, 4, 18)       (56, 4, 18)     14,616    1,052,352\n",
      " BatchNorm2d-28       (56, 4, 18)       (56, 4, 18)        112            0\n",
      "        ReLu-29       (56, 4, 18)       (56, 4, 18)          0        4,032\n",
      "      Conv2d-30       (56, 4, 18)       (47, 4, 18)     23,688    1,705,536\n",
      " BatchNorm2d-31       (47, 4, 18)       (47, 4, 18)         94            0\n",
      "        ReLu-32       (47, 4, 18)       (47, 4, 18)          0        3,384\n",
      "   MaxPool2d-33       (47, 4, 18)        (47, 2, 9)          0        3,384\n",
      "      Conv2d-34        (47, 2, 9)        (65, 2, 9)     27,495      494,910\n",
      " BatchNorm2d-35        (65, 2, 9)        (65, 2, 9)        130            0\n",
      "        ReLu-36        (65, 2, 9)        (65, 2, 9)          0        1,170\n",
      "      Conv2d-37        (65, 2, 9)        (90, 2, 9)     52,650      947,700\n",
      " BatchNorm2d-38        (90, 2, 9)        (90, 2, 9)        180            0\n",
      "        ReLu-39        (90, 2, 9)        (90, 2, 9)          0        1,620\n",
      "   MaxPool2d-40        (90, 2, 9)        (90, 1, 4)          0        1,440\n",
      "      Conv2d-41        (90, 1, 4)         (2, 1, 4)        180          720\n",
      " BatchNorm2d-42         (2, 1, 4)         (2, 1, 4)          4            0\n",
      "        ReLu-43         (2, 1, 4)         (2, 1, 4)          0            8\n",
      "   AvgPool2d-44         (2, 1, 4)         (2, 1, 1)          0            8\n",
      "     Flatten-45         (2, 1, 1)            (1, 2)          0            0\n",
      "      Linear-46            (1, 2)            (1, 2)          6            6\n",
      "     Softmax-47            (1, 2)            (1, 2)          0            2\n",
      "==============================================================================\n",
      "Total Params: 140,427\n",
      "Total FLOPs : 22,177,258\n",
      "------------------------------------------------------------------------------\n",
      "Input size (MB) : 0.12\n",
      "Params size (MB): 0.54\n",
      "Total size (MB) : 0.65\n",
      "------------------------------------------------------------------------------\n",
      "\n"
     ]
    }
   ],
   "source": [
    "calc.summary(test_torch_model, (1,1,30225))"
   ]
  },
  {
   "cell_type": "markdown",
   "id": "8403e901-15aa-4fff-b355-f053cef0073a",
   "metadata": {},
   "source": [
    "## pytorch conv2d NCHW || tensorflow conv2d NHWC"
   ]
  },
  {
   "cell_type": "code",
   "execution_count": 20,
   "id": "d62ee79f-0167-4c64-996d-c617417202e6",
   "metadata": {},
   "outputs": [],
   "source": [
    "t2t_conv_pos_mov = (2,3,1,0)\n",
    "# t2t_conv_pos_mov = (1,2,3,0)"
   ]
  },
  {
   "cell_type": "code",
   "execution_count": 21,
   "id": "ea9037ec-ad02-462b-a12e-358e1c4b77aa",
   "metadata": {},
   "outputs": [],
   "source": [
    "# set the conv2d_12 weights\n",
    "tmp_w = torch.permute(torch_model_weights['sfeb.0.weight'],t2t_conv_pos_mov)\n",
    "random_weigths_pruned_keras_model.get_layer('conv2d_12').set_weights([tmp_w.cpu()])"
   ]
  },
  {
   "cell_type": "code",
   "execution_count": 22,
   "id": "ba0cc9ce-6246-4a1f-af35-fe4d4bdb680a",
   "metadata": {},
   "outputs": [],
   "source": [
    "#set the batch_normalization_12\n",
    "tmp_w1 = torch_model_weights['sfeb.1.weight'].cpu()\n",
    "tmp_w2 = torch_model_weights['sfeb.1.bias'].cpu()\n",
    "tmp_w3 = torch_model_weights['sfeb.1.running_mean'].cpu()\n",
    "tmp_w4 = torch_model_weights['sfeb.1.running_var'].cpu()\n",
    "random_weigths_pruned_keras_model.get_layer('batch_normalization_12').set_weights([tmp_w1,tmp_w2,tmp_w3,tmp_w4])"
   ]
  },
  {
   "cell_type": "code",
   "execution_count": 23,
   "id": "db8e039a-1cbc-400c-b618-dcf8e36969a8",
   "metadata": {},
   "outputs": [
    {
     "name": "stdout",
     "output_type": "stream",
     "text": [
      "torch.Size([32, 5, 1, 5])\n",
      "torch.Size([1, 5, 5, 32])\n"
     ]
    }
   ],
   "source": [
    "#set the conv2d_13 weights\n",
    "print(torch_model_weights['sfeb.3.weight'].shape)\n",
    "tmp_w = torch.permute(torch_model_weights['sfeb.3.weight'],(2,3,1,0)) \n",
    "print(tmp_w.shape)\n",
    "random_weigths_pruned_keras_model.get_layer('conv2d_13').set_weights([tmp_w.cpu()])"
   ]
  },
  {
   "cell_type": "code",
   "execution_count": 24,
   "id": "246602c2-caa3-4707-9f8c-efa73fc7db59",
   "metadata": {},
   "outputs": [],
   "source": [
    "#set the batch_normalization_13\n",
    "tmp_w1 = torch_model_weights['sfeb.4.weight'].cpu()\n",
    "tmp_w2 = torch_model_weights['sfeb.4.bias'].cpu()\n",
    "tmp_w3 = torch_model_weights['sfeb.4.running_mean'].cpu()\n",
    "tmp_w4 = torch_model_weights['sfeb.4.running_var'].cpu()\n",
    "random_weigths_pruned_keras_model.get_layer('batch_normalization_13').set_weights([tmp_w1,tmp_w2,tmp_w3,tmp_w4])"
   ]
  },
  {
   "cell_type": "code",
   "execution_count": 25,
   "id": "5663bfb2-1196-4628-a42a-324b801faa5c",
   "metadata": {},
   "outputs": [
    {
     "name": "stdout",
     "output_type": "stream",
     "text": [
      "torch.Size([9, 1, 3, 3])\n",
      "torch.Size([3, 3, 1, 9])\n"
     ]
    }
   ],
   "source": [
    "#set the conv2d_14 weights\n",
    "# Layer conv2d_14 weight shape (3, 3, 1, 9) is not compatible with provided weight shape torch.Size([9, 1, 3, 3]).\n",
    "tmp_w = torch_model_weights['tfeb.0.weight']\n",
    "print(tmp_w.shape)\n",
    "tmp_w = torch.permute(tmp_w,t2t_conv_pos_mov)\n",
    "print(tmp_w.shape)\n",
    "random_weigths_pruned_keras_model.get_layer('conv2d_14').set_weights([tmp_w.cpu()])"
   ]
  },
  {
   "cell_type": "code",
   "execution_count": 26,
   "id": "046f1bab-b27d-47f1-9736-f7433ae5b7b7",
   "metadata": {},
   "outputs": [],
   "source": [
    "#set the batch_normalization_14\n",
    "tmp_w1 = torch_model_weights['tfeb.1.weight'].cpu()\n",
    "tmp_w2 = torch_model_weights['tfeb.1.bias'].cpu()\n",
    "tmp_w3 = torch_model_weights['tfeb.1.running_mean'].cpu()\n",
    "tmp_w4 = torch_model_weights['tfeb.1.running_var'].cpu()\n",
    "random_weigths_pruned_keras_model.get_layer('batch_normalization_14').set_weights([tmp_w1,tmp_w2,tmp_w3,tmp_w4])"
   ]
  },
  {
   "cell_type": "code",
   "execution_count": 27,
   "id": "a29cfcc1-d95d-48fc-a83f-b0f477adc9e7",
   "metadata": {},
   "outputs": [
    {
     "name": "stdout",
     "output_type": "stream",
     "text": [
      "torch.Size([16, 9, 3, 3])\n",
      "torch.Size([3, 3, 9, 16])\n"
     ]
    }
   ],
   "source": [
    "#set the conv2d_15 weights\n",
    "tmp_w = torch_model_weights['tfeb.4.weight']\n",
    "print(tmp_w.shape)\n",
    "tmp_w = torch.permute(tmp_w,t2t_conv_pos_mov)\n",
    "print(tmp_w.shape)\n",
    "random_weigths_pruned_keras_model.get_layer('conv2d_15').set_weights([tmp_w.cpu()])"
   ]
  },
  {
   "cell_type": "code",
   "execution_count": 28,
   "id": "33812a3e-6468-4165-820a-ac1f64074c33",
   "metadata": {},
   "outputs": [],
   "source": [
    "#set the batch_normalization_15\n",
    "tmp_w1 = torch_model_weights['tfeb.5.weight'].cpu()\n",
    "tmp_w2 = torch_model_weights['tfeb.5.bias'].cpu()\n",
    "tmp_w3 = torch_model_weights['tfeb.5.running_mean'].cpu()\n",
    "tmp_w4 = torch_model_weights['tfeb.5.running_var'].cpu()\n",
    "random_weigths_pruned_keras_model.get_layer('batch_normalization_15').set_weights([tmp_w1,tmp_w2,tmp_w3,tmp_w4])"
   ]
  },
  {
   "cell_type": "code",
   "execution_count": 29,
   "id": "1757c42b-dad5-4f52-8f68-91f8c287cd80",
   "metadata": {},
   "outputs": [
    {
     "name": "stdout",
     "output_type": "stream",
     "text": [
      "torch.Size([23, 16, 3, 3])\n",
      "torch.Size([3, 3, 16, 23])\n"
     ]
    }
   ],
   "source": [
    "#set the conv2d_16 weights\n",
    "tmp_w = torch_model_weights['tfeb.7.weight']\n",
    "print(tmp_w.shape)\n",
    "tmp_w = torch.permute(tmp_w,t2t_conv_pos_mov)\n",
    "print(tmp_w.shape)\n",
    "random_weigths_pruned_keras_model.get_layer('conv2d_16').set_weights([tmp_w.cpu()])"
   ]
  },
  {
   "cell_type": "code",
   "execution_count": 30,
   "id": "7a6a7e68-9dd3-4111-aac6-94bc1df1920f",
   "metadata": {},
   "outputs": [],
   "source": [
    "#set the batch_normalization_16\n",
    "tmp_w1 = torch_model_weights['tfeb.8.weight'].cpu()\n",
    "tmp_w2 = torch_model_weights['tfeb.8.bias'].cpu()\n",
    "tmp_w3 = torch_model_weights['tfeb.8.running_mean'].cpu()\n",
    "tmp_w4 = torch_model_weights['tfeb.8.running_var'].cpu()\n",
    "random_weigths_pruned_keras_model.get_layer('batch_normalization_16').set_weights([tmp_w1,tmp_w2,tmp_w3,tmp_w4])"
   ]
  },
  {
   "cell_type": "code",
   "execution_count": 31,
   "id": "bb42265a-23d1-4db1-a796-52b76ffb778e",
   "metadata": {},
   "outputs": [
    {
     "name": "stdout",
     "output_type": "stream",
     "text": [
      "torch.Size([33, 23, 3, 3])\n",
      "torch.Size([3, 3, 23, 33])\n"
     ]
    }
   ],
   "source": [
    "#set the conv2d_17 weights\n",
    "tmp_w = torch_model_weights['tfeb.11.weight']\n",
    "print(tmp_w.shape)\n",
    "tmp_w = torch.permute(tmp_w,t2t_conv_pos_mov)\n",
    "print(tmp_w.shape)\n",
    "random_weigths_pruned_keras_model.get_layer('conv2d_17').set_weights([tmp_w.cpu()])"
   ]
  },
  {
   "cell_type": "code",
   "execution_count": 32,
   "id": "b8d4dd53-1e17-4c74-acf0-8196c49ee2d3",
   "metadata": {},
   "outputs": [],
   "source": [
    "#set the batch_normalization_17\n",
    "tmp_w1 = torch_model_weights['tfeb.12.weight'].cpu()\n",
    "tmp_w2 = torch_model_weights['tfeb.12.bias'].cpu()\n",
    "tmp_w3 = torch_model_weights['tfeb.12.running_mean'].cpu()\n",
    "tmp_w4 = torch_model_weights['tfeb.12.running_var'].cpu()\n",
    "random_weigths_pruned_keras_model.get_layer('batch_normalization_17').set_weights([tmp_w1,tmp_w2,tmp_w3,tmp_w4])"
   ]
  },
  {
   "cell_type": "code",
   "execution_count": 33,
   "id": "12ce939d-c716-4a7c-81fa-d319a374a975",
   "metadata": {},
   "outputs": [
    {
     "name": "stdout",
     "output_type": "stream",
     "text": [
      "torch.Size([29, 33, 3, 3])\n",
      "torch.Size([3, 3, 33, 29])\n"
     ]
    }
   ],
   "source": [
    "#set the conv2d_18 weights\n",
    "tmp_w = torch_model_weights['tfeb.14.weight']\n",
    "print(tmp_w.shape)\n",
    "tmp_w = torch.permute(tmp_w,t2t_conv_pos_mov)\n",
    "print(tmp_w.shape)\n",
    "random_weigths_pruned_keras_model.get_layer('conv2d_18').set_weights([tmp_w.cpu()])"
   ]
  },
  {
   "cell_type": "code",
   "execution_count": 34,
   "id": "7e055ba9-2c77-4349-a36e-bcf69e45d598",
   "metadata": {},
   "outputs": [],
   "source": [
    "#set the batch_normalization_18\n",
    "tmp_w1 = torch_model_weights['tfeb.15.weight'].cpu()\n",
    "tmp_w2 = torch_model_weights['tfeb.15.bias'].cpu()\n",
    "tmp_w3 = torch_model_weights['tfeb.15.running_mean'].cpu()\n",
    "tmp_w4 = torch_model_weights['tfeb.15.running_var'].cpu()\n",
    "random_weigths_pruned_keras_model.get_layer('batch_normalization_18').set_weights([tmp_w1,tmp_w2,tmp_w3,tmp_w4])"
   ]
  },
  {
   "cell_type": "code",
   "execution_count": 35,
   "id": "595423d4-ef47-4aef-a12e-cc18e47d200c",
   "metadata": {},
   "outputs": [
    {
     "name": "stdout",
     "output_type": "stream",
     "text": [
      "torch.Size([56, 29, 3, 3])\n",
      "torch.Size([3, 3, 29, 56])\n"
     ]
    }
   ],
   "source": [
    "#set the conv2d_19 weights\n",
    "tmp_w = torch_model_weights['tfeb.18.weight']\n",
    "print(tmp_w.shape)\n",
    "tmp_w = torch.permute(tmp_w,t2t_conv_pos_mov)\n",
    "print(tmp_w.shape)\n",
    "random_weigths_pruned_keras_model.get_layer('conv2d_19').set_weights([tmp_w.cpu()])"
   ]
  },
  {
   "cell_type": "code",
   "execution_count": 36,
   "id": "68a2039e-185f-4200-8f86-415be817f52d",
   "metadata": {},
   "outputs": [],
   "source": [
    "#set the batch_normalization_19\n",
    "tmp_w1 = torch_model_weights['tfeb.19.weight'].cpu()\n",
    "tmp_w2 = torch_model_weights['tfeb.19.bias'].cpu()\n",
    "tmp_w3 = torch_model_weights['tfeb.19.running_mean'].cpu()\n",
    "tmp_w4 = torch_model_weights['tfeb.19.running_var'].cpu()\n",
    "random_weigths_pruned_keras_model.get_layer('batch_normalization_19').set_weights([tmp_w1,tmp_w2,tmp_w3,tmp_w4])"
   ]
  },
  {
   "cell_type": "code",
   "execution_count": 37,
   "id": "b3728102-189a-4362-972a-827fc0740bf1",
   "metadata": {},
   "outputs": [
    {
     "name": "stdout",
     "output_type": "stream",
     "text": [
      "torch.Size([47, 56, 3, 3])\n",
      "torch.Size([3, 3, 56, 47])\n"
     ]
    }
   ],
   "source": [
    "#set the conv2d_20 weights\n",
    "tmp_w = torch_model_weights['tfeb.21.weight']\n",
    "print(tmp_w.shape)\n",
    "tmp_w = torch.permute(tmp_w,t2t_conv_pos_mov)\n",
    "print(tmp_w.shape)\n",
    "random_weigths_pruned_keras_model.get_layer('conv2d_20').set_weights([tmp_w.cpu()])"
   ]
  },
  {
   "cell_type": "code",
   "execution_count": 38,
   "id": "9bcdc5d0-9cbe-473d-8888-1d36a26565c5",
   "metadata": {},
   "outputs": [],
   "source": [
    "#set the batch_normalization_20\n",
    "tmp_w1 = torch_model_weights['tfeb.22.weight'].cpu()\n",
    "tmp_w2 = torch_model_weights['tfeb.22.bias'].cpu()\n",
    "tmp_w3 = torch_model_weights['tfeb.22.running_mean'].cpu()\n",
    "tmp_w4 = torch_model_weights['tfeb.22.running_var'].cpu()\n",
    "random_weigths_pruned_keras_model.get_layer('batch_normalization_20').set_weights([tmp_w1,tmp_w2,tmp_w3,tmp_w4])"
   ]
  },
  {
   "cell_type": "code",
   "execution_count": 39,
   "id": "eeb1a3b3-3864-4a3d-9fb4-f9aa57cdff72",
   "metadata": {},
   "outputs": [
    {
     "name": "stdout",
     "output_type": "stream",
     "text": [
      "torch.Size([65, 47, 3, 3])\n",
      "torch.Size([3, 3, 47, 65])\n"
     ]
    }
   ],
   "source": [
    "#set the conv2d_21 weights\n",
    "tmp_w = torch_model_weights['tfeb.25.weight']\n",
    "print(tmp_w.shape)\n",
    "tmp_w = torch.permute(tmp_w,t2t_conv_pos_mov)\n",
    "print(tmp_w.shape)\n",
    "random_weigths_pruned_keras_model.get_layer('conv2d_21').set_weights([tmp_w.cpu()])"
   ]
  },
  {
   "cell_type": "code",
   "execution_count": 40,
   "id": "c64408a5-e250-4851-99ce-f8fb259fae2e",
   "metadata": {},
   "outputs": [],
   "source": [
    "#set the batch_normalization_21\n",
    "tmp_w1 = torch_model_weights['tfeb.26.weight'].cpu()\n",
    "tmp_w2 = torch_model_weights['tfeb.26.bias'].cpu()\n",
    "tmp_w3 = torch_model_weights['tfeb.26.running_mean'].cpu()\n",
    "tmp_w4 = torch_model_weights['tfeb.26.running_var'].cpu()\n",
    "random_weigths_pruned_keras_model.get_layer('batch_normalization_21').set_weights([tmp_w1,tmp_w2,tmp_w3,tmp_w4])"
   ]
  },
  {
   "cell_type": "code",
   "execution_count": 41,
   "id": "7a7bbfa6-759c-40ca-b5b5-db532e292181",
   "metadata": {},
   "outputs": [
    {
     "name": "stdout",
     "output_type": "stream",
     "text": [
      "torch.Size([90, 65, 3, 3])\n",
      "torch.Size([3, 3, 65, 90])\n"
     ]
    }
   ],
   "source": [
    "#set the conv2d_22 weights\n",
    "tmp_w = torch_model_weights['tfeb.28.weight']\n",
    "print(tmp_w.shape)\n",
    "tmp_w = torch.permute(tmp_w,t2t_conv_pos_mov)\n",
    "print(tmp_w.shape)\n",
    "random_weigths_pruned_keras_model.get_layer('conv2d_22').set_weights([tmp_w.cpu()])"
   ]
  },
  {
   "cell_type": "code",
   "execution_count": 42,
   "id": "fd5615ac-9b33-4923-bd9c-e1329d12ce8e",
   "metadata": {},
   "outputs": [],
   "source": [
    "#set the batch_normalization_22\n",
    "tmp_w1 = torch_model_weights['tfeb.29.weight'].cpu()\n",
    "tmp_w2 = torch_model_weights['tfeb.29.bias'].cpu()\n",
    "tmp_w3 = torch_model_weights['tfeb.29.running_mean'].cpu()\n",
    "tmp_w4 = torch_model_weights['tfeb.29.running_var'].cpu()\n",
    "random_weigths_pruned_keras_model.get_layer('batch_normalization_22').set_weights([tmp_w1,tmp_w2,tmp_w3,tmp_w4])"
   ]
  },
  {
   "cell_type": "code",
   "execution_count": 43,
   "id": "4c6551cd-3c93-412f-8b5c-72afa9431326",
   "metadata": {},
   "outputs": [
    {
     "name": "stdout",
     "output_type": "stream",
     "text": [
      "torch.Size([2, 90, 1, 1])\n",
      "torch.Size([1, 1, 90, 2])\n"
     ]
    }
   ],
   "source": [
    "#set the conv2d_23 weights\n",
    "tmp_w = torch_model_weights['tfeb.33.weight']\n",
    "print(tmp_w.shape)\n",
    "tmp_w = torch.permute(tmp_w,t2t_conv_pos_mov)\n",
    "print(tmp_w.shape)\n",
    "random_weigths_pruned_keras_model.get_layer('conv2d_23').set_weights([tmp_w.cpu()])"
   ]
  },
  {
   "cell_type": "code",
   "execution_count": 44,
   "id": "f09b42fb-ba28-43a1-86db-7c20c341fa48",
   "metadata": {},
   "outputs": [],
   "source": [
    "#set the batch_normalization_23\n",
    "tmp_w1 = torch_model_weights['tfeb.34.weight'].cpu()\n",
    "tmp_w2 = torch_model_weights['tfeb.34.bias'].cpu()\n",
    "tmp_w3 = torch_model_weights['tfeb.34.running_mean'].cpu()\n",
    "tmp_w4 = torch_model_weights['tfeb.34.running_var'].cpu()\n",
    "random_weigths_pruned_keras_model.get_layer('batch_normalization_23').set_weights([tmp_w1,tmp_w2,tmp_w3,tmp_w4])"
   ]
  },
  {
   "cell_type": "code",
   "execution_count": 48,
   "id": "8cf21932-30c6-4041-afca-c8c993608474",
   "metadata": {},
   "outputs": [
    {
     "name": "stdout",
     "output_type": "stream",
     "text": [
      "torch.Size([2, 2])\n",
      "tensor([[ 1.3877, -1.2969],\n",
      "        [-1.3315,  1.4445]])\n",
      "tensor([-0.1046, -0.0100])\n",
      "torch.Size([2])\n",
      "torch.Size([2, 2])\n",
      "tensor([[ 1.3877, -1.3315],\n",
      "        [-1.2969,  1.4445]])\n",
      "tensor([-0.1046, -0.0100])\n"
     ]
    }
   ],
   "source": [
    "#set the dense_1 weights\n",
    "dense_w = torch_model_weights['tfeb.38.weight']\n",
    "dense_b = torch_model_weights['tfeb.38.bias'].cpu()\n",
    "print(dense_w.shape)\n",
    "print(dense_w)\n",
    "print(dense_b)\n",
    "dense_b[0] = -0.1046\n",
    "dense_b[1] = -0.0100\n",
    "# dense_b[0], dense_b[1] = dense_b[1], dense_b[0] \n",
    "print(dense_b.shape)\n",
    "dense_w = torch.transpose(dense_w,0,1).cpu()\n",
    "print(dense_w.shape)\n",
    "print(dense_w)\n",
    "print(dense_b)\n",
    "\n",
    "random_weigths_pruned_keras_model.get_layer('dense_1').set_weights([dense_w,dense_b])"
   ]
  },
  {
   "cell_type": "code",
   "execution_count": null,
   "id": "c8e4714e-069f-4c04-a1d1-e495954209a0",
   "metadata": {},
   "outputs": [],
   "source": []
  },
  {
   "cell_type": "code",
   "execution_count": 49,
   "id": "afe0f17f-e716-4a63-bcc3-cf981976af15",
   "metadata": {},
   "outputs": [
    {
     "name": "stderr",
     "output_type": "stream",
     "text": [
      "/home/ai/miniconda3/envs/acdnetenv/lib/python3.10/site-packages/keras/src/engine/training.py:3103: UserWarning: You are saving your model as an HDF5 file via `model.save()`. This file format is considered legacy. We recommend using instead the native Keras format, e.g. `model.save('my_model.keras')`.\n",
      "  saving_api.save_model(\n"
     ]
    }
   ],
   "source": [
    "random_weigths_pruned_keras_model.save(\"../keras_models/pruned_model_copy_weights_from_retrained_model_20240124123209_acc_95.45455169677734_v3.h5\")\n",
    "random_weigths_pruned_keras_model.save(\"../keras_models/pruned_model_copy_weights_from_retrained_model_20240124123209_acc_95.45455169677734_v3.keras\")"
   ]
  },
  {
   "cell_type": "code",
   "execution_count": null,
   "id": "32cc2f77-2ff9-40c3-82cf-0af665452c8e",
   "metadata": {},
   "outputs": [],
   "source": [
    "# random_weigths_pruned_keras_model.get_layer('conv2d_13').weights"
   ]
  },
  {
   "cell_type": "code",
   "execution_count": null,
   "id": "2b2b3ed4-cdb4-4131-b5a4-b55acc0eef60",
   "metadata": {},
   "outputs": [],
   "source": [
    "# torch.permute(torch_model_weights['sfeb.3.weight'],(2,1,3,0))"
   ]
  },
  {
   "cell_type": "code",
   "execution_count": null,
   "id": "ef44498a-a955-403a-ac54-67a858678b53",
   "metadata": {},
   "outputs": [],
   "source": [
    "# torch_model_weights.keys()"
   ]
  },
  {
   "cell_type": "code",
   "execution_count": null,
   "id": "e444aa2b-36ef-42cf-878c-de3669a82b2a",
   "metadata": {},
   "outputs": [],
   "source": [
    "# calc.summary(torch_model, (1,1,30225));"
   ]
  },
  {
   "cell_type": "code",
   "execution_count": null,
   "id": "8020d265-985e-48e9-b976-6647d8cb7e43",
   "metadata": {},
   "outputs": [],
   "source": []
  },
  {
   "cell_type": "code",
   "execution_count": null,
   "id": "bddf8855-f0d1-451c-b8b1-88268e8f3612",
   "metadata": {},
   "outputs": [],
   "source": []
  }
 ],
 "metadata": {
  "kernelspec": {
   "display_name": "Python 3 (ipykernel)",
   "language": "python",
   "name": "python3"
  },
  "language_info": {
   "codemirror_mode": {
    "name": "ipython",
    "version": 3
   },
   "file_extension": ".py",
   "mimetype": "text/x-python",
   "name": "python",
   "nbconvert_exporter": "python",
   "pygments_lexer": "ipython3",
   "version": "3.10.13"
  }
 },
 "nbformat": 4,
 "nbformat_minor": 5
}
