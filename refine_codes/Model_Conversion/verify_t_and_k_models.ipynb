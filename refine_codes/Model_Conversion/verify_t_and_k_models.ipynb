{
 "cells": [
  {
   "cell_type": "code",
   "execution_count": 2,
   "id": "3bd197c6-a973-4f79-ac66-270b809e2617",
   "metadata": {},
   "outputs": [],
   "source": [
    "import os\n",
    "import sys\n",
    "import numpy as np\n",
    "import argparse\n",
    "import random"
   ]
  },
  {
   "cell_type": "code",
   "execution_count": 3,
   "id": "730c634a-67bf-4270-b595-34070dbf9746",
   "metadata": {},
   "outputs": [],
   "source": [
    "sys.path.append(\"../../\")"
   ]
  },
  {
   "cell_type": "code",
   "execution_count": null,
   "id": "9580cbe3-2216-4a81-b3a8-7741967af5b8",
   "metadata": {},
   "outputs": [],
   "source": []
  },
  {
   "cell_type": "code",
   "execution_count": 4,
   "id": "58f9128b-e382-45af-85b9-866ab69f7466",
   "metadata": {},
   "outputs": [],
   "source": [
    "import tensorflow as tf\n",
    "from tensorflow import keras"
   ]
  },
  {
   "cell_type": "code",
   "execution_count": 5,
   "id": "180d2699-8a85-4296-a18c-4da5d34f1050",
   "metadata": {},
   "outputs": [],
   "source": [
    "import torch"
   ]
  },
  {
   "cell_type": "code",
   "execution_count": 6,
   "id": "6591a8e3-db40-46c8-b660-b9173c1200e3",
   "metadata": {},
   "outputs": [
    {
     "name": "stderr",
     "output_type": "stream",
     "text": [
      "2024-01-31 17:03:51.643493: I external/local_xla/xla/stream_executor/cuda/cuda_executor.cc:901] successful NUMA node read from SysFS had negative value (-1), but there must be at least one NUMA node, so returning NUMA node zero. See more at https://github.com/torvalds/linux/blob/v6.0/Documentation/ABI/testing/sysfs-bus-pci#L344-L355\n",
      "2024-01-31 17:03:51.644062: I external/local_xla/xla/stream_executor/cuda/cuda_executor.cc:901] successful NUMA node read from SysFS had negative value (-1), but there must be at least one NUMA node, so returning NUMA node zero. See more at https://github.com/torvalds/linux/blob/v6.0/Documentation/ABI/testing/sysfs-bus-pci#L344-L355\n",
      "2024-01-31 17:03:51.644122: I external/local_xla/xla/stream_executor/cuda/cuda_executor.cc:901] successful NUMA node read from SysFS had negative value (-1), but there must be at least one NUMA node, so returning NUMA node zero. See more at https://github.com/torvalds/linux/blob/v6.0/Documentation/ABI/testing/sysfs-bus-pci#L344-L355\n",
      "2024-01-31 17:03:51.644943: I external/local_xla/xla/stream_executor/cuda/cuda_executor.cc:901] successful NUMA node read from SysFS had negative value (-1), but there must be at least one NUMA node, so returning NUMA node zero. See more at https://github.com/torvalds/linux/blob/v6.0/Documentation/ABI/testing/sysfs-bus-pci#L344-L355\n",
      "2024-01-31 17:03:51.645010: I external/local_xla/xla/stream_executor/cuda/cuda_executor.cc:901] successful NUMA node read from SysFS had negative value (-1), but there must be at least one NUMA node, so returning NUMA node zero. See more at https://github.com/torvalds/linux/blob/v6.0/Documentation/ABI/testing/sysfs-bus-pci#L344-L355\n",
      "2024-01-31 17:03:51.645052: I external/local_xla/xla/stream_executor/cuda/cuda_executor.cc:901] successful NUMA node read from SysFS had negative value (-1), but there must be at least one NUMA node, so returning NUMA node zero. See more at https://github.com/torvalds/linux/blob/v6.0/Documentation/ABI/testing/sysfs-bus-pci#L344-L355\n",
      "2024-01-31 17:03:51.677073: I external/local_xla/xla/stream_executor/cuda/cuda_executor.cc:901] successful NUMA node read from SysFS had negative value (-1), but there must be at least one NUMA node, so returning NUMA node zero. See more at https://github.com/torvalds/linux/blob/v6.0/Documentation/ABI/testing/sysfs-bus-pci#L344-L355\n",
      "2024-01-31 17:03:51.677165: I external/local_xla/xla/stream_executor/cuda/cuda_executor.cc:901] successful NUMA node read from SysFS had negative value (-1), but there must be at least one NUMA node, so returning NUMA node zero. See more at https://github.com/torvalds/linux/blob/v6.0/Documentation/ABI/testing/sysfs-bus-pci#L344-L355\n",
      "2024-01-31 17:03:51.677214: I external/local_xla/xla/stream_executor/cuda/cuda_executor.cc:901] successful NUMA node read from SysFS had negative value (-1), but there must be at least one NUMA node, so returning NUMA node zero. See more at https://github.com/torvalds/linux/blob/v6.0/Documentation/ABI/testing/sysfs-bus-pci#L344-L355\n",
      "2024-01-31 17:03:51.677255: I tensorflow/core/common_runtime/gpu/gpu_device.cc:1929] Created device /job:localhost/replica:0/task:0/device:GPU:0 with 13105 MB memory:  -> device: 0, name: NVIDIA GeForce RTX 4060 Ti, pci bus id: 0000:01:00.0, compute capability: 8.9\n"
     ]
    }
   ],
   "source": [
    "k_model = keras.models.load_model(\"../keras_models/pruned_model_copy_weights_from_retrained_model_20240124123209_acc_95.45455169677734_v3.keras\")"
   ]
  },
  {
   "cell_type": "code",
   "execution_count": 7,
   "id": "0c869b26-f858-4baa-843d-86fc36d2cae0",
   "metadata": {},
   "outputs": [],
   "source": [
    "state = torch.load(\"../retrained_models_after_pruned/retrained_model_20240124123209_acc_95.45455169677734_795th_epoch.pt\")\n",
    "t_weights = state['weight']"
   ]
  },
  {
   "cell_type": "code",
   "execution_count": 8,
   "id": "aeaeaedb-3ede-4786-b991-ec87db3f603a",
   "metadata": {},
   "outputs": [
    {
     "data": {
      "text/plain": [
       "odict_keys(['sfeb.0.weight', 'sfeb.1.weight', 'sfeb.1.bias', 'sfeb.1.running_mean', 'sfeb.1.running_var', 'sfeb.1.num_batches_tracked', 'sfeb.3.weight', 'sfeb.4.weight', 'sfeb.4.bias', 'sfeb.4.running_mean', 'sfeb.4.running_var', 'sfeb.4.num_batches_tracked', 'tfeb.0.weight', 'tfeb.1.weight', 'tfeb.1.bias', 'tfeb.1.running_mean', 'tfeb.1.running_var', 'tfeb.1.num_batches_tracked', 'tfeb.4.weight', 'tfeb.5.weight', 'tfeb.5.bias', 'tfeb.5.running_mean', 'tfeb.5.running_var', 'tfeb.5.num_batches_tracked', 'tfeb.7.weight', 'tfeb.8.weight', 'tfeb.8.bias', 'tfeb.8.running_mean', 'tfeb.8.running_var', 'tfeb.8.num_batches_tracked', 'tfeb.11.weight', 'tfeb.12.weight', 'tfeb.12.bias', 'tfeb.12.running_mean', 'tfeb.12.running_var', 'tfeb.12.num_batches_tracked', 'tfeb.14.weight', 'tfeb.15.weight', 'tfeb.15.bias', 'tfeb.15.running_mean', 'tfeb.15.running_var', 'tfeb.15.num_batches_tracked', 'tfeb.18.weight', 'tfeb.19.weight', 'tfeb.19.bias', 'tfeb.19.running_mean', 'tfeb.19.running_var', 'tfeb.19.num_batches_tracked', 'tfeb.21.weight', 'tfeb.22.weight', 'tfeb.22.bias', 'tfeb.22.running_mean', 'tfeb.22.running_var', 'tfeb.22.num_batches_tracked', 'tfeb.25.weight', 'tfeb.26.weight', 'tfeb.26.bias', 'tfeb.26.running_mean', 'tfeb.26.running_var', 'tfeb.26.num_batches_tracked', 'tfeb.28.weight', 'tfeb.29.weight', 'tfeb.29.bias', 'tfeb.29.running_mean', 'tfeb.29.running_var', 'tfeb.29.num_batches_tracked', 'tfeb.33.weight', 'tfeb.34.weight', 'tfeb.34.bias', 'tfeb.34.running_mean', 'tfeb.34.running_var', 'tfeb.34.num_batches_tracked', 'tfeb.38.weight', 'tfeb.38.bias'])"
      ]
     },
     "execution_count": 8,
     "metadata": {},
     "output_type": "execute_result"
    }
   ],
   "source": [
    "t_weights.keys()"
   ]
  },
  {
   "cell_type": "code",
   "execution_count": 9,
   "id": "a3a0d143-45a1-4582-b9a1-8765abb915c1",
   "metadata": {},
   "outputs": [
    {
     "name": "stdout",
     "output_type": "stream",
     "text": [
      "Model: \"model_1\"\n",
      "_________________________________________________________________\n",
      " Layer (type)                Output Shape              Param #   \n",
      "=================================================================\n",
      " input_2 (InputLayer)        [(None, 1, 30225, 1)]     0         \n",
      "                                                                 \n",
      " conv2d_12 (Conv2D)          (None, 1, 15109, 5)       45        \n",
      "                                                                 \n",
      " batch_normalization_12 (Ba  (None, 1, 15109, 5)       20        \n",
      " tchNormalization)                                               \n",
      "                                                                 \n",
      " re_lu_12 (ReLU)             (None, 1, 15109, 5)       0         \n",
      "                                                                 \n",
      " conv2d_13 (Conv2D)          (None, 1, 7553, 32)       800       \n",
      "                                                                 \n",
      " batch_normalization_13 (Ba  (None, 1, 7553, 32)       128       \n",
      " tchNormalization)                                               \n",
      "                                                                 \n",
      " re_lu_13 (ReLU)             (None, 1, 7553, 32)       0         \n",
      "                                                                 \n",
      " max_pooling2d_6 (MaxPoolin  (None, 1, 151, 32)        0         \n",
      " g2D)                                                            \n",
      "                                                                 \n",
      " permute_1 (Permute)         (None, 32, 151, 1)        0         \n",
      "                                                                 \n",
      " conv2d_14 (Conv2D)          (None, 32, 151, 9)        81        \n",
      "                                                                 \n",
      " batch_normalization_14 (Ba  (None, 32, 151, 9)        36        \n",
      " tchNormalization)                                               \n",
      "                                                                 \n",
      " re_lu_14 (ReLU)             (None, 32, 151, 9)        0         \n",
      "                                                                 \n",
      " max_pooling2d_7 (MaxPoolin  (None, 16, 75, 9)         0         \n",
      " g2D)                                                            \n",
      "                                                                 \n",
      " conv2d_15 (Conv2D)          (None, 16, 75, 16)        1296      \n",
      "                                                                 \n",
      " batch_normalization_15 (Ba  (None, 16, 75, 16)        64        \n",
      " tchNormalization)                                               \n",
      "                                                                 \n",
      " re_lu_15 (ReLU)             (None, 16, 75, 16)        0         \n",
      "                                                                 \n",
      " conv2d_16 (Conv2D)          (None, 16, 75, 23)        3312      \n",
      "                                                                 \n",
      " batch_normalization_16 (Ba  (None, 16, 75, 23)        92        \n",
      " tchNormalization)                                               \n",
      "                                                                 \n",
      " re_lu_16 (ReLU)             (None, 16, 75, 23)        0         \n",
      "                                                                 \n",
      " max_pooling2d_8 (MaxPoolin  (None, 8, 37, 23)         0         \n",
      " g2D)                                                            \n",
      "                                                                 \n",
      " conv2d_17 (Conv2D)          (None, 8, 37, 33)         6831      \n",
      "                                                                 \n",
      " batch_normalization_17 (Ba  (None, 8, 37, 33)         132       \n",
      " tchNormalization)                                               \n",
      "                                                                 \n",
      " re_lu_17 (ReLU)             (None, 8, 37, 33)         0         \n",
      "                                                                 \n",
      " conv2d_18 (Conv2D)          (None, 8, 37, 29)         8613      \n",
      "                                                                 \n",
      " batch_normalization_18 (Ba  (None, 8, 37, 29)         116       \n",
      " tchNormalization)                                               \n",
      "                                                                 \n",
      " re_lu_18 (ReLU)             (None, 8, 37, 29)         0         \n",
      "                                                                 \n",
      " max_pooling2d_9 (MaxPoolin  (None, 4, 18, 29)         0         \n",
      " g2D)                                                            \n",
      "                                                                 \n",
      " conv2d_19 (Conv2D)          (None, 4, 18, 56)         14616     \n",
      "                                                                 \n",
      " batch_normalization_19 (Ba  (None, 4, 18, 56)         224       \n",
      " tchNormalization)                                               \n",
      "                                                                 \n",
      " re_lu_19 (ReLU)             (None, 4, 18, 56)         0         \n",
      "                                                                 \n",
      " conv2d_20 (Conv2D)          (None, 4, 18, 47)         23688     \n",
      "                                                                 \n",
      " batch_normalization_20 (Ba  (None, 4, 18, 47)         188       \n",
      " tchNormalization)                                               \n",
      "                                                                 \n",
      " re_lu_20 (ReLU)             (None, 4, 18, 47)         0         \n",
      "                                                                 \n",
      " max_pooling2d_10 (MaxPooli  (None, 2, 9, 47)          0         \n",
      " ng2D)                                                           \n",
      "                                                                 \n",
      " conv2d_21 (Conv2D)          (None, 2, 9, 65)          27495     \n",
      "                                                                 \n",
      " batch_normalization_21 (Ba  (None, 2, 9, 65)          260       \n",
      " tchNormalization)                                               \n",
      "                                                                 \n",
      " re_lu_21 (ReLU)             (None, 2, 9, 65)          0         \n",
      "                                                                 \n",
      " conv2d_22 (Conv2D)          (None, 2, 9, 90)          52650     \n",
      "                                                                 \n",
      " batch_normalization_22 (Ba  (None, 2, 9, 90)          360       \n",
      " tchNormalization)                                               \n",
      "                                                                 \n",
      " re_lu_22 (ReLU)             (None, 2, 9, 90)          0         \n",
      "                                                                 \n",
      " max_pooling2d_11 (MaxPooli  (None, 1, 4, 90)          0         \n",
      " ng2D)                                                           \n",
      "                                                                 \n",
      " dropout_1 (Dropout)         (None, 1, 4, 90)          0         \n",
      "                                                                 \n",
      " conv2d_23 (Conv2D)          (None, 1, 4, 2)           180       \n",
      "                                                                 \n",
      " batch_normalization_23 (Ba  (None, 1, 4, 2)           8         \n",
      " tchNormalization)                                               \n",
      "                                                                 \n",
      " re_lu_23 (ReLU)             (None, 1, 4, 2)           0         \n",
      "                                                                 \n",
      " average_pooling2d_1 (Avera  (None, 1, 1, 2)           0         \n",
      " gePooling2D)                                                    \n",
      "                                                                 \n",
      " flatten_1 (Flatten)         (None, 2)                 0         \n",
      "                                                                 \n",
      " dense_1 (Dense)             (None, 2)                 6         \n",
      "                                                                 \n",
      " softmax_1 (Softmax)         (None, 2)                 0         \n",
      "                                                                 \n",
      "=================================================================\n",
      "Total params: 141241 (551.72 KB)\n",
      "Trainable params: 140427 (548.54 KB)\n",
      "Non-trainable params: 814 (3.18 KB)\n",
      "_________________________________________________________________\n"
     ]
    }
   ],
   "source": [
    "k_model.summary()"
   ]
  },
  {
   "cell_type": "code",
   "execution_count": 21,
   "id": "1a178e6e-9cbc-4424-8f3e-d8356d68a786",
   "metadata": {},
   "outputs": [],
   "source": [
    "t2k_pos_move = (2,3,1,0)"
   ]
  },
  {
   "cell_type": "markdown",
   "id": "cdb7797e-fd20-41cf-9da4-98ab3e73094c",
   "metadata": {},
   "source": [
    "## sfeb.0.weight vs. conv2d_12"
   ]
  },
  {
   "cell_type": "code",
   "execution_count": 26,
   "id": "5e0997cf-1bf4-4fd8-a107-a85c0443db5a",
   "metadata": {},
   "outputs": [
    {
     "name": "stdout",
     "output_type": "stream",
     "text": [
      "t_weights['sfeb.0.weight'] original shape:torch.Size([5, 1, 1, 9])\n",
      "t_sfeb_0_weight shape after permute:torch.Size([1, 9, 1, 5])\n",
      "k_model.get_layer('conv2d_12'). shape:<class 'keras.src.layers.convolutional.conv2d.Conv2D'>\n",
      "k_conv2d_12_layer weight:\n",
      "[array([[[[ 0.14281216,  0.17640175, -0.4899664 ,  0.11559714,\n",
      "          -0.1485947 ]],\n",
      "\n",
      "        [[ 0.21973214,  0.03517931, -0.5627965 ,  0.11975447,\n",
      "          -0.2087061 ]],\n",
      "\n",
      "        [[ 0.09018669,  0.00690036,  0.02574774, -0.24218576,\n",
      "          -0.03620813]],\n",
      "\n",
      "        [[ 0.7725846 , -0.24780475,  0.5764529 ,  0.37982678,\n",
      "           0.22225192]],\n",
      "\n",
      "        [[-0.21710275, -0.03813766,  0.08965266, -0.8616742 ,\n",
      "           0.08274575]],\n",
      "\n",
      "        [[-0.3066278 , -0.2278304 ,  0.2853256 ,  0.7015828 ,\n",
      "           0.07163105]],\n",
      "\n",
      "        [[-0.36687186,  0.16276164, -0.26189068,  0.10729038,\n",
      "          -0.2701285 ]],\n",
      "\n",
      "        [[-0.10925402,  0.02150343,  0.0166929 , -0.97063   ,\n",
      "           0.09517566]],\n",
      "\n",
      "        [[-0.04914073, -0.41611147,  0.0854072 ,  0.5258428 ,\n",
      "           0.5798342 ]]]], dtype=float32)]\n",
      "t_sfeb_0_weight:\n",
      "tensor([[[[ 0.1428,  0.1764, -0.4900,  0.1156, -0.1486]],\n",
      "\n",
      "         [[ 0.2197,  0.0352, -0.5628,  0.1198, -0.2087]],\n",
      "\n",
      "         [[ 0.0902,  0.0069,  0.0257, -0.2422, -0.0362]],\n",
      "\n",
      "         [[ 0.7726, -0.2478,  0.5765,  0.3798,  0.2223]],\n",
      "\n",
      "         [[-0.2171, -0.0381,  0.0897, -0.8617,  0.0827]],\n",
      "\n",
      "         [[-0.3066, -0.2278,  0.2853,  0.7016,  0.0716]],\n",
      "\n",
      "         [[-0.3669,  0.1628, -0.2619,  0.1073, -0.2701]],\n",
      "\n",
      "         [[-0.1093,  0.0215,  0.0167, -0.9706,  0.0952]],\n",
      "\n",
      "         [[-0.0491, -0.4161,  0.0854,  0.5258,  0.5798]]]], device='cuda:0')\n"
     ]
    }
   ],
   "source": [
    "t_sfeb_0_weight = t_weights['sfeb.0.weight']\n",
    "print(f\"t_weights['sfeb.0.weight'] original shape:{t_sfeb_0_weight.shape}\")\n",
    "t_sfeb_0_weight = torch.permute(t_sfeb_0_weight,t2k_pos_move)\n",
    "print(f\"t_sfeb_0_weight shape after permute:{t_sfeb_0_weight.shape}\")\n",
    "k_conv2d_12_layer = k_model.get_layer('conv2d_12')\n",
    "print(f\"k_model.get_layer('conv2d_12'). shape:{type(k_conv2d_12_layer)}\")\n",
    "print(f\"k_conv2d_12_layer weight:\\n{k_model.get_layer('conv2d_12').get_weights()}\")\n",
    "print(f\"t_sfeb_0_weight:\\n{t_sfeb_0_weight}\")"
   ]
  },
  {
   "cell_type": "markdown",
   "id": "c224ead5-eca2-4567-86e7-44785a6bf6ab",
   "metadata": {},
   "source": [
    "## ('sfeb.1.weight', 'sfeb.1.bias', 'sfeb.1.running_mean', 'sfeb.1.running_var') vs. batch_normalization_12"
   ]
  },
  {
   "cell_type": "code",
   "execution_count": 31,
   "id": "a2462a30-0169-4421-a799-833cc47ce60d",
   "metadata": {},
   "outputs": [
    {
     "name": "stdout",
     "output_type": "stream",
     "text": [
      "k_conv2d_12_layer weight:\n",
      "[array([0.7654353 , 0.5080408 , 0.6432544 , 0.5626859 , 0.51786804],\n",
      "      dtype=float32), array([0.0662422 , 0.04040214, 0.52289575, 0.60694873, 0.08088733],\n",
      "      dtype=float32), array([ 0.00029895, -0.00090161, -0.00040593, -0.00021506,  0.00066517],\n",
      "      dtype=float32), array([0.03532692, 0.01011292, 0.0472468 , 0.00703194, 0.01624621],\n",
      "      dtype=float32)]\n",
      "t_sfeb_1_weight:\n",
      "tensor([0.7654, 0.5080, 0.6433, 0.5627, 0.5179], device='cuda:0')\n",
      "t_sfeb_1_weight:\n",
      "tensor([0.0662, 0.0404, 0.5229, 0.6069, 0.0809], device='cuda:0')\n",
      "t_sfeb_1_runing_mean :\n",
      "tensor([ 0.0003, -0.0009, -0.0004, -0.0002,  0.0007], device='cuda:0')\n",
      "t_sfeb_1_running_var :\n",
      "tensor([0.0353, 0.0101, 0.0472, 0.0070, 0.0162], device='cuda:0')\n"
     ]
    }
   ],
   "source": [
    "t_sfeb_1_weight = t_weights['sfeb.1.weight']\n",
    "t_sfeb_1_bias = t_weights['sfeb.1.bias']\n",
    "t_sfeb_1_runing_mean = t_weights['sfeb.1.running_mean']\n",
    "t_sfeb_1_running_var = t_weights['sfeb.1.running_var']\n",
    "k_conv2d_12_layer = k_model.get_layer('batch_normalization_12')\n",
    "print(f\"k_conv2d_12_layer weight:\\n{k_conv2d_12_layer.get_weights()}\")\n",
    "print(f\"t_sfeb_1_weight:\\n{t_sfeb_1_weight}\")\n",
    "print(f\"t_sfeb_1_weight:\\n{t_sfeb_1_bias}\")\n",
    "print(f\"t_sfeb_1_runing_mean :\\n{t_sfeb_1_runing_mean}\")\n",
    "print(f\"t_sfeb_1_running_var :\\n{t_sfeb_1_running_var}\")"
   ]
  },
  {
   "cell_type": "markdown",
   "id": "a1c23b55-d52e-4e00-811f-a5e7fad87971",
   "metadata": {},
   "source": [
    "## sfeb.3.weight vs. conv2d_13"
   ]
  },
  {
   "cell_type": "code",
   "execution_count": 45,
   "id": "33ff86ca-ac30-46ad-b042-d01831b1882d",
   "metadata": {},
   "outputs": [
    {
     "name": "stdout",
     "output_type": "stream",
     "text": [
      "t_weights['sfeb.3.weight'] original shape:torch.Size([32, 5, 1, 5])\n",
      "t_sfeb_3_weight shape after permute:torch.Size([1, 5, 5, 32])\n",
      "k_conv2d_12_layer weight:\n",
      "(1, 1, 5, 5, 32)\n",
      "t_sfeb_0_weight:\n",
      "32\n"
     ]
    }
   ],
   "source": [
    "t_sfeb_3_weight = t_weights['sfeb.3.weight']\n",
    "print(f\"t_weights['sfeb.3.weight'] original shape:{t_sfeb_3_weight.shape}\")\n",
    "t_sfeb_3_weight = torch.permute(t_sfeb_3_weight,t2k_pos_move)\n",
    "print(f\"t_sfeb_3_weight shape after permute:{t_sfeb_3_weight.shape}\")\n",
    "k_conv2d_13_layer = k_model.get_layer('conv2d_13')\n",
    "print(f\"k_conv2d_12_layer weight:\\n{np.asarray(k_conv2d_13_layer.get_weights()).shape}\")\n",
    "print(f\"t_sfeb_0_weight:\\n{len(t_sfeb_3_weight[0][0][0][:])}\")"
   ]
  },
  {
   "cell_type": "code",
   "execution_count": null,
   "id": "0cb5f417-1303-4f47-aac0-068ee5d5a4ce",
   "metadata": {},
   "outputs": [],
   "source": []
  }
 ],
 "metadata": {
  "kernelspec": {
   "display_name": "Python 3 (ipykernel)",
   "language": "python",
   "name": "python3"
  },
  "language_info": {
   "codemirror_mode": {
    "name": "ipython",
    "version": 3
   },
   "file_extension": ".py",
   "mimetype": "text/x-python",
   "name": "python",
   "nbconvert_exporter": "python",
   "pygments_lexer": "ipython3",
   "version": "3.10.13"
  }
 },
 "nbformat": 4,
 "nbformat_minor": 5
}
