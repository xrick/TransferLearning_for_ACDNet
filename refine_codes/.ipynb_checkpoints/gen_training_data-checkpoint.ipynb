{
 "cells": [
  {
   "cell_type": "markdown",
   "id": "0d442e42-ec55-4a3c-9680-d92c03c3708e",
   "metadata": {},
   "source": [
    "## 說明：\n",
    "總共要產生三種訓練集\n",
    "- 訓練集\n",
    "- 驗證集\n",
    "- 測試集   \n",
    "其中驗證集及測試集要經二階段建立。"
   ]
  },
  {
   "cell_type": "code",
   "execution_count": 1,
   "id": "76b43e22-a14e-4616-9395-089442614d1e",
   "metadata": {},
   "outputs": [],
   "source": [
    "import sys\n",
    "import os\n",
    "import subprocess\n",
    "import glob\n",
    "import numpy as np\n",
    "import wavio\n",
    "import time;\n",
    "import random;\n",
    "sys.path.append(os.path.abspath(\"../\"))\n",
    "import re"
   ]
  },
  {
   "cell_type": "code",
   "execution_count": 2,
   "id": "47433362-b1e4-4057-8236-5bd8bb0a06ec",
   "metadata": {},
   "outputs": [],
   "source": [
    "from common.tlopts import display_info;\n",
    "import common.utils as U;\n",
    "from Libs.SharedLibs import *"
   ]
  },
  {
   "cell_type": "code",
   "execution_count": 3,
   "id": "30ba8dc0-57b0-47d0-977a-7ca912373e63",
   "metadata": {},
   "outputs": [],
   "source": [
    "import argparse"
   ]
  },
  {
   "cell_type": "code",
   "execution_count": 4,
   "id": "f8a6f93d-6756-4598-a62d-b96a40213ac6",
   "metadata": {},
   "outputs": [],
   "source": [
    "from datetime import datetime"
   ]
  },
  {
   "cell_type": "markdown",
   "id": "d48b13ad-e5ff-40ec-bbe4-76e9e2b90107",
   "metadata": {},
   "source": [
    "## Global Shared Variables"
   ]
  },
  {
   "cell_type": "markdown",
   "id": "12a480da-6a06-41b4-939b-80769ef1dbe5",
   "metadata": {},
   "source": [
    "### define sounds sources folders"
   ]
  },
  {
   "cell_type": "code",
   "execution_count": 5,
   "id": "13dc9e11-f919-4e96-bee6-233091608bc8",
   "metadata": {},
   "outputs": [],
   "source": [
    "training_positive_sounds_src = \"../datasets/forOneClassModel_alarm/train/alarm/\"\n",
    "training_negative_sounds_src = \"../datasets/forOneClassModel_alarm/train/other_sounds/20K_25Classes_160Items/\"\n",
    "val_positive_sounds_src = \"../datasets/forOneClassModel_alarm/test_val/alarm/\"\n",
    "val_negative_sounds_src = \"../datasets/forOneClassModel_alarm/test_val/other_sounds/\""
   ]
  },
  {
   "cell_type": "markdown",
   "id": "d973e8de-0a88-44ed-a704-f51a35c96585",
   "metadata": {},
   "source": [
    "### define save pathes"
   ]
  },
  {
   "cell_type": "code",
   "execution_count": 41,
   "id": "cad3a46b-2b1e-4bd4-bd78-319afb31da40",
   "metadata": {},
   "outputs": [],
   "source": [
    "training_npz = \"../datasets/forOneClassModel_alarm/train/trainSet_{}.npz\"\n",
    "val_src_npz = \"../datasets/forOneClassModel_alarm/test_val/src_npz/val_src_{}.npz\"\n",
    "final_val_npz = \"../datasets/forOneClassModel_alarm/test_val/final_val_test_npz/final_valSet_{}\""
   ]
  },
  {
   "cell_type": "markdown",
   "id": "d4a3de44-0bb6-4b10-8466-b33083ea3f43",
   "metadata": {},
   "source": [
    "## Utility Functions"
   ]
  },
  {
   "cell_type": "code",
   "execution_count": 7,
   "id": "6a4bd881-4b5f-4e11-8b08-99a3fc41d681",
   "metadata": {},
   "outputs": [],
   "source": [
    "def getFolderList(rootDir=None, recursive=False):\n",
    "    if not recursive:\n",
    "        return next(os.walk(rootDir));\n",
    "    else:\n",
    "        return [x[0] for x in os.walk(rootDir)]"
   ]
  },
  {
   "cell_type": "code",
   "execution_count": 44,
   "id": "f94453b4-50a9-47b0-b755-30e2bc278b7d",
   "metadata": {},
   "outputs": [],
   "source": [
    "# generate opt files for data preparation\n",
    "def getOpts():\n",
    "    parser = argparse.ArgumentParser(description='Transfer Learning for ACDNet');\n",
    "    parser.add_argument('--netType', default='ACDNet_TL_Model_Extend',  required=False);\n",
    "    parser.add_argument('--data', default='../datasets/processed/',  required=False);\n",
    "    parser.add_argument('--dataset', required=False, default='uec_iot', choices=['10']);\n",
    "    parser.add_argument('--BC', default=True, action='store_true', help='BC learning');\n",
    "    parser.add_argument('--strongAugment', default=True,  action='store_true', help='Add scale and gain augmentation');\n",
    "    #在ipynb中，不能使用parser.parse，要改用parser.parse_known_args()\n",
    "    opt, unknown = parser.parse_known_args();\n",
    "\n",
    "    \"\"\"\n",
    "    current best setting for accuracy: 96.5\n",
    "    opt.batchSize = 32;\n",
    "    opt.LR = 0.1;\n",
    "    opt.weightDecay = 5e-3;\n",
    "    opt.momentum = 0.09;\n",
    "    opt.schedule = [0.3, 0.5, 0.9];\n",
    "    \"\"\"\n",
    "    #Leqarning settings\n",
    "    opt.batchSize = 32;\n",
    "    opt.LR = 0.1;\n",
    "    opt.weightDecay = 5e-3;#1e-2;#5e-3;#5e-4;\n",
    "    opt.momentum = 0.09;\n",
    "    opt.nEpochs = 800;\n",
    "    opt.schedule = [0.3, 0.5, 0.9];\n",
    "    opt.warmup = 10;\n",
    "    opt.device = 'cpu';\n",
    "    # if torch.backends.mps.is_available():\n",
    "    #     opt.device=\"mps\"; #for apple m2 gpu\n",
    "    # elif torch.cuda.is_available():\n",
    "    #     opt.device=\"cuda:0\"; #for nVidia gpu\n",
    "    # else:\n",
    "    #     opt.device=\"cpu\"\n",
    "    print(f\"***Use device:{opt.device}\");\n",
    "    # opt.device = torch.device(\"cuda:0\" if  else \"cpu\");\n",
    "    #Basic Net Settings\n",
    "    opt.nClasses = 2#50;\n",
    "    opt.nFolds = 1;\n",
    "    opt.splits = [i for i in range(1, opt.nFolds + 1)];\n",
    "    opt.sr = 20000;\n",
    "    opt.inputLength = 30225;\n",
    "    #Test data\n",
    "    opt.nCrops = 2;\n",
    "    opt.TLAcdnetConfig = [8,64,32,64,64,128,128,256,256,512,512,2];\n",
    "    return opt"
   ]
  },
  {
   "cell_type": "code",
   "execution_count": 45,
   "id": "c33ad2bd-b23b-4704-9426-23b17a18f791",
   "metadata": {},
   "outputs": [],
   "source": [
    "def genDataTimeStr():\n",
    "    return datetime.today().strftime('%Y-%m-%d %H:%M:%S').replace('-',\"\").replace(' ',\"\").replace(':',\"\");"
   ]
  },
  {
   "cell_type": "code",
   "execution_count": 46,
   "id": "7f51b349-dbc7-4d35-b8ee-76b51362593f",
   "metadata": {},
   "outputs": [],
   "source": [
    "def testGetSoundsAndLabels(srcDir):\n",
    "    wav_list = []\n",
    "    wav_list = getFileList(srcDir)\n",
    "    return wav_list"
   ]
  },
  {
   "cell_type": "code",
   "execution_count": 47,
   "id": "cd8b71bb-d9cf-47e0-8a72-d73e7f1aaeed",
   "metadata": {},
   "outputs": [
    {
     "name": "stdout",
     "output_type": "stream",
     "text": [
      "get all training positive wavs in ../datasets/forOneClassModel_alarm/train/alarm/:\n",
      " total counts:160\n",
      "get all training negative wavs in ../datasets/forOneClassModel_alarm/train/other_sounds/20K_25Classes_160Items/:\n",
      " total counts:165\n",
      "get all test positive wavs in ../datasets/forOneClassModel_alarm/test_val/alarm/:\n",
      " total counts:40\n",
      "get all test negative wavs in ../datasets/forOneClassModel_alarm/test_val/other_sounds/:\n",
      " total counts:48\n"
     ]
    }
   ],
   "source": [
    "print(f\"get all training positive wavs in {training_positive_sounds_src}:\\n total counts:{len(testGetSoundsAndLabels(training_positive_sounds_src))}\")\n",
    "print(f\"get all training negative wavs in {training_negative_sounds_src}:\\n total counts:{len(testGetSoundsAndLabels(training_negative_sounds_src))}\")\n",
    "print(f\"get all test positive wavs in {val_positive_sounds_src}:\\n total counts:{len(testGetSoundsAndLabels(val_positive_sounds_src))}\")\n",
    "print(f\"get all test negative wavs in {val_negative_sounds_src}:\\n total counts:{len(testGetSoundsAndLabels(val_negative_sounds_src))}\")"
   ]
  },
  {
   "cell_type": "code",
   "execution_count": 48,
   "id": "6895e211-eff5-4f82-ab58-e4532b962e5b",
   "metadata": {},
   "outputs": [],
   "source": [
    "def create_dataset(dst_path=None, classes_dict=None, execFlag=1):\n",
    "    # print('* {} -> {}'.format(src_path, dst_path))\n",
    "    my_dataset = {};\n",
    "    print(f\"--Start to preparing training dataset...---------------\");\n",
    "    my_dataset['fold1'] = {}\n",
    "    my_sounds = []\n",
    "    my_labels = []\n",
    "    wav_list = None\n",
    "    for k in classes_dict:\n",
    "        if k == 52:\n",
    "            if execFlag == 1: #create training set:\n",
    "                # cur_src_dir = os.path.join(src_path,classes_dict[k]);\n",
    "                print(f\"create training data from {training_positive_sounds_src}\")\n",
    "                wav_list = getFileList(training_positive_sounds_src);\n",
    "            else:#create testing set\n",
    "                print(f\"create positive test data from {val_positive_sounds_src}\")\n",
    "                wav_list = getFileList(val_positive_sounds_src);\n",
    "        elif k == 99:\n",
    "            # cur_src_dir = os.path.join(src_path,classes_dict[k]);\n",
    "            if execFlag == 1:#create trainging set\n",
    "                print(f\"create negative training data from {training_negative_sounds_src}\")\n",
    "                wav_list = getFileList(training_negative_sounds_src);\n",
    "            else:#creating testing set\n",
    "                print(f\"create negative test data from {val_negative_sounds_src}\")\n",
    "                wav_list = getFileList(val_negative_sounds_src);\n",
    "        # print(wav_list)\n",
    "        # print(f\"current source directory:{cur_src_dir}\");\n",
    "        for wav_file in wav_list:\n",
    "            sound = wavio.read(wav_file).data.T[0]\n",
    "            start = sound.nonzero()[0].min()\n",
    "            end = sound.nonzero()[0].max()\n",
    "            sound = sound[start: end + 1]  # Remove silent sections\n",
    "            label = int(k);#int(os.path.splitext(wav_file)[0].split('-')[-1])\n",
    "            my_sounds.append(sound)\n",
    "            my_labels.append(k)\n",
    "            print(f\"sound:{os.path.basename(wav_file)} is chopped:\\n   lable:{k}\\n   from {start} to {end} \\n   len:{(end-start)/20000}\\n\");\n",
    "            # print(f\"sound:{wav_file}\\nlabel:{k}\") \n",
    "    print(f\"--End of preparing training dataset-------------------\");\n",
    "\n",
    "    my_dataset['fold1']['sounds'] = my_sounds\n",
    "    my_dataset['fold1']['labels'] = my_labels\n",
    "    print(f\"total len of my_sounds is {len(my_sounds)}\")\n",
    "    print(f\"total len of my_labels is {len(my_labels)}\")\n",
    "    npzname = dst_path.format(genDataTimeStr());\n",
    "    np.savez(npzname, **my_dataset)\n",
    "    print(f\"npz file:{npzname}\")"
   ]
  },
  {
   "cell_type": "code",
   "execution_count": 49,
   "id": "983b8866-252b-465c-99f0-a75ec1e9ab9e",
   "metadata": {},
   "outputs": [],
   "source": [
    "map_dict = {\n",
    "        52:\"alarm_positive_52\", #alarm\n",
    "        99:\"alarm_negtive_99\", #other_sounds\n",
    "    };"
   ]
  },
  {
   "cell_type": "markdown",
   "id": "7697d031-af23-4d8b-8cfd-4394377a1b4e",
   "metadata": {},
   "source": [
    "## Create Training npz file"
   ]
  },
  {
   "cell_type": "code",
   "execution_count": 50,
   "id": "31318794-79d7-474e-8710-6df1f7d12158",
   "metadata": {},
   "outputs": [],
   "source": [
    "# This following codes are marked out because the npz has been created\n",
    "# create_dataset(training_npz,map_dict,1);"
   ]
  },
  {
   "cell_type": "markdown",
   "id": "ae46a78e-6275-44d4-b090-cb05c766186d",
   "metadata": {},
   "source": [
    "## Create Test Src npz file"
   ]
  },
  {
   "cell_type": "code",
   "execution_count": 51,
   "id": "8f1c5355-4415-4d17-a2a3-dba69770b91f",
   "metadata": {},
   "outputs": [],
   "source": [
    "# create_dataset(val_src_npz,map_dict,2);"
   ]
  },
  {
   "cell_type": "markdown",
   "id": "28a9b2cf-c388-4b6d-8df8-c491eb7ff0f9",
   "metadata": {},
   "source": [
    "## define ValGenerator\n",
    "ValueError: setting an array element with a sequence. The requested array has an inhomogeneous shape after 1 dimensions. The detected shape was (58,) + inhomogeneous part.\n",
    "把諸存的型態改成dtype='object'"
   ]
  },
  {
   "cell_type": "code",
   "execution_count": 57,
   "id": "cc92c837-4707-4f6a-8630-2bf2c7a21d02",
   "metadata": {},
   "outputs": [],
   "source": [
    "class ValGenerator():\n",
    "    #Generates data for Keras\n",
    "    def __init__(self, samples, labels, options):\n",
    "        random.seed(42);\n",
    "        #Initialization\n",
    "        print(len(samples));\n",
    "        self.data = [(samples[i], labels[i]) for i in range (0, len(samples))];\n",
    "        self.opt = options;\n",
    "        self.batch_size = len(samples);#88;#options.batchSize // options.nCrops;\n",
    "        print(f\"batch_size:{self.batch_size}\");\n",
    "        self.preprocess_funcs = self.preprocess_setup();\n",
    "        self.map_dict= {\n",
    "            52:1,\n",
    "            99:2\n",
    "        };\n",
    "\n",
    "    def get_data(self):\n",
    "        #Generate one batch of data\n",
    "        x, y = self.generate();\n",
    "        x = np.expand_dims(x, axis=1)\n",
    "        x = np.expand_dims(x, axis=3)\n",
    "        # print(x.shape);\n",
    "        # print(y.shape);\n",
    "        return x, y\n",
    "\n",
    "    def generate(self):\n",
    "        #Generates data containing batch_size samples\n",
    "        sounds = [];\n",
    "        labels = [];\n",
    "        indexes = None;\n",
    "        for i in range(self.batch_size):\n",
    "            sound, target = self.data[i];\n",
    "            target = self.map_dict[target] - 1;\n",
    "            sound = self.preprocess(sound).astype(np.float32)\n",
    "            # print(sound)\n",
    "            label = np.zeros((self.opt.nCrops, self.opt.nClasses));\n",
    "            label[:,target] = 1;\n",
    "            # print(f\"nCrops:{self.opt.nCrops}, nClasses:{self.opt.nClasses}\")\n",
    "            sounds.append(sound);\n",
    "            labels.append(label);\n",
    "        \"\"\"\n",
    "        #dtype=\"object\" for ValueError: setting an array element with a sequence. \n",
    "        The requested array has an inhomogeneous shape after 1 dimensions. \n",
    "        The detected shape was (58,) + inhomogeneous part.\n",
    "        \"\"\"\n",
    "        sounds = np.asarray(sounds,dtype=\"object\")\n",
    "        # expand_sounds = np.expand_dims(np.asarray(sounds,dtype=\"object\"),axis=1); \n",
    "        labels = np.asarray(labels);\n",
    "        # print(f\"shape of sounds:{expand_sounds.shape}\")\n",
    "        sounds = sounds.reshape(sounds.shape[0]*sounds.shape[1], sounds.shape[2]);\n",
    "        labels = labels.reshape(labels.shape[0]*labels.shape[1], labels.shape[2]);\n",
    "\n",
    "        return sounds, labels;\n",
    "\n",
    "    def preprocess_setup(self):\n",
    "        funcs = []\n",
    "        funcs += [U.padding(self.opt.inputLength // 2),\n",
    "                  U.normalize(32768.0),\n",
    "                  U.multi_crop(self.opt.inputLength, 2)] # we use single crop here.\n",
    "\n",
    "        return funcs\n",
    "\n",
    "    def preprocess(self, sound):\n",
    "        for f in self.preprocess_funcs:\n",
    "            sound = f(sound)\n",
    "\n",
    "        return sound;"
   ]
  },
  {
   "cell_type": "code",
   "execution_count": 58,
   "id": "17abf743-45ac-406e-97fe-254235e7cb84",
   "metadata": {},
   "outputs": [],
   "source": [
    "def create_test_compress_npz(test_src_npz=None, dest_name=None):\n",
    "    opt = getOpts();#opts.parse();\n",
    "    display_info(opt);\n",
    "    opt.batchSize=88;\n",
    "    opt.nCrops = 2;\n",
    "    opt.nClasses=2;\n",
    "    for sr in [20000]:\n",
    "        opt.sr = sr;\n",
    "        opt.inputLength = 30225;\n",
    "        val_sounds = [];\n",
    "        val_labels = [];\n",
    "        dataset = np.load(test_src_npz, allow_pickle=True);\n",
    "        # for s in opt.splits:\n",
    "        start_time = time.perf_counter();\n",
    "        sounds = dataset['fold1'].item()['sounds'];\n",
    "        labels = dataset['fold1'].item()['labels'];\n",
    "        print(f\"len of sounds:{len(sounds)}, len of labels:{len(labels)}\")\n",
    "        \n",
    "        # print(sounds)\n",
    "        val_sounds.extend(sounds);\n",
    "        val_labels.extend(labels);\n",
    "        print(f\"len of val_sounds:{len(val_sounds)}, len of val_labels:{len(val_labels)}\")\n",
    "        \n",
    "        valGen = ValGenerator(sounds, labels, opt);\n",
    "        valX, valY = valGen.get_data();\n",
    "        dest_name = dest_name.format(genDataTimeStr())\n",
    "        np.savez_compressed(dest_name, x=valX, y=valY);\n",
    "        print('compressed npz generated with\\n  shape x:{}\\n  y:{}\\n  took {:.2f} secs'.format(valX.shape, valY.shape, time.perf_counter()-start_time));\n",
    "        sys.stdout.flush();"
   ]
  },
  {
   "cell_type": "code",
   "execution_count": 59,
   "id": "f5579f4d-9a3a-4f6f-b2eb-cd96d3d01efe",
   "metadata": {},
   "outputs": [
    {
     "name": "stdout",
     "output_type": "stream",
     "text": [
      "***Use device:cpu\n",
      "+------------------------------+\n",
      "| ACDNet_TL_Model_Extend Sound classification\n",
      "+------------------------------+\n",
      "| dataset  : uec_iot\n",
      "| nEpochs  : 800\n",
      "| LRInit   : 0.1\n",
      "| schedule : [0.3, 0.5, 0.9]\n",
      "| warmup   : 10\n",
      "| batchSize: 32\n",
      "| nFolds: 1\n",
      "| Splits: [1]\n",
      "+------------------------------+\n",
      "len of sounds:88, len of labels:88\n",
      "len of val_sounds:88, len of val_labels:88\n",
      "88\n",
      "batch_size:88\n",
      "compressed npz generated with\n",
      "  shape x:(176, 1, 30225, 1)\n",
      "  y:(176, 2)\n",
      "  took 1.13 secs\n"
     ]
    }
   ],
   "source": [
    "_src_npz = \"../datasets/forOneClassModel_alarm/test_val/src_npz/val_src_20240119003231.npz\"\n",
    "create_test_compress_npz(_src_npz, final_val_npz);"
   ]
  },
  {
   "cell_type": "code",
   "execution_count": null,
   "id": "fc1b4a62-a37a-4c9b-9c72-ec8012abee7d",
   "metadata": {},
   "outputs": [],
   "source": []
  }
 ],
 "metadata": {
  "kernelspec": {
   "display_name": "Python 3 (ipykernel)",
   "language": "python",
   "name": "python3"
  },
  "language_info": {
   "codemirror_mode": {
    "name": "ipython",
    "version": 3
   },
   "file_extension": ".py",
   "mimetype": "text/x-python",
   "name": "python",
   "nbconvert_exporter": "python",
   "pygments_lexer": "ipython3",
   "version": "3.10.12"
  }
 },
 "nbformat": 4,
 "nbformat_minor": 5
}
