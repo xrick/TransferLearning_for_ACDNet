{
 "cells": [
  {
   "cell_type": "code",
   "execution_count": 1,
   "id": "76b43e22-a14e-4616-9395-089442614d1e",
   "metadata": {},
   "outputs": [],
   "source": [
    "import sys\n",
    "import os\n",
    "import subprocess\n",
    "import glob\n",
    "import numpy as np\n",
    "import wavio\n",
    "import time;\n",
    "import random;\n",
    "sys.path.append(os.path.abspath(\"../\"))\n",
    "import re"
   ]
  },
  {
   "cell_type": "code",
   "execution_count": 2,
   "id": "47433362-b1e4-4057-8236-5bd8bb0a06ec",
   "metadata": {},
   "outputs": [],
   "source": [
    "from common.tlopts import display_info;\n",
    "import common.utils as U;\n",
    "from Libs.SharedLibs import *"
   ]
  },
  {
   "cell_type": "code",
   "execution_count": 5,
   "id": "30ba8dc0-57b0-47d0-977a-7ca912373e63",
   "metadata": {},
   "outputs": [],
   "source": [
    "import argparse"
   ]
  },
  {
   "cell_type": "markdown",
   "id": "d48b13ad-e5ff-40ec-bbe4-76e9e2b90107",
   "metadata": {},
   "source": [
    "## Global Shared Variables"
   ]
  },
  {
   "cell_type": "markdown",
   "id": "12a480da-6a06-41b4-939b-80769ef1dbe5",
   "metadata": {},
   "source": [
    "### define sounds sources folders"
   ]
  },
  {
   "cell_type": "code",
   "execution_count": 7,
   "id": "13dc9e11-f919-4e96-bee6-233091608bc8",
   "metadata": {},
   "outputs": [],
   "source": [
    "training_positive_sounds_src = \"../datasets/forOneClassModel_alarm/train/alarm/\"\n",
    "training_negative_sounds_src = \"../datasets/forOneClassModel_alarm/train/other_sounds/\"\n",
    "val_positive_sounds_src = \"../datasets/forOneClassModel_alarm/test_val/alarm/\"\n",
    "val_negative_sounds_src = \"../datasets/forOneClassModel_alarm/test_val/other_sounds/\""
   ]
  },
  {
   "cell_type": "markdown",
   "id": "d973e8de-0a88-44ed-a704-f51a35c96585",
   "metadata": {},
   "source": [
    "### define save pathes"
   ]
  },
  {
   "cell_type": "code",
   "execution_count": null,
   "id": "cad3a46b-2b1e-4bd4-bd78-319afb31da40",
   "metadata": {},
   "outputs": [],
   "source": []
  },
  {
   "cell_type": "markdown",
   "id": "d4a3de44-0bb6-4b10-8466-b33083ea3f43",
   "metadata": {},
   "source": [
    "## Utility Functions"
   ]
  },
  {
   "cell_type": "code",
   "execution_count": 4,
   "id": "6a4bd881-4b5f-4e11-8b08-99a3fc41d681",
   "metadata": {},
   "outputs": [],
   "source": [
    "def getFolderList(rootDir=None, recursive=False):\n",
    "    if not recursive:\n",
    "        return next(os.walk(rootDir));\n",
    "    else:\n",
    "        return [x[0] for x in os.walk(rootDir)]"
   ]
  },
  {
   "cell_type": "code",
   "execution_count": 6,
   "id": "f94453b4-50a9-47b0-b755-30e2bc278b7d",
   "metadata": {},
   "outputs": [],
   "source": [
    "# generate opt files for data preparation\n",
    "def getOpts():\n",
    "    parser = argparse.ArgumentParser(description='Transfer Learning for ACDNet');\n",
    "    parser.add_argument('--netType', default='ACDNet_TL_Model_Extend',  required=False);\n",
    "    parser.add_argument('--data', default='../datasets/processed/',  required=False);\n",
    "    parser.add_argument('--dataset', required=False, default='uec_iot', choices=['10']);\n",
    "    parser.add_argument('--BC', default=True, action='store_true', help='BC learning');\n",
    "    parser.add_argument('--strongAugment', default=True,  action='store_true', help='Add scale and gain augmentation');\n",
    "    #在ipynb中，不能使用parser.parse，要改用parser.parse_known_args()\n",
    "    opt, unknown = parser.parse_known_args();\n",
    "\n",
    "    \"\"\"\n",
    "    current best setting for accuracy: 96.5\n",
    "    opt.batchSize = 32;\n",
    "    opt.LR = 0.1;\n",
    "    opt.weightDecay = 5e-3;\n",
    "    opt.momentum = 0.09;\n",
    "    opt.schedule = [0.3, 0.5, 0.9];\n",
    "    \"\"\"\n",
    "    #Leqarning settings\n",
    "    opt.batchSize = 32;\n",
    "    opt.LR = 0.1;\n",
    "    opt.weightDecay = 5e-3;#1e-2;#5e-3;#5e-4;\n",
    "    opt.momentum = 0.09;\n",
    "    opt.nEpochs = 800;\n",
    "    opt.schedule = [0.3, 0.5, 0.9];\n",
    "    opt.warmup = 10;\n",
    "    if torch.backends.mps.is_available():\n",
    "        opt.device=\"mps\"; #for apple m2 gpu\n",
    "    elif torch.cuda.is_available():\n",
    "        opt.device=\"cuda:0\"; #for nVidia gpu\n",
    "    else:\n",
    "        opt.device=\"cpu\"\n",
    "    print(f\"***Use device:{opt.device}\");\n",
    "    # opt.device = torch.device(\"cuda:0\" if  else \"cpu\");\n",
    "    #Basic Net Settings\n",
    "    opt.nClasses = 2#50;\n",
    "    opt.nFolds = 1;\n",
    "    opt.splits = [i for i in range(1, opt.nFolds + 1)];\n",
    "    opt.sr = 20000;\n",
    "    opt.inputLength = 30225;\n",
    "    #Test data\n",
    "    opt.nCrops = 2;\n",
    "    opt.TLAcdnetConfig = [8,64,32,64,64,128,128,256,256,512,512,2];\n",
    "    return opt"
   ]
  },
  {
   "cell_type": "code",
   "execution_count": null,
   "id": "c33ad2bd-b23b-4704-9426-23b17a18f791",
   "metadata": {},
   "outputs": [],
   "source": []
  }
 ],
 "metadata": {
  "kernelspec": {
   "display_name": "Python 3 (ipykernel)",
   "language": "python",
   "name": "python3"
  },
  "language_info": {
   "codemirror_mode": {
    "name": "ipython",
    "version": 3
   },
   "file_extension": ".py",
   "mimetype": "text/x-python",
   "name": "python",
   "nbconvert_exporter": "python",
   "pygments_lexer": "ipython3",
   "version": "3.11.5"
  }
 },
 "nbformat": 4,
 "nbformat_minor": 5
}
