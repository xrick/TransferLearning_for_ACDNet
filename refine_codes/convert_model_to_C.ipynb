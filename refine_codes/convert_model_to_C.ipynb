{
 "cells": [
  {
   "cell_type": "code",
   "execution_count": 1,
   "id": "176e93ba-c8fc-4bea-a023-771416e9e263",
   "metadata": {},
   "outputs": [],
   "source": [
    "import os\n",
    "import sys"
   ]
  },
  {
   "cell_type": "code",
   "execution_count": null,
   "id": "d62121aa-8116-4d85-bddf-95564307c8f9",
   "metadata": {},
   "outputs": [],
   "source": []
  },
  {
   "cell_type": "code",
   "execution_count": 7,
   "id": "b4ec91ee-4c63-45a4-b370-488a45716923",
   "metadata": {},
   "outputs": [],
   "source": [
    "tflite_model = \"../th/quantized_models/quant_retrained_model_94.3_20240124111811.pt\"\n",
    "target_c_file =\"../th/Model_C_Files/acdnet_model_retrain.c\""
   ]
  },
  {
   "cell_type": "code",
   "execution_count": 8,
   "id": "2acdaed4-9c05-4685-821a-49b553348091",
   "metadata": {},
   "outputs": [],
   "source": [
    "!xxd -i {tflite_model} > {target_c_file}"
   ]
  },
  {
   "cell_type": "code",
   "execution_count": 9,
   "id": "88186322-a27e-44cf-ae5a-43308c71d795",
   "metadata": {},
   "outputs": [],
   "source": [
    "# Update variable names\n",
    "REPLACE_TEXT = \"uec_iot_model_alarm\";#MODEL_TFLITE.replace('/', '_').replace('.', '_')\n",
    "!sed -i 's/'{REPLACE_TEXT}'/g_model/g' {target_c_file}"
   ]
  },
  {
   "cell_type": "code",
   "execution_count": null,
   "id": "8abd90f3-8214-4020-873c-3a67b56ec3b0",
   "metadata": {},
   "outputs": [],
   "source": []
  }
 ],
 "metadata": {
  "kernelspec": {
   "display_name": "Python 3 (ipykernel)",
   "language": "python",
   "name": "python3"
  },
  "language_info": {
   "codemirror_mode": {
    "name": "ipython",
    "version": 3
   },
   "file_extension": ".py",
   "mimetype": "text/x-python",
   "name": "python",
   "nbconvert_exporter": "python",
   "pygments_lexer": "ipython3",
   "version": "3.10.13"
  }
 },
 "nbformat": 4,
 "nbformat_minor": 5
}
