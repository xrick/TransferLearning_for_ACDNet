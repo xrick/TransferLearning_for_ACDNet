{
 "cells": [
  {
   "cell_type": "code",
   "execution_count": 26,
   "id": "960a83b2-c3b1-4259-9f98-fc58f926ad7c",
   "metadata": {
    "scrolled": true
   },
   "outputs": [],
   "source": [
    "import os\n",
    "import sys\n",
    "import wavio\n",
    "import wave\n",
    "# from sox import file_info\n",
    "import struct"
   ]
  },
  {
   "cell_type": "code",
   "execution_count": 16,
   "id": "353938a0-2bcb-4a58-8b40-52d1f505aeec",
   "metadata": {},
   "outputs": [],
   "source": [
    "# !pip install sox"
   ]
  },
  {
   "cell_type": "code",
   "execution_count": 17,
   "id": "c5e72a50-4eaa-4b96-8922-68df0774ec17",
   "metadata": {},
   "outputs": [
    {
     "data": {
      "text/plain": [
       "'\\nref codes from my past codes\\ndef dumpFB_Array(midfreqs, fb_save_path):\\n    theFB = get_filterbank_from_midfreqs(midfreqs, 16000, 10, 1024)\\n    rows = theFB.shape[0]\\n    cols = theFB.shape[1]\\n    with open(fb_save_path, \"w\")as f:\\n        f.write(\"/* middle frequences:{} */\\n\".format(midfreqs))\\n        f.write(\"const float fbarray[{}][{}]=\".format(rows,cols))\\n        f.write(\"{\")\\n        for i in range(rows):\\n            f.write(\"{\")\\n            for j in range(cols):\\n                f.write(str(theFB[i][j]))\\n                f.write(\",\")\\n            f.write(\"},\")\\n            f.write(\"\\n\")\\n        f.write(\"}\")\\n'"
      ]
     },
     "execution_count": 17,
     "metadata": {},
     "output_type": "execute_result"
    }
   ],
   "source": [
    "\"\"\"\n",
    "ref codes from my past codes\n",
    "def dumpFB_Array(midfreqs, fb_save_path):\n",
    "    theFB = get_filterbank_from_midfreqs(midfreqs, 16000, 10, 1024)\n",
    "    rows = theFB.shape[0]\n",
    "    cols = theFB.shape[1]\n",
    "    with open(fb_save_path, \"w\")as f:\n",
    "        f.write(\"/* middle frequences:{} */\\n\".format(midfreqs))\n",
    "        f.write(\"const float fbarray[{}][{}]=\".format(rows,cols))\n",
    "        f.write(\"{\")\n",
    "        for i in range(rows):\n",
    "            f.write(\"{\")\n",
    "            for j in range(cols):\n",
    "                f.write(str(theFB[i][j]))\n",
    "                f.write(\",\")\n",
    "            f.write(\"},\")\n",
    "            f.write(\"\\n\")\n",
    "        f.write(\"}\")\n",
    "\"\"\""
   ]
  },
  {
   "cell_type": "code",
   "execution_count": 18,
   "id": "276a30f6-fe2b-4ddd-a167-9736f17805f0",
   "metadata": {},
   "outputs": [],
   "source": [
    "def checkWavChNumUsingStruct(theFile):\n",
    "    with open(theFile, 'rb') as f1:\n",
    "        header_beginning = f1.read(0x18)\n",
    "        num_channels_file1, = struct.unpack_from('<H', header_beginning, 0x16)"
   ]
  },
  {
   "cell_type": "code",
   "execution_count": 19,
   "id": "3dc44697-2fcb-453e-982f-b6d71c0bfbf1",
   "metadata": {},
   "outputs": [],
   "source": [
    "def writeToCFile(theHFileName, wavArray):\n",
    "    rows = len(wavArray)\n",
    "    with open(theHFileName, \"w\")as f:\n",
    "        f.write(f\"/* wav file:{theHFileName} */\\n\")\n",
    "        f.write(f\"const float fbarray[{rows}]=\")\n",
    "        f.write(\"{\\n\")\n",
    "        for i in range(rows):\n",
    "            f.write(str(wavArray[i]))\n",
    "            f.write(\",\")\n",
    "            # f.write(\"\\n\")\n",
    "        f.write(\"\\n}\\n\")\n",
    "        f.write(f\"/* end of array of wav file:{theHFileName} */\\n\")"
   ]
  },
  {
   "cell_type": "code",
   "execution_count": 27,
   "id": "4b642afb-e04a-418e-91b6-a83a148aeee9",
   "metadata": {},
   "outputs": [],
   "source": [
    "def readWavFile(wavFileName):\n",
    "    # ch = file_info.channels(wavFileName)\n",
    "    ch = wave.open(wavFileName).getnchannels()\n",
    "    wobj = wavio.read(wavFileName)\n",
    "    sound_sig = None\n",
    "    if ch == 1:\n",
    "        sound_sig = wobj.data.T[0]\n",
    "        print(f\"{wavFileName} is mono\")\n",
    "    elif ch==2:\n",
    "        sound_sig = wobj.data.T[0]/2 + wobj.data.T[1]/2\n",
    "        print(f\"{wavFileName} is stereo\")\n",
    "    print(f\"type of T is {type(wobj.data.T)}\")\n",
    "    print(f\"the wav file length is {len(sound_sig)}\")\n",
    "    return sound_sig"
   ]
  },
  {
   "cell_type": "code",
   "execution_count": 28,
   "id": "b33afed7-09d4-4961-96ef-47c646fd26f1",
   "metadata": {},
   "outputs": [],
   "source": [
    "def run():\n",
    "    testWavFile = \"/home/ai/Documents/3-118487-A-26.wav\"\n",
    "    theCHeadFile = \"./wav_c_array_files/3-118487-A-26.h\"\n",
    "    wav_ary = readWavFile(testWavFile)\n",
    "    print(\"write wav to C Head file\")\n",
    "    writeToCFile(theCHeadFile,wav_ary)"
   ]
  },
  {
   "cell_type": "code",
   "execution_count": 29,
   "id": "1d7134cc-2349-4226-a48a-bbb322c35e54",
   "metadata": {},
   "outputs": [
    {
     "name": "stdout",
     "output_type": "stream",
     "text": [
      "/home/ai/Documents/3-118487-A-26.wav is mono\n",
      "type of T is <class 'numpy.ndarray'>\n",
      "the wav file length is 220500\n",
      "write wav to C Head file\n"
     ]
    }
   ],
   "source": [
    "run()"
   ]
  },
  {
   "cell_type": "code",
   "execution_count": null,
   "id": "9e26080c-5c95-4754-9c44-3a5c8b895f59",
   "metadata": {},
   "outputs": [],
   "source": [
    "# right/2 + left/2\n",
    "# wobj = wavio.read(wavFileName)\n",
    "# sound_sig = wobj.data.T[0]\n",
    "# print(wobj.rate)\n",
    "# if wobj.rate != default_sr:\n",
    "#     U.convert_sr_for_single_file(original_sound_path, converted_sound_path,default_sr)\n",
    "#     wobj = wavio.read(converted_sound_path)\n",
    "#     print(f\"Converted wav sampling rate is {wobj.rate}\")\n",
    "#     sound_sig = wobj.data.T[0]"
   ]
  }
 ],
 "metadata": {
  "kernelspec": {
   "display_name": "Python 3 (ipykernel)",
   "language": "python",
   "name": "python3"
  },
  "language_info": {
   "codemirror_mode": {
    "name": "ipython",
    "version": 3
   },
   "file_extension": ".py",
   "mimetype": "text/x-python",
   "name": "python",
   "nbconvert_exporter": "python",
   "pygments_lexer": "ipython3",
   "version": "3.10.13"
  }
 },
 "nbformat": 4,
 "nbformat_minor": 5
}
