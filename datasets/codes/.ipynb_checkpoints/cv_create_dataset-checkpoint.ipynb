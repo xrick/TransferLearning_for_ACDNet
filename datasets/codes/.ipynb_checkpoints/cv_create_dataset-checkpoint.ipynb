{
 "cells": [
  {
   "cell_type": "code",
   "execution_count": 1,
   "id": "a8d8b8dd-0a37-48f5-a3e6-ab9394b2e258",
   "metadata": {},
   "outputs": [],
   "source": [
    "import os\n",
    "import sys\n",
    "import numpy as np\n",
    "from random import shuffle\n",
    "import wavio"
   ]
  },
  {
   "cell_type": "code",
   "execution_count": 2,
   "id": "79dce1b0-d527-48ca-9127-c7d1f2b463db",
   "metadata": {},
   "outputs": [],
   "source": [
    "sys.path.append(\"../../\")"
   ]
  },
  {
   "cell_type": "code",
   "execution_count": 3,
   "id": "cc1baae9-c56a-4100-a83f-0d8f5422e7a0",
   "metadata": {},
   "outputs": [],
   "source": [
    "from Libs.SharedLibs import getFileList;\n",
    "from Libs.datetime_util import genDataTimeStr;"
   ]
  },
  {
   "cell_type": "code",
   "execution_count": 4,
   "id": "7777f9bf-fa50-422f-882f-3b162b96d147",
   "metadata": {},
   "outputs": [],
   "source": [
    "wav_src_dir = \"../../datasets/CurrentUse/wav_files/fold{}\""
   ]
  },
  {
   "cell_type": "code",
   "execution_count": 5,
   "id": "00578444-a85a-4478-8906-3368c1d1b3a4",
   "metadata": {},
   "outputs": [
    {
     "name": "stdout",
     "output_type": "stream",
     "text": [
      "Original array:\n",
      " [[0 0 0]\n",
      " [1 1 1]\n",
      " [2 2 2]\n",
      " [3 3 3]\n",
      " [4 4 4]] \n",
      "\n",
      "Target labels:\n",
      " [0 1 2 3 4] \n",
      "\n",
      "Shuffled array and target label with same order:\n",
      " [[0 0 0]\n",
      " [2 2 2]\n",
      " [4 4 4]\n",
      " [1 1 1]\n",
      " [3 3 3]] \n",
      "\n",
      " [0 2 4 1 3] \n",
      "\n"
     ]
    }
   ],
   "source": [
    "#shuffle test\n",
    "arr = np.array([[0, 0, 0], [1, 1, 1], [2, 2, 2], [3, 3, 3], [4, 4, 4]])\n",
    "# Display original array\n",
    "print(\"Original array:\\n\",arr,\"\\n\")\n",
    "# Creating target labels\n",
    "tar = np.array([0, 1, 2, 3, 4])\n",
    "# Display target labels\n",
    "print(\"Target labels:\\n\",tar,\"\\n\")\n",
    "# Shuffling array and target labels by same order\n",
    "ind = [i for i in range(len(arr))]\n",
    "shuffle(ind)\n",
    "arr_new = arr[ind]\n",
    "tar_new = tar[ind]\n",
    "# Display result\n",
    "print(\"Shuffled array and target label with same order:\\n\",arr_new,\"\\n\\n\",tar_new,\"\\n\")"
   ]
  },
  {
   "cell_type": "code",
   "execution_count": null,
   "id": "381908c0-163e-480b-94c4-2f2697607775",
   "metadata": {},
   "outputs": [],
   "source": []
  },
  {
   "cell_type": "markdown",
   "id": "a8fce383-e591-41e4-a342-f019f145f5a9",
   "metadata": {},
   "source": [
    "## Generating Multi-Fold Training DataSet"
   ]
  },
  {
   "cell_type": "code",
   "execution_count": 6,
   "id": "61f11b8e-ce57-4b06-9a94-e76879d06e07",
   "metadata": {},
   "outputs": [],
   "source": [
    "def create_train_dataset(upper_level_dir=None, fold_dirs=None, p_classes=None, n_classes=None, export_path=None):\n",
    "    train_dataset = {};\n",
    "    for fold in fold_dirs:\n",
    "        train_dataset['fold{}'.format(fold)] = {}\n",
    "        train_sounds = []\n",
    "        train_labels = []\n",
    "        for t in p_classes:\n",
    "            #Dealing with positive wav files\n",
    "            p_current_dir = os.path.join(upper_level_dir,fold,'positive',t)\n",
    "            print(f\"work on dir:{p_current_dir}\");\n",
    "            lbl = t[t.rfind('_')+1:]\n",
    "            tmp_list = getFileList(p_current_dir)\n",
    "            for f in tmp_list:\n",
    "                sound = wavio.read(f).data.T[0]\n",
    "                start = sound.nonzero()[0].min()\n",
    "                end = sound.nonzero()[0].max()\n",
    "                sound = sound[start: end + 1]  # Remove silent sections\n",
    "                train_sounds.append(sound)\n",
    "                train_labels.append(lbl)\n",
    "        for c in n_classes:\n",
    "            n_current_dir = os.path.join(upper_level_dir,fold,'negative',c)\n",
    "            print(f\"work on dir:{n_current_dir}\");\n",
    "            n_lbl = c[:c.find('_')]\n",
    "            tmp_list2 = getFileList(n_current_dir)\n",
    "            for f in tmp_list2:\n",
    "                sound = wavio.read(f).data.T[0]\n",
    "                start = sound.nonzero()[0].min()\n",
    "                end = sound.nonzero()[0].max()\n",
    "                sound = sound[start: end + 1]  # Remove silent sections\n",
    "                train_sounds.append(sound)\n",
    "                train_labels.append(n_lbl)\n",
    "\n",
    "        train_dataset['fold{}'.format(fold)]['sounds'] = train_sounds\n",
    "        train_dataset['fold{}'.format(fold)]['labels'] = train_labels\n",
    "    np.savez(export_path, **train_dataset)\n",
    "    print(f\"Training Data is generated and save at {export_path}\")"
   ]
  },
  {
   "cell_type": "code",
   "execution_count": 41,
   "id": "f5f2b15c-e544-43bb-b632-c65faa5a4738",
   "metadata": {},
   "outputs": [
    {
     "name": "stdout",
     "output_type": "stream",
     "text": [
      "work on dir:../../datasets/CurrentUse/wav_files/fold1/positive/alarm_52\n",
      "work on dir:../../datasets/CurrentUse/wav_files/fold1/positive/help_mandrain_71\n",
      "work on dir:../../datasets/CurrentUse/wav_files/fold1/negative/10_rain_esc50\n",
      "work on dir:../../datasets/CurrentUse/wav_files/fold1/negative/14_chirping_birds_esc50\n",
      "work on dir:../../datasets/CurrentUse/wav_files/fold1/negative/15_water_drop_esc50\n",
      "work on dir:../../datasets/CurrentUse/wav_files/fold1/negative/17_pouring_water_esc50\n",
      "work on dir:../../datasets/CurrentUse/wav_files/fold1/negative/18_toilet_flush_esc50\n",
      "work on dir:../../datasets/CurrentUse/wav_files/fold1/negative/19_thunderstorm_esc50\n",
      "work on dir:../../datasets/CurrentUse/wav_files/fold2/positive/alarm_52\n",
      "work on dir:../../datasets/CurrentUse/wav_files/fold2/positive/help_mandrain_71\n",
      "work on dir:../../datasets/CurrentUse/wav_files/fold2/negative/10_rain_esc50\n",
      "work on dir:../../datasets/CurrentUse/wav_files/fold2/negative/14_chirping_birds_esc50\n",
      "work on dir:../../datasets/CurrentUse/wav_files/fold2/negative/15_water_drop_esc50\n",
      "work on dir:../../datasets/CurrentUse/wav_files/fold2/negative/17_pouring_water_esc50\n",
      "work on dir:../../datasets/CurrentUse/wav_files/fold2/negative/18_toilet_flush_esc50\n",
      "work on dir:../../datasets/CurrentUse/wav_files/fold2/negative/19_thunderstorm_esc50\n",
      "work on dir:../../datasets/CurrentUse/wav_files/fold3/positive/alarm_52\n",
      "work on dir:../../datasets/CurrentUse/wav_files/fold3/positive/help_mandrain_71\n",
      "work on dir:../../datasets/CurrentUse/wav_files/fold3/negative/10_rain_esc50\n",
      "work on dir:../../datasets/CurrentUse/wav_files/fold3/negative/14_chirping_birds_esc50\n",
      "work on dir:../../datasets/CurrentUse/wav_files/fold3/negative/15_water_drop_esc50\n",
      "work on dir:../../datasets/CurrentUse/wav_files/fold3/negative/17_pouring_water_esc50\n",
      "work on dir:../../datasets/CurrentUse/wav_files/fold3/negative/18_toilet_flush_esc50\n",
      "work on dir:../../datasets/CurrentUse/wav_files/fold3/negative/19_thunderstorm_esc50\n",
      "work on dir:../../datasets/CurrentUse/wav_files/fold4/positive/alarm_52\n",
      "work on dir:../../datasets/CurrentUse/wav_files/fold4/positive/help_mandrain_71\n",
      "work on dir:../../datasets/CurrentUse/wav_files/fold4/negative/10_rain_esc50\n",
      "work on dir:../../datasets/CurrentUse/wav_files/fold4/negative/14_chirping_birds_esc50\n",
      "work on dir:../../datasets/CurrentUse/wav_files/fold4/negative/15_water_drop_esc50\n",
      "work on dir:../../datasets/CurrentUse/wav_files/fold4/negative/17_pouring_water_esc50\n",
      "work on dir:../../datasets/CurrentUse/wav_files/fold4/negative/18_toilet_flush_esc50\n",
      "work on dir:../../datasets/CurrentUse/wav_files/fold4/negative/19_thunderstorm_esc50\n",
      "work on dir:../../datasets/CurrentUse/wav_files/fold5/positive/alarm_52\n",
      "work on dir:../../datasets/CurrentUse/wav_files/fold5/positive/help_mandrain_71\n",
      "work on dir:../../datasets/CurrentUse/wav_files/fold5/negative/10_rain_esc50\n",
      "work on dir:../../datasets/CurrentUse/wav_files/fold5/negative/14_chirping_birds_esc50\n",
      "work on dir:../../datasets/CurrentUse/wav_files/fold5/negative/15_water_drop_esc50\n",
      "work on dir:../../datasets/CurrentUse/wav_files/fold5/negative/17_pouring_water_esc50\n",
      "work on dir:../../datasets/CurrentUse/wav_files/fold5/negative/18_toilet_flush_esc50\n",
      "work on dir:../../datasets/CurrentUse/wav_files/fold5/negative/19_thunderstorm_esc50\n",
      "Training Data is generated and save at ../CurrentUse/generated_datasets/train/multi_folds_train_20240314161835.npz\n"
     ]
    }
   ],
   "source": [
    "fold_dirs = [\"fold1\",\"fold2\",\"fold3\",\"fold4\",\"fold5\"];\n",
    "p_classes = [\"alarm_52\",\"help_mandrain_71\"]\n",
    "n_classes = [\"10_rain_esc50\",\"14_chirping_birds_esc50\",\"15_water_drop_esc50\",\"17_pouring_water_esc50\",\"18_toilet_flush_esc50\",\"19_thunderstorm_esc50\"]\n",
    "upper_level_dir = \"../../datasets/CurrentUse/wav_files/\"\n",
    "output_path = \"../CurrentUse/generated_datasets/train/multi_folds_train_{}.npz\".format(genDataTimeStr());\n",
    "dataset = create_dataset(upper_level_dir=upper_level_dir, fold_dirs=fold_dirs, p_classes=p_classes, n_classes=n_classes,export_path=output_path);\n"
   ]
  },
  {
   "cell_type": "code",
   "execution_count": null,
   "id": "648bf9f0-f1f3-487b-a757-0ec646a6a2d1",
   "metadata": {},
   "outputs": [],
   "source": []
  },
  {
   "cell_type": "markdown",
   "id": "136f20e5-9dcc-4f5b-8def-8e22ef916031",
   "metadata": {},
   "source": [
    "## Generating Test DataSet"
   ]
  },
  {
   "cell_type": "code",
   "execution_count": null,
   "id": "8d299358-bb67-4ee2-86e1-d395ad658b51",
   "metadata": {},
   "outputs": [],
   "source": []
  },
  {
   "cell_type": "code",
   "execution_count": 14,
   "id": "f05052a5-66dd-4923-9900-257d7cdb3a9e",
   "metadata": {},
   "outputs": [],
   "source": [
    "# test_list = [52 for _ in range(87)]"
   ]
  },
  {
   "cell_type": "code",
   "execution_count": 15,
   "id": "bf31e394-fe95-41a5-8fc4-8374f548f63d",
   "metadata": {},
   "outputs": [],
   "source": [
    "# print(test_list)"
   ]
  },
  {
   "cell_type": "code",
   "execution_count": 16,
   "id": "ca78cdec-8267-4c39-a4db-7699497c98e0",
   "metadata": {},
   "outputs": [],
   "source": [
    "# print(len(test_list))"
   ]
  },
  {
   "cell_type": "code",
   "execution_count": 8,
   "id": "c7fafe4d-8aad-4452-91f2-8f8c89d407e6",
   "metadata": {},
   "outputs": [],
   "source": [
    "# test_lbl = 'alarm_52'\n",
    "# print(test_lbl[test_lbl.rfind('_')+1:])"
   ]
  },
  {
   "cell_type": "code",
   "execution_count": 7,
   "id": "d59b1e21-92cf-4125-b6e7-54d386ae81dd",
   "metadata": {},
   "outputs": [],
   "source": [
    "# test_lbl2 = '12_rainfall'\n",
    "# print(test_lbl2[:test_lbl2.find('_')])"
   ]
  },
  {
   "cell_type": "code",
   "execution_count": null,
   "id": "d002a424-e8a1-45fa-b94b-77d014b111d9",
   "metadata": {},
   "outputs": [],
   "source": []
  }
 ],
 "metadata": {
  "kernelspec": {
   "display_name": "Python 3 (ipykernel)",
   "language": "python",
   "name": "python3"
  },
  "language_info": {
   "codemirror_mode": {
    "name": "ipython",
    "version": 3
   },
   "file_extension": ".py",
   "mimetype": "text/x-python",
   "name": "python",
   "nbconvert_exporter": "python",
   "pygments_lexer": "ipython3",
   "version": "3.9.18"
  }
 },
 "nbformat": 4,
 "nbformat_minor": 5
}
