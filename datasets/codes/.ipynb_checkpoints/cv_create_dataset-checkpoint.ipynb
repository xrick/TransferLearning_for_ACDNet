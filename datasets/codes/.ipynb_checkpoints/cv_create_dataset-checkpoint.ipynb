{
 "cells": [
  {
   "cell_type": "code",
   "execution_count": 25,
   "id": "a8d8b8dd-0a37-48f5-a3e6-ab9394b2e258",
   "metadata": {},
   "outputs": [],
   "source": [
    "import os\n",
    "import sys\n",
    "import numpy as np\n",
    "from random import shuffle\n",
    "import wavio"
   ]
  },
  {
   "cell_type": "code",
   "execution_count": 2,
   "id": "79dce1b0-d527-48ca-9127-c7d1f2b463db",
   "metadata": {},
   "outputs": [],
   "source": [
    "sys.path.append(\"../../\")"
   ]
  },
  {
   "cell_type": "code",
   "execution_count": 3,
   "id": "cc1baae9-c56a-4100-a83f-0d8f5422e7a0",
   "metadata": {},
   "outputs": [],
   "source": [
    "from Libs.SharedLibs import getFileList;"
   ]
  },
  {
   "cell_type": "code",
   "execution_count": 6,
   "id": "7777f9bf-fa50-422f-882f-3b162b96d147",
   "metadata": {},
   "outputs": [],
   "source": [
    "wav_src_dir = \"../../datasets/CurrentUse/wav_files/fold{}\""
   ]
  },
  {
   "cell_type": "code",
   "execution_count": 5,
   "id": "00578444-a85a-4478-8906-3368c1d1b3a4",
   "metadata": {},
   "outputs": [
    {
     "name": "stdout",
     "output_type": "stream",
     "text": [
      "Original array:\n",
      " [[0 0 0]\n",
      " [1 1 1]\n",
      " [2 2 2]\n",
      " [3 3 3]\n",
      " [4 4 4]] \n",
      "\n",
      "Target labels:\n",
      " [0 1 2 3 4] \n",
      "\n",
      "Shuffled array and target label with same order:\n",
      " [[2 2 2]\n",
      " [4 4 4]\n",
      " [3 3 3]\n",
      " [0 0 0]\n",
      " [1 1 1]] \n",
      "\n",
      " [2 4 3 0 1] \n",
      "\n"
     ]
    }
   ],
   "source": [
    "#shuffle test\n",
    "arr = np.array([[0, 0, 0], [1, 1, 1], [2, 2, 2], [3, 3, 3], [4, 4, 4]])\n",
    "# Display original array\n",
    "print(\"Original array:\\n\",arr,\"\\n\")\n",
    "# Creating target labels\n",
    "tar = np.array([0, 1, 2, 3, 4])\n",
    "# Display target labels\n",
    "print(\"Target labels:\\n\",tar,\"\\n\")\n",
    "# Shuffling array and target labels by same order\n",
    "ind = [i for i in range(len(arr))]\n",
    "shuffle(ind)\n",
    "arr_new = arr[ind]\n",
    "tar_new = tar[ind]\n",
    "# Display result\n",
    "print(\"Shuffled array and target label with same order:\\n\",arr_new,\"\\n\\n\",tar_new,\"\\n\")"
   ]
  },
  {
   "cell_type": "code",
   "execution_count": null,
   "id": "381908c0-163e-480b-94c4-2f2697607775",
   "metadata": {},
   "outputs": [],
   "source": []
  },
  {
   "cell_type": "code",
   "execution_count": 8,
   "id": "dd0a6d08-3b08-461f-b943-7fc994e268ed",
   "metadata": {},
   "outputs": [],
   "source": []
  },
  {
   "cell_type": "code",
   "execution_count": 34,
   "id": "61f11b8e-ce57-4b06-9a94-e76879d06e07",
   "metadata": {},
   "outputs": [],
   "source": [
    "def create_dataset(upper_level_dir=None, fold_dirs=None, p_classes=None, n_classes=None):\n",
    "    train_dataset = {};\n",
    "    for fold in fold_dirs:\n",
    "        train_dataset['fold{}'.format(fold)] = {}\n",
    "        train_sounds = []\n",
    "        train_labels = []\n",
    "        for t in p_classes:\n",
    "            #Dealing with positive wav files\n",
    "            p_current_dir = os.path.join(upper_level_dir,fold,'positive',t)\n",
    "            print(f\"work on dir:{p_current_dir}\");\n",
    "            lbl = t[t.rfind('_')+1:]\n",
    "            tmp_list = getFileList(p_current_dir)\n",
    "            for f in tmp_list:\n",
    "                sound = wavio.read(f).data.T[0]\n",
    "                start = sound.nonzero()[0].min()\n",
    "                end = sound.nonzero()[0].max()\n",
    "                sound = sound[start: end + 1]  # Remove silent sections\n",
    "                train_sounds.append(sound)\n",
    "                train_labels.append(lbl)\n",
    "        for c in n_classes:\n",
    "            n_current_dir = os.path.join(upper_level_dir,fold,'negative',c)\n",
    "            print(f\"work on dir:{n_current_dir}\");\n",
    "            n_lbl = c[:c.find('_')]\n",
    "            tmp_list2 = getFileList(n_current_dir)\n",
    "            for f in tmp_list2:\n",
    "                sound = wavio.read(f).data.T[0]\n",
    "                start = sound.nonzero()[0].min()\n",
    "                end = sound.nonzero()[0].max()\n",
    "                sound = sound[start: end + 1]  # Remove silent sections\n",
    "                train_sounds.append(sound)\n",
    "                train_labels.append(n_lbl)\n",
    "\n",
    "        train_dataset['fold{}'.format(fold)]['sounds'] = train_sounds\n",
    "        train_dataset['fold{}'.format(fold)]['labels'] = train_labels\n",
    "    return train_dataset"
   ]
  },
  {
   "cell_type": "code",
   "execution_count": 35,
   "id": "f5f2b15c-e544-43bb-b632-c65faa5a4738",
   "metadata": {},
   "outputs": [
    {
     "name": "stdout",
     "output_type": "stream",
     "text": [
      "work on dir:../../datasets/CurrentUse/wav_files/fold1/positive/alarm_52\n",
      "work on dir:../../datasets/CurrentUse/wav_files/fold1/positive/help_mandrain_71\n",
      "work on dir:../../datasets/CurrentUse/wav_files/fold1/negative/10_rain_esc50\n",
      "work on dir:../../datasets/CurrentUse/wav_files/fold1/negative/14_chirping_birds_esc50\n",
      "work on dir:../../datasets/CurrentUse/wav_files/fold1/negative/15_water_drop_esc50\n",
      "work on dir:../../datasets/CurrentUse/wav_files/fold1/negative/17_pouring_water_esc50\n",
      "work on dir:../../datasets/CurrentUse/wav_files/fold1/negative/18_toilet_flush_esc50\n",
      "work on dir:../../datasets/CurrentUse/wav_files/fold1/negative/19_thunderstorm_esc50\n",
      "work on dir:../../datasets/CurrentUse/wav_files/fold2/positive/alarm_52\n",
      "work on dir:../../datasets/CurrentUse/wav_files/fold2/positive/help_mandrain_71\n",
      "work on dir:../../datasets/CurrentUse/wav_files/fold2/negative/10_rain_esc50\n",
      "work on dir:../../datasets/CurrentUse/wav_files/fold2/negative/14_chirping_birds_esc50\n",
      "work on dir:../../datasets/CurrentUse/wav_files/fold2/negative/15_water_drop_esc50\n",
      "work on dir:../../datasets/CurrentUse/wav_files/fold2/negative/17_pouring_water_esc50\n",
      "work on dir:../../datasets/CurrentUse/wav_files/fold2/negative/18_toilet_flush_esc50\n",
      "work on dir:../../datasets/CurrentUse/wav_files/fold2/negative/19_thunderstorm_esc50\n",
      "work on dir:../../datasets/CurrentUse/wav_files/fold3/positive/alarm_52\n",
      "work on dir:../../datasets/CurrentUse/wav_files/fold3/positive/help_mandrain_71\n",
      "work on dir:../../datasets/CurrentUse/wav_files/fold3/negative/10_rain_esc50\n",
      "work on dir:../../datasets/CurrentUse/wav_files/fold3/negative/14_chirping_birds_esc50\n",
      "work on dir:../../datasets/CurrentUse/wav_files/fold3/negative/15_water_drop_esc50\n",
      "work on dir:../../datasets/CurrentUse/wav_files/fold3/negative/17_pouring_water_esc50\n",
      "work on dir:../../datasets/CurrentUse/wav_files/fold3/negative/18_toilet_flush_esc50\n",
      "work on dir:../../datasets/CurrentUse/wav_files/fold3/negative/19_thunderstorm_esc50\n",
      "work on dir:../../datasets/CurrentUse/wav_files/fold4/positive/alarm_52\n",
      "work on dir:../../datasets/CurrentUse/wav_files/fold4/positive/help_mandrain_71\n",
      "work on dir:../../datasets/CurrentUse/wav_files/fold4/negative/10_rain_esc50\n",
      "work on dir:../../datasets/CurrentUse/wav_files/fold4/negative/14_chirping_birds_esc50\n",
      "work on dir:../../datasets/CurrentUse/wav_files/fold4/negative/15_water_drop_esc50\n",
      "work on dir:../../datasets/CurrentUse/wav_files/fold4/negative/17_pouring_water_esc50\n",
      "work on dir:../../datasets/CurrentUse/wav_files/fold4/negative/18_toilet_flush_esc50\n",
      "work on dir:../../datasets/CurrentUse/wav_files/fold4/negative/19_thunderstorm_esc50\n",
      "work on dir:../../datasets/CurrentUse/wav_files/fold5/positive/alarm_52\n",
      "work on dir:../../datasets/CurrentUse/wav_files/fold5/positive/help_mandrain_71\n",
      "work on dir:../../datasets/CurrentUse/wav_files/fold5/negative/10_rain_esc50\n",
      "work on dir:../../datasets/CurrentUse/wav_files/fold5/negative/14_chirping_birds_esc50\n",
      "work on dir:../../datasets/CurrentUse/wav_files/fold5/negative/15_water_drop_esc50\n",
      "work on dir:../../datasets/CurrentUse/wav_files/fold5/negative/17_pouring_water_esc50\n",
      "work on dir:../../datasets/CurrentUse/wav_files/fold5/negative/18_toilet_flush_esc50\n",
      "work on dir:../../datasets/CurrentUse/wav_files/fold5/negative/19_thunderstorm_esc50\n",
      "{'foldfold1': {'sounds': [array([-85, -88, -28, ...,   7,  28,  60], dtype=int16), array([   24,   -14,   -67, ...,  8950,  1085, -9095], dtype=int16), array([    1,    -2,     3, ..., -1998,   -42,  2602], dtype=int16), array([-32768, -32768,  22041, ...,  13926,  32764,  26517], dtype=int16), array([-3256, -1066, -1821, ..., -7661, -6173,  3780], dtype=int16), array([   430,    671,    566, ..., -13522,  -5764,   3361], dtype=int16), array([    1,    -2,     2, ...,  -899, -4593, -7869], dtype=int16), array([ 348,  119, -479, ..., 1517, 1112,   66], dtype=int16), array([ 5008,  4036, -3196, ..., -7079,  2975, 11649], dtype=int16), array([ 40,  67,  48, ..., -97, -79, -66], dtype=int16), array([  1259,  -3845,  -6035, ...,   2217, -28603, -32454], dtype=int16), array([  1431,   2776,   1824, ..., -20074,  -9478,  20354], dtype=int16), array([-1556, -3232, -3150, ..., 15723,  9182, -1757], dtype=int16), array([-25988, -31232,   5842, ...,  16641,  26866,   8063], dtype=int16), array([-68, -83, -60, ...,  80,   4, -72], dtype=int16), array([-2244, -5627, -2146, ..., -3173, -6775, -1920], dtype=int16), array([ 14,  13,  38, ..., -20, -37, -23], dtype=int16), array([    1,    -2,     3, ..., 19580, 18368, 20048], dtype=int16), array([  -107,   -527,   -981, ..., -12355,  -8037,  10460], dtype=int16), array([ -2470,   2844,   8779, ...,  -9981, -21511,  -9669], dtype=int16), array([  616,   491,  -182, ..., 11615,  5384, -8645], dtype=int16), array([ -2560,   8645,  19144, ..., -14909, -22169, -24684], dtype=int16), array([ -4692,  -7700,  -5226, ..., -13166, -14603, -10439], dtype=int16), array([-38, -33,  11, ..., -45,  51, 108], dtype=int16), array([     1,     -2,      2, ...,  -5190, -18630,  -9610], dtype=int16), array([ 125,  226,  -21, ..., -248, -299, -244], dtype=int16), array([ 1313,   219, -1192, ...,  -593, -2228, -2628], dtype=int16), array([-32,  28, 167, ..., 212, 241, 135], dtype=int16), array([18359, 28757, 29895, ..., 22460, 32766,  3903], dtype=int16), array([   85,   206,   358, ..., 11388,  7817, -7957], dtype=int16), array([  589,    -8,   284, ..., -3721, -1150,  2825], dtype=int16), array([-101, -176, -174, ...,   23,  -52,  -85], dtype=int16), array([   8,   18,  -20, ...,  391, 1853, 1251], dtype=int16), array([  -255,  19341,  28563, ..., -10453,  18487,  32377], dtype=int16), array([  7770,   2424, -16998, ...,  14744,  31156,  32767], dtype=int16), array([  988,   821, -2013, ..., -2029, -3133,  2560], dtype=int16), array([   46,    46,    46, ..., -3249, -3542, -4081], dtype=int16), array([  462,   872,   318, ..., -1179,   867,  -974], dtype=int16), array([ -49, -399, -149, ..., -316, -222, -208], dtype=int16), array([-2528,  -197,   424, ..., -3865, -3785, -1187], dtype=int16), array([ -340,  -314,  -323, ..., -3907, -3682, -2842], dtype=int16), array([3616, 3750, 4051, ..., 1385,  424, -523], dtype=int16), array([  5564,   7072,   7658, ...,  -9673,  -8764, -10404], dtype=int16), array([-1824, -2518, -3669, ...,   209,  -799, -2611], dtype=int16), array([1400, 2440, 1093, ..., 2302, 1307, 1814], dtype=int16), array([766, 807, 926, ..., 272, 204, 687], dtype=int16), array([ 49,  49,   5, ...,  86,  46, -70], dtype=int16), array([  -22,    38,    -8, ..., -1167,   309,   969], dtype=int16), array([  -27,    50,    27, ...,  -945, -1059,  -413], dtype=int16), array([-16, -15, -17, ..., 776, 575, 207], dtype=int16), array([ 147,  495, -160, ...,   64,  123,   87], dtype=int16), array([ -8,  -1,  18, ..., 115, 114,  71], dtype=int16), array([  1,  -9, -14, ...,   1,  -1,  -2], dtype=int16), array([ 98,  71, 102, ...,  33,  37,  48], dtype=int16), array([-4116, -6236,  -244, ...,     0,     0,     1], dtype=int16), array([-106, -108, -117, ..., -289, -289, -285], dtype=int16), array([202, 157, 103, ...,   0,   0,  -1], dtype=int16), array([-62, -46, -60, ...,   0,   0,   1], dtype=int16), array([  1,   0,   1, ..., 831,  59, 645], dtype=int16), array([155, 223,  -2, ...,   1,   0,  -2], dtype=int16), array([-33, -35, -31, ...,  92,  76,  51], dtype=int16), array([  -1,    3,    1, ...,   95, -597, -599], dtype=int16), array([-1, -3, -2, ...,  3,  8,  2], dtype=int16), array([ -33,  -37,  -37, ...,  -97, -154, -136], dtype=int16), array([377, 596, 504, ..., 207,  98, -14], dtype=int16), array([  -1,    0,    0, ..., -320, -451,  -38], dtype=int16), array([    3,     4,     2, ...,    10, -1818, -1746], dtype=int16), array([  1,   2,   1, ...,  80, 174,  48], dtype=int16), array([ 1, -1, -1, ...,  1,  0, -1], dtype=int16), array([  -87,  -162,  -175, ..., -2713, -2373, -2915], dtype=int16), array([ 1328,  2338,  2806, ..., -1082,  -616,  -394], dtype=int16), array([-1356, -1438, -1406, ...,  -457,  1410,  1128], dtype=int16), array([-232, -221, -226, ...,  -26, -695, -222], dtype=int16), array([   -1,     0,     0, ..., -1728,  2057,  2215], dtype=int16), array([ -547,  -488,  -531, ..., -1849, -1884, -1929], dtype=int16), array([-2400, -1259,   598, ..., -1105, -1150, -1161], dtype=int16), array([-870, -782, -712, ..., -237, -186,  -20], dtype=int16), array([-915, -556,  -52, ..., 9116, 9343, 9753], dtype=int16), array([ 400,  392,  395, ..., 2746, 2708, 2644], dtype=int16)], 'labels': ['52', '52', '52', '52', '52', '52', '52', '52', '52', '52', '52', '52', '52', '52', '52', '52', '52', '52', '52', '52', '52', '52', '52', '52', '52', '52', '52', '52', '52', '52', '52', '52', '52', '52', '52', '52', '10', '10', '10', '10', '10', '10', '10', '10', '14', '14', '14', '14', '14', '15', '15', '15', '15', '15', '15', '15', '15', '17', '17', '17', '17', '17', '17', '17', '17', '18', '18', '18', '18', '18', '18', '18', '18', '18', '19', '19', '19', '19', '19']}, 'foldfold2': {'sounds': [array([  -95,  -110,   -26, ..., -1822, -1654,    57], dtype=int16), array([-100, -177, -185, ...,  243,  635,   37], dtype=int16), array([-24, -33, -35, ..., 373, 504, 326], dtype=int16), array([-29329, -32768,  -8056, ...,  -8430,   -405,  -1935], dtype=int16), array([  -167,    210,    -68, ..., -32765, -32768,  28886], dtype=int16), array([10533, 11644, -2938, ...,  6297, 15844, 18310], dtype=int16), array([ 21225, -32767, -32768, ...,  32767,  32765,  32767], dtype=int16), array([ -6857, -13097,  -4130, ...,    399,    474,    404], dtype=int16), array([-5083, -4971, -4195, ..., -1573, -1883, -1853], dtype=int16), array([ -58, -104,  -15, ..., -203, -180, -254], dtype=int16), array([  -218,   -312,   -195, ...,  18932,    152, -21553], dtype=int16), array([3837, 5341, 1757, ..., -105, -124,  -49], dtype=int16), array([  -736,  -1207,  -1694, ..., -10999,  -6689,  -3064], dtype=int16), array([   213,    167,     51, ..., -32766, -32768, -32765], dtype=int16), array([  733,  3507,  5290, ..., -3364, -4573, -4664], dtype=int16), array([ -172,  -111,   203, ...,   905,  3881, -2092], dtype=int16), array([  -67,  -120,   -82, ...,  1752, -1175, -3221], dtype=int16), array([  -70,   -24,   134, ..., -2939,  -995,  2321], dtype=int16), array([-1118, -2655, -3775, ...,  -145, -1483, -2676], dtype=int16), array([ 98, 145, 406, ..., 236, 404, 263], dtype=int16), array([   220,    315,    271, ..., -17760,  -5513,   6555], dtype=int16), array([ 382,  775,  559, ..., -117, -322,  595], dtype=int16), array([ 15,  38,  20, ..., -47, -37, -27], dtype=int16), array([-19063, -23463, -20941, ...,  11538,   7159,    787], dtype=int16), array([ -254,   272,  1356, ..., -1424,   959,  2113], dtype=int16), array([ 5969,  5812,  6172, ..., -5216, -5230, -5070], dtype=int16), array([3526, 3427, 1619, ..., 4722, 5040, 3479], dtype=int16), array([  146,    83,  -201, ...,  5919,  3026, -3918], dtype=int16), array([1373, 2770,   60, ..., -148, -193,  357], dtype=int16), array([-1708,  -686,  4485, ...,    10,    13,    26], dtype=int16), array([   48,   196,   170, ..., -6508, 31398, 32767], dtype=int16), array([ -113,  -200,  -140, ...,  1634, -2298, -4020], dtype=int16), array([-2179, -2887,  -526, ...,   584,  -855, -1350], dtype=int16), array([  9361,  12672,  -7303, ..., -31465,  -2619,  28074], dtype=int16), array([ -7275, -26526, -21504, ...,  16677,  32764,  32767], dtype=int16), array([   229,    153,    113, ...,  31458,  30477, -23027], dtype=int16), array([   46,    46,    46, ..., -3249, -3542, -4081], dtype=int16), array([  462,   872,   318, ..., -1179,   867,  -974], dtype=int16), array([ -49, -399, -149, ..., -316, -222, -208], dtype=int16), array([-2528,  -197,   424, ..., -3865, -3785, -1187], dtype=int16), array([ -340,  -314,  -323, ..., -3907, -3682, -2842], dtype=int16), array([3616, 3750, 4051, ..., 1385,  424, -523], dtype=int16), array([  5564,   7072,   7658, ...,  -9673,  -8764, -10404], dtype=int16), array([-1824, -2518, -3669, ...,   209,  -799, -2611], dtype=int16), array([1400, 2440, 1093, ..., 2302, 1307, 1814], dtype=int16), array([766, 807, 926, ..., 272, 204, 687], dtype=int16), array([ 49,  49,   5, ...,  86,  46, -70], dtype=int16), array([  -22,    38,    -8, ..., -1167,   309,   969], dtype=int16), array([  -27,    50,    27, ...,  -945, -1059,  -413], dtype=int16), array([-16, -15, -17, ..., 776, 575, 207], dtype=int16), array([ 147,  495, -160, ...,   64,  123,   87], dtype=int16), array([ -8,  -1,  18, ..., 115, 114,  71], dtype=int16), array([  1,  -9, -14, ...,   1,  -1,  -2], dtype=int16), array([ 98,  71, 102, ...,  33,  37,  48], dtype=int16), array([-4116, -6236,  -244, ...,     0,     0,     1], dtype=int16), array([-106, -108, -117, ..., -289, -289, -285], dtype=int16), array([202, 157, 103, ...,   0,   0,  -1], dtype=int16), array([-62, -46, -60, ...,   0,   0,   1], dtype=int16), array([  1,   0,   1, ..., 831,  59, 645], dtype=int16), array([155, 223,  -2, ...,   1,   0,  -2], dtype=int16), array([-33, -35, -31, ...,  92,  76,  51], dtype=int16), array([  -1,    3,    1, ...,   95, -597, -599], dtype=int16), array([-1, -3, -2, ...,  3,  8,  2], dtype=int16), array([ -33,  -37,  -37, ...,  -97, -154, -136], dtype=int16), array([377, 596, 504, ..., 207,  98, -14], dtype=int16), array([  -1,    0,    0, ..., -320, -451,  -38], dtype=int16), array([    3,     4,     2, ...,    10, -1818, -1746], dtype=int16), array([  1,   2,   1, ...,  80, 174,  48], dtype=int16), array([ 1, -1, -1, ...,  1,  0, -1], dtype=int16), array([  -87,  -162,  -175, ..., -2713, -2373, -2915], dtype=int16), array([ 1328,  2338,  2806, ..., -1082,  -616,  -394], dtype=int16), array([-1356, -1438, -1406, ...,  -457,  1410,  1128], dtype=int16), array([-232, -221, -226, ...,  -26, -695, -222], dtype=int16), array([   -1,     0,     0, ..., -1728,  2057,  2215], dtype=int16), array([ -547,  -488,  -531, ..., -1849, -1884, -1929], dtype=int16), array([-2400, -1259,   598, ..., -1105, -1150, -1161], dtype=int16), array([-870, -782, -712, ..., -237, -186,  -20], dtype=int16), array([-915, -556,  -52, ..., 9116, 9343, 9753], dtype=int16), array([ 400,  392,  395, ..., 2746, 2708, 2644], dtype=int16)], 'labels': ['52', '52', '52', '52', '52', '52', '52', '52', '52', '52', '52', '52', '52', '52', '52', '52', '52', '52', '52', '52', '52', '52', '52', '52', '52', '52', '52', '52', '52', '52', '52', '52', '52', '52', '52', '52', '10', '10', '10', '10', '10', '10', '10', '10', '14', '14', '14', '14', '14', '15', '15', '15', '15', '15', '15', '15', '15', '17', '17', '17', '17', '17', '17', '17', '17', '18', '18', '18', '18', '18', '18', '18', '18', '18', '19', '19', '19', '19', '19']}, 'foldfold3': {'sounds': [array([ -649, -1070, -1067, ...,  2035,  2946,  1171], dtype=int16), array([ -204,  -235,  -192, ..., -1629, -3192,  1311], dtype=int16), array([ 1070, -2053, -6687, ..., -8257, -9022, -7422], dtype=int16), array([ -779,  -123,  1046, ...,  -291, -1250,  -335], dtype=int16), array([   76,   126,   138, ..., 12849,  8433, -2708], dtype=int16), array([101, 373, 585, ..., 637, 432, 137], dtype=int16), array([   -1,     2,    -2, ..., 19430, 17897,  9678], dtype=int16), array([-339,   82,  379, ..., 1621, 2443, 1644], dtype=int16), array([ 6201,  3422, -3000, ...,   124, -3007, -5095], dtype=int16), array([ 16,  50,  48, ..., 146, 657, 671], dtype=int16), array([1148, 1148, 1148, ..., 1148, 1148, 1148], dtype=int16), array([  367,   570,   656, ..., 10793, 14465,  4639], dtype=int16), array([-1411, -1664, -1466, ...,  2776, -1186, -1360], dtype=int16), array([  1259,  -3845,  -6035, ...,   2217, -28603, -32454], dtype=int16), array([12879, 11764, 11415, ...,     0,     1,     1], dtype=int16), array([384, 466, 668, ..., 652, 121, -99], dtype=int16), array([-238, -436, -691, ..., 1012, 1000,  908], dtype=int16), array([    26,    -36,      1, ...,   3045,  -2975, -17106], dtype=int16), array([-1,  2, -3, ...,  2, -2,  2], dtype=int16), array([-174, -390, -907, ..., -463, -470, -388], dtype=int16), array([ 1, -2,  2, ...,  2, -2,  6], dtype=int16), array([  -15,   -39,   -62, ..., -3048,  -269,  3564], dtype=int16), array([  5129,  13649,   1904, ..., -10412,  -3198,   2196], dtype=int16), array([-24482, -16340,  21786, ..., -25130, -20430,  -3781], dtype=int16), array([   239,    347,    302, ..., -11410,  15812,  29478], dtype=int16), array([-1993,  -940,   419, ..., -1704, -1131,  -381], dtype=int16), array([  5867, -27225, -32768, ...,   -106,   1213,   1585], dtype=int16), array([ 32767,  32767,  -7077, ..., -32767, -32768, -20938], dtype=int16), array([ -67,  -48,   45, ..., -225, -265,  -93], dtype=int16), array([ -18, -237,   49, ...,   63,  456,  698], dtype=int16), array([  -497,   -143,    414, ..., -32765,  21390,  32767], dtype=int16), array([1630, 1493,  736, ..., 4973, 3405, 2520], dtype=int16), array([-448, -582, -726, ..., 2024, 2308, 2766], dtype=int16), array([ 244,    1, -476, ...,  420, -168, -249], dtype=int16), array([  150,   937,  -539, ...,  -940, -1019,  1354], dtype=int16), array([  24,   38,  -11, ..., -725, -381,  411], dtype=int16), array([   46,    46,    46, ..., -3249, -3542, -4081], dtype=int16), array([  462,   872,   318, ..., -1179,   867,  -974], dtype=int16), array([ -49, -399, -149, ..., -316, -222, -208], dtype=int16), array([-2528,  -197,   424, ..., -3865, -3785, -1187], dtype=int16), array([ -340,  -314,  -323, ..., -3907, -3682, -2842], dtype=int16), array([3616, 3750, 4051, ..., 1385,  424, -523], dtype=int16), array([  5564,   7072,   7658, ...,  -9673,  -8764, -10404], dtype=int16), array([-1824, -2518, -3669, ...,   209,  -799, -2611], dtype=int16), array([1400, 2440, 1093, ..., 2302, 1307, 1814], dtype=int16), array([766, 807, 926, ..., 272, 204, 687], dtype=int16), array([ 49,  49,   5, ...,  86,  46, -70], dtype=int16), array([  -22,    38,    -8, ..., -1167,   309,   969], dtype=int16), array([  -27,    50,    27, ...,  -945, -1059,  -413], dtype=int16), array([-16, -15, -17, ..., 776, 575, 207], dtype=int16), array([ 147,  495, -160, ...,   64,  123,   87], dtype=int16), array([ -8,  -1,  18, ..., 115, 114,  71], dtype=int16), array([  1,  -9, -14, ...,   1,  -1,  -2], dtype=int16), array([ 98,  71, 102, ...,  33,  37,  48], dtype=int16), array([-4116, -6236,  -244, ...,     0,     0,     1], dtype=int16), array([-106, -108, -117, ..., -289, -289, -285], dtype=int16), array([202, 157, 103, ...,   0,   0,  -1], dtype=int16), array([-62, -46, -60, ...,   0,   0,   1], dtype=int16), array([  1,   0,   1, ..., 831,  59, 645], dtype=int16), array([155, 223,  -2, ...,   1,   0,  -2], dtype=int16), array([-33, -35, -31, ...,  92,  76,  51], dtype=int16), array([  -1,    3,    1, ...,   95, -597, -599], dtype=int16), array([-1, -3, -2, ...,  3,  8,  2], dtype=int16), array([ -33,  -37,  -37, ...,  -97, -154, -136], dtype=int16), array([377, 596, 504, ..., 207,  98, -14], dtype=int16), array([  -1,    0,    0, ..., -320, -451,  -38], dtype=int16), array([    3,     4,     2, ...,    10, -1818, -1746], dtype=int16), array([  1,   2,   1, ...,  80, 174,  48], dtype=int16), array([ 1, -1, -1, ...,  1,  0, -1], dtype=int16), array([  -87,  -162,  -175, ..., -2713, -2373, -2915], dtype=int16), array([ 1328,  2338,  2806, ..., -1082,  -616,  -394], dtype=int16), array([-1356, -1438, -1406, ...,  -457,  1410,  1128], dtype=int16), array([-232, -221, -226, ...,  -26, -695, -222], dtype=int16), array([   -1,     0,     0, ..., -1728,  2057,  2215], dtype=int16), array([ -547,  -488,  -531, ..., -1849, -1884, -1929], dtype=int16), array([-2400, -1259,   598, ..., -1105, -1150, -1161], dtype=int16), array([-870, -782, -712, ..., -237, -186,  -20], dtype=int16), array([-915, -556,  -52, ..., 9116, 9343, 9753], dtype=int16), array([ 400,  392,  395, ..., 2746, 2708, 2644], dtype=int16)], 'labels': ['52', '52', '52', '52', '52', '52', '52', '52', '52', '52', '52', '52', '52', '52', '52', '52', '52', '52', '52', '52', '52', '52', '52', '52', '52', '52', '52', '52', '52', '52', '52', '52', '52', '52', '52', '52', '10', '10', '10', '10', '10', '10', '10', '10', '14', '14', '14', '14', '14', '15', '15', '15', '15', '15', '15', '15', '15', '17', '17', '17', '17', '17', '17', '17', '17', '18', '18', '18', '18', '18', '18', '18', '18', '18', '19', '19', '19', '19', '19']}, 'foldfold4': {'sounds': [array([-2222, -3397,   277, ...,    42,   -28,   -95], dtype=int16), array([   737,    861,    538, ...,   3142, -19494, -27677], dtype=int16), array([ 157,   54, -217, ...,  685,  503,   30], dtype=int16), array([10, 22, 17, ..., 21, 19, 26], dtype=int16), array([  9630,   4432, -11711, ..., -25462,  -4787,  28920], dtype=int16), array([ 19,  31,  82, ..., -81, -82, -69], dtype=int16), array([    26,    -33,    -97, ...,  32767,  32767, -25792], dtype=int16), array([-1,  1, -1, ...,  0, -1, -1], dtype=int16), array([    13,    -23,    -43, ...,  -3323, -10898, -15541], dtype=int16), array([   16,    12,    44, ...,  -844, -2036, -1509], dtype=int16), array([  -1,  -17,  -50, ..., -359, 8551, 9969], dtype=int16), array([  -27,   -80,   -25, ..., -2138, -1671,  -879], dtype=int16), array([  2, -12, -10, ...,  47,  58,  34], dtype=int16), array([-335, -230,  459, ...,  130, -160,  177], dtype=int16), array([  1371,  -9040,  -7323, ..., -12698, -16243,   -963], dtype=int16), array([  -120,    918,    627, ..., -31025, -31732, -32765], dtype=int16), array([ -2732,  -7022, -11243, ...,  21786,  28885,  29810], dtype=int16), array([-607, -670,  272, ...,   -4,   -5,    7], dtype=int16), array([ -932,   998,  4981, ..., -5237,  3525,  7760], dtype=int16), array([-185, -177, -191, ...,  -68,  -29,   -1], dtype=int16), array([    -4,    262,    443, ...,   7173, -11057, -18620], dtype=int16), array([  720,  1058,  1528, ..., 10844,   109, -5694], dtype=int16), array([-1,  2, -5, ...,  0,  1,  1], dtype=int16), array([   367,    559,    496, ..., -22367, -22189, -25086], dtype=int16), array([    6,     3,     0, ..., -4663,  9733,  2147], dtype=int16), array([ 353,  200, -102, ..., 5829, 3734, 3020], dtype=int16), array([  73,  107,  203, ..., 6509, 8256, 5067], dtype=int16), array([   1,    0,    0, ..., 7800, 9210, 9955], dtype=int16), array([ -35,  -39,  -45, ..., 3646, 6607,  663], dtype=int16), array([ 1, -2,  2, ...,  5,  7, -3], dtype=int16), array([  1, -33,  78, ..., -59, -70,   1], dtype=int16), array([ -5, -13,  -9, ...,   4, -22, -15], dtype=int16), array([  252,   343,    93, ...,  1927,   175, -1850], dtype=int16), array([ -2500, -15597, -15654, ...,  25729,   3351, -23500], dtype=int16), array([ -313,  -275,   164, ...,  2827, 17594,  8914], dtype=int16), array([ -112,  1100,  1723, ..., 22023, 32767, 32767], dtype=int16), array([   46,    46,    46, ..., -3249, -3542, -4081], dtype=int16), array([  462,   872,   318, ..., -1179,   867,  -974], dtype=int16), array([ -49, -399, -149, ..., -316, -222, -208], dtype=int16), array([-2528,  -197,   424, ..., -3865, -3785, -1187], dtype=int16), array([ -340,  -314,  -323, ..., -3907, -3682, -2842], dtype=int16), array([3616, 3750, 4051, ..., 1385,  424, -523], dtype=int16), array([  5564,   7072,   7658, ...,  -9673,  -8764, -10404], dtype=int16), array([-1824, -2518, -3669, ...,   209,  -799, -2611], dtype=int16), array([1400, 2440, 1093, ..., 2302, 1307, 1814], dtype=int16), array([766, 807, 926, ..., 272, 204, 687], dtype=int16), array([ 49,  49,   5, ...,  86,  46, -70], dtype=int16), array([  -22,    38,    -8, ..., -1167,   309,   969], dtype=int16), array([  -27,    50,    27, ...,  -945, -1059,  -413], dtype=int16), array([-16, -15, -17, ..., 776, 575, 207], dtype=int16), array([ 147,  495, -160, ...,   64,  123,   87], dtype=int16), array([ -8,  -1,  18, ..., 115, 114,  71], dtype=int16), array([  1,  -9, -14, ...,   1,  -1,  -2], dtype=int16), array([ 98,  71, 102, ...,  33,  37,  48], dtype=int16), array([-4116, -6236,  -244, ...,     0,     0,     1], dtype=int16), array([-106, -108, -117, ..., -289, -289, -285], dtype=int16), array([202, 157, 103, ...,   0,   0,  -1], dtype=int16), array([-62, -46, -60, ...,   0,   0,   1], dtype=int16), array([  1,   0,   1, ..., 831,  59, 645], dtype=int16), array([155, 223,  -2, ...,   1,   0,  -2], dtype=int16), array([-33, -35, -31, ...,  92,  76,  51], dtype=int16), array([  -1,    3,    1, ...,   95, -597, -599], dtype=int16), array([-1, -3, -2, ...,  3,  8,  2], dtype=int16), array([ -33,  -37,  -37, ...,  -97, -154, -136], dtype=int16), array([377, 596, 504, ..., 207,  98, -14], dtype=int16), array([  -1,    0,    0, ..., -320, -451,  -38], dtype=int16), array([    3,     4,     2, ...,    10, -1818, -1746], dtype=int16), array([  1,   2,   1, ...,  80, 174,  48], dtype=int16), array([ 1, -1, -1, ...,  1,  0, -1], dtype=int16), array([  -87,  -162,  -175, ..., -2713, -2373, -2915], dtype=int16), array([ 1328,  2338,  2806, ..., -1082,  -616,  -394], dtype=int16), array([-1356, -1438, -1406, ...,  -457,  1410,  1128], dtype=int16), array([-232, -221, -226, ...,  -26, -695, -222], dtype=int16), array([   -1,     0,     0, ..., -1728,  2057,  2215], dtype=int16), array([ -547,  -488,  -531, ..., -1849, -1884, -1929], dtype=int16), array([-2400, -1259,   598, ..., -1105, -1150, -1161], dtype=int16), array([-870, -782, -712, ..., -237, -186,  -20], dtype=int16), array([-915, -556,  -52, ..., 9116, 9343, 9753], dtype=int16), array([ 400,  392,  395, ..., 2746, 2708, 2644], dtype=int16)], 'labels': ['52', '52', '52', '52', '52', '52', '52', '52', '52', '52', '52', '52', '52', '52', '52', '52', '52', '52', '52', '52', '52', '52', '52', '52', '52', '52', '52', '52', '52', '52', '52', '52', '52', '52', '52', '52', '10', '10', '10', '10', '10', '10', '10', '10', '14', '14', '14', '14', '14', '15', '15', '15', '15', '15', '15', '15', '15', '17', '17', '17', '17', '17', '17', '17', '17', '18', '18', '18', '18', '18', '18', '18', '18', '18', '19', '19', '19', '19', '19']}, 'foldfold5': {'sounds': [array([3444, 1700, 1011, ...,    1,   -1,    1], dtype=int16), array([   -1,     2,    -4, ..., 12689, 11775, 12175], dtype=int16), array([ -13,   10, -249, ...,    0,    0,   -1], dtype=int16), array([   19,    19,    21, ..., -4675, -3752,  -992], dtype=int16), array([-231, -237, -238, ..., -502, -500, -491], dtype=int16), array([   19,   313,   400, ...,  1236,  6024, 10438], dtype=int16), array([-1468, -1829, -2153, ...,   160,   165,   139], dtype=int16), array([ -95, -102, -114, ...,  -67,  -68,  -14], dtype=int16), array([-1260, -1333,  -461, ...,  -115,  -140,     1], dtype=int16), array([  327,  3514,  7109, ..., 14433, 18058, 23931], dtype=int16), array([   552,    545,    145, ...,  -3861, -17501, -18041], dtype=int16), array([    1,    -2,     2, ..., -2425,  1129,  6639], dtype=int16), array([1148, 1148, 1148, ..., 1148, 1148, 1148], dtype=int16), array([ 234,  454,  475, ..., -537, -542,  -92], dtype=int16), array([  -44,   -44,   -44, ..., -3245, -3262, -3287], dtype=int16), array([  -137,     65,    227, ..., -10490, -13224,  -1614], dtype=int16), array([   220,    421,    488, ...,  -8463, -32768, -24636], dtype=int16), array([  -1,    1,   -1, ..., 2918, 3931, 7774], dtype=int16), array([   54,  -670,  -862, ..., -5908, -3726,  2875], dtype=int16), array([-1251, -1230, -1228, ..., -4351, -4120, -4153], dtype=int16), array([  1135,  -2394,  -4700, ...,    283,  -8692, -11762], dtype=int16), array([ -89,  -79,  -29, ..., -182, -100,   10], dtype=int16), array([174, 413, 354, ..., 357, 412, 447], dtype=int16), array([ 53, 183, 156, ..., 169, 165, 184], dtype=int16), array([-2371, -3299,  -780, ..., -1368, -2126, -3630], dtype=int16), array([-12005, -14430,  11645, ..., -32766, -32768, -32766], dtype=int16), array([ -1218,  -1238,  -1167, ...,  -8587, -11209,  -7295], dtype=int16), array([-16325, -24951, -21524, ...,    848,  13467,  16762], dtype=int16), array([-1790,  -957, -1463, ...,  2119,  2913,  3075], dtype=int16), array([  107,    25,     1, ...,  -705, -1651, -2378], dtype=int16), array([1148, 1148, 1148, ..., 1148, 1148, 1148], dtype=int16), array([    -4,      4,     -3, ..., -25068, -21524, -21456], dtype=int16), array([  272,   353,   239, ..., 31977, 19669, -1248], dtype=int16), array([-1819, -3033, -3202, ...,   412,   -60, -1478], dtype=int16), array([  -1,   -1,   -1, ..., 6147, 5520, 3798], dtype=int16), array([ 1, -1,  2, ...,  0, -1, -1], dtype=int16), array([   46,    46,    46, ..., -3249, -3542, -4081], dtype=int16), array([  462,   872,   318, ..., -1179,   867,  -974], dtype=int16), array([ -49, -399, -149, ..., -316, -222, -208], dtype=int16), array([-2528,  -197,   424, ..., -3865, -3785, -1187], dtype=int16), array([ -340,  -314,  -323, ..., -3907, -3682, -2842], dtype=int16), array([3616, 3750, 4051, ..., 1385,  424, -523], dtype=int16), array([  5564,   7072,   7658, ...,  -9673,  -8764, -10404], dtype=int16), array([-1824, -2518, -3669, ...,   209,  -799, -2611], dtype=int16), array([1400, 2440, 1093, ..., 2302, 1307, 1814], dtype=int16), array([766, 807, 926, ..., 272, 204, 687], dtype=int16), array([ 49,  49,   5, ...,  86,  46, -70], dtype=int16), array([  -22,    38,    -8, ..., -1167,   309,   969], dtype=int16), array([  -27,    50,    27, ...,  -945, -1059,  -413], dtype=int16), array([-16, -15, -17, ..., 776, 575, 207], dtype=int16), array([ 147,  495, -160, ...,   64,  123,   87], dtype=int16), array([ -8,  -1,  18, ..., 115, 114,  71], dtype=int16), array([  1,  -9, -14, ...,   1,  -1,  -2], dtype=int16), array([ 98,  71, 102, ...,  33,  37,  48], dtype=int16), array([-4116, -6236,  -244, ...,     0,     0,     1], dtype=int16), array([-106, -108, -117, ..., -289, -289, -285], dtype=int16), array([202, 157, 103, ...,   0,   0,  -1], dtype=int16), array([-62, -46, -60, ...,   0,   0,   1], dtype=int16), array([  1,   0,   1, ..., 831,  59, 645], dtype=int16), array([155, 223,  -2, ...,   1,   0,  -2], dtype=int16), array([-33, -35, -31, ...,  92,  76,  51], dtype=int16), array([  -1,    3,    1, ...,   95, -597, -599], dtype=int16), array([-1, -3, -2, ...,  3,  8,  2], dtype=int16), array([ -33,  -37,  -37, ...,  -97, -154, -136], dtype=int16), array([377, 596, 504, ..., 207,  98, -14], dtype=int16), array([  -1,    0,    0, ..., -320, -451,  -38], dtype=int16), array([    3,     4,     2, ...,    10, -1818, -1746], dtype=int16), array([  1,   2,   1, ...,  80, 174,  48], dtype=int16), array([ 1, -1, -1, ...,  1,  0, -1], dtype=int16), array([  -87,  -162,  -175, ..., -2713, -2373, -2915], dtype=int16), array([ 1328,  2338,  2806, ..., -1082,  -616,  -394], dtype=int16), array([-1356, -1438, -1406, ...,  -457,  1410,  1128], dtype=int16), array([-232, -221, -226, ...,  -26, -695, -222], dtype=int16), array([   -1,     0,     0, ..., -1728,  2057,  2215], dtype=int16), array([ -547,  -488,  -531, ..., -1849, -1884, -1929], dtype=int16), array([-2400, -1259,   598, ..., -1105, -1150, -1161], dtype=int16), array([-870, -782, -712, ..., -237, -186,  -20], dtype=int16), array([-915, -556,  -52, ..., 9116, 9343, 9753], dtype=int16), array([ 400,  392,  395, ..., 2746, 2708, 2644], dtype=int16)], 'labels': ['52', '52', '52', '52', '52', '52', '52', '52', '52', '52', '52', '52', '52', '52', '52', '52', '52', '52', '52', '52', '52', '52', '52', '52', '52', '52', '52', '52', '52', '52', '52', '52', '52', '52', '52', '52', '10', '10', '10', '10', '10', '10', '10', '10', '14', '14', '14', '14', '14', '15', '15', '15', '15', '15', '15', '15', '15', '17', '17', '17', '17', '17', '17', '17', '17', '18', '18', '18', '18', '18', '18', '18', '18', '18', '19', '19', '19', '19', '19']}}\n"
     ]
    }
   ],
   "source": [
    "fold_dirs = [\"fold1\",\"fold2\",\"fold3\",\"fold4\",\"fold5\"];\n",
    "p_classes = [\"alarm_52\",\"help_mandrain_71\"]\n",
    "n_classes = [\"10_rain_esc50\",\"14_chirping_birds_esc50\",\"15_water_drop_esc50\",\"17_pouring_water_esc50\",\"18_toilet_flush_esc50\",\"19_thunderstorm_esc50\"]\n",
    "upper_level_dir = \"../../datasets/CurrentUse/wav_files/\"\n",
    "dataset = create_dataset(upper_level_dir=upper_level_dir, fold_dirs=fold_dirs, p_classes=p_classes, n_classes=n_classes);\n",
    "print(dataset)"
   ]
  },
  {
   "cell_type": "code",
   "execution_count": 14,
   "id": "f05052a5-66dd-4923-9900-257d7cdb3a9e",
   "metadata": {},
   "outputs": [],
   "source": [
    "# test_list = [52 for _ in range(87)]"
   ]
  },
  {
   "cell_type": "code",
   "execution_count": 15,
   "id": "bf31e394-fe95-41a5-8fc4-8374f548f63d",
   "metadata": {},
   "outputs": [],
   "source": [
    "# print(test_list)"
   ]
  },
  {
   "cell_type": "code",
   "execution_count": 16,
   "id": "ca78cdec-8267-4c39-a4db-7699497c98e0",
   "metadata": {},
   "outputs": [],
   "source": [
    "# print(len(test_list))"
   ]
  },
  {
   "cell_type": "code",
   "execution_count": 19,
   "id": "c7fafe4d-8aad-4452-91f2-8f8c89d407e6",
   "metadata": {},
   "outputs": [
    {
     "name": "stdout",
     "output_type": "stream",
     "text": [
      "52\n"
     ]
    }
   ],
   "source": [
    "test_lbl = 'alarm_52'\n",
    "print(test_lbl[test_lbl.rfind('_')+1:])"
   ]
  },
  {
   "cell_type": "code",
   "execution_count": 30,
   "id": "d59b1e21-92cf-4125-b6e7-54d386ae81dd",
   "metadata": {},
   "outputs": [
    {
     "name": "stdout",
     "output_type": "stream",
     "text": [
      "12\n"
     ]
    }
   ],
   "source": [
    "test_lbl2 = '12_rainfall'\n",
    "print(test_lbl2[:test_lbl2.find('_')])"
   ]
  },
  {
   "cell_type": "code",
   "execution_count": null,
   "id": "d002a424-e8a1-45fa-b94b-77d014b111d9",
   "metadata": {},
   "outputs": [],
   "source": []
  }
 ],
 "metadata": {
  "kernelspec": {
   "display_name": "Python 3 (ipykernel)",
   "language": "python",
   "name": "python3"
  },
  "language_info": {
   "codemirror_mode": {
    "name": "ipython",
    "version": 3
   },
   "file_extension": ".py",
   "mimetype": "text/x-python",
   "name": "python",
   "nbconvert_exporter": "python",
   "pygments_lexer": "ipython3",
   "version": "3.10.12"
  }
 },
 "nbformat": 4,
 "nbformat_minor": 5
}
