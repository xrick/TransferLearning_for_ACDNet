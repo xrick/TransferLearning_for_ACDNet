{
 "cells": [
  {
   "cell_type": "code",
   "execution_count": 12,
   "id": "a8d8b8dd-0a37-48f5-a3e6-ab9394b2e258",
   "metadata": {},
   "outputs": [],
   "source": [
    "import os\n",
    "import sys\n",
    "import numpy as np\n",
    "from random import shuffle"
   ]
  },
  {
   "cell_type": "code",
   "execution_count": 2,
   "id": "79dce1b0-d527-48ca-9127-c7d1f2b463db",
   "metadata": {},
   "outputs": [],
   "source": [
    "sys.path.append(\"../../\")"
   ]
  },
  {
   "cell_type": "code",
   "execution_count": 3,
   "id": "cc1baae9-c56a-4100-a83f-0d8f5422e7a0",
   "metadata": {},
   "outputs": [],
   "source": [
    "from Libs.SharedLibs import getFileList;"
   ]
  },
  {
   "cell_type": "code",
   "execution_count": 5,
   "id": "7777f9bf-fa50-422f-882f-3b162b96d147",
   "metadata": {},
   "outputs": [],
   "source": [
    "wav_src_dir = \"../../datasets/CurrentUse/wav_files/positive/\""
   ]
  },
  {
   "cell_type": "code",
   "execution_count": 11,
   "id": "00578444-a85a-4478-8906-3368c1d1b3a4",
   "metadata": {},
   "outputs": [
    {
     "name": "stdout",
     "output_type": "stream",
     "text": [
      "Original array:\n",
      " [[0 0 0]\n",
      " [1 1 1]\n",
      " [2 2 2]\n",
      " [3 3 3]\n",
      " [4 4 4]] \n",
      "\n",
      "Target labels:\n",
      " [0 1 2 3 4] \n",
      "\n",
      "Shuffled array and target label with same order:\n",
      " [[2 2 2]\n",
      " [1 1 1]\n",
      " [3 3 3]\n",
      " [4 4 4]\n",
      " [0 0 0]] \n",
      "\n",
      " [2 1 3 4 0] \n",
      "\n"
     ]
    }
   ],
   "source": [
    "#shuffle test\n",
    "arr = np.array([[0, 0, 0], [1, 1, 1], [2, 2, 2], [3, 3, 3], [4, 4, 4]])\n",
    "# Display original array\n",
    "print(\"Original array:\\n\",arr,\"\\n\")\n",
    "# Creating target labels\n",
    "tar = np.array([0, 1, 2, 3, 4])\n",
    "# Display target labels\n",
    "print(\"Target labels:\\n\",tar,\"\\n\")\n",
    "# Shuffling array and target labels by same order\n",
    "ind = [i for i in range(len(arr))]\n",
    "shuffle(ind)\n",
    "arr_new = arr[ind]\n",
    "tar_new = tar[ind]\n",
    "# Display result\n",
    "print(\"Shuffled array and target label with same order:\\n\",arr_new,\"\\n\\n\",tar_new,\"\\n\")"
   ]
  },
  {
   "cell_type": "code",
   "execution_count": null,
   "id": "381908c0-163e-480b-94c4-2f2697607775",
   "metadata": {},
   "outputs": [],
   "source": [
    "def create_wav_list(wav_src_path)->list:\n",
    "    wav_list = [];\n",
    "    return wav_list;"
   ]
  },
  {
   "cell_type": "code",
   "execution_count": null,
   "id": "dd0a6d08-3b08-461f-b943-7fc994e268ed",
   "metadata": {},
   "outputs": [],
   "source": [
    "fold_dirs = [\"fold1\",\"fold2\",\"fold3\",\"fold4\",\"fold5\"];\n",
    "classes = [\"alarm\",\"\"]\n",
    "upper_level_dir = \"../../datasets/CurrentUse/wav_files/\""
   ]
  }
 ],
 "metadata": {
  "kernelspec": {
   "display_name": "Python 3 (ipykernel)",
   "language": "python",
   "name": "python3"
  },
  "language_info": {
   "codemirror_mode": {
    "name": "ipython",
    "version": 3
   },
   "file_extension": ".py",
   "mimetype": "text/x-python",
   "name": "python",
   "nbconvert_exporter": "python",
   "pygments_lexer": "ipython3",
   "version": "3.10.12"
  }
 },
 "nbformat": 4,
 "nbformat_minor": 5
}
