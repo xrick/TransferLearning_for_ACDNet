{
 "cells": [
  {
   "cell_type": "code",
   "execution_count": 1,
   "id": "77e03b58-609e-422d-b7f2-335a019cbabf",
   "metadata": {},
   "outputs": [],
   "source": [
    "import sys\n",
    "import os\n",
    "import subprocess\n",
    "import glob\n",
    "import numpy as np\n",
    "import wavio\n",
    "# import re\n",
    "sys.path.append(os.path.abspath(\"../\"))"
   ]
  },
  {
   "cell_type": "code",
   "execution_count": 2,
   "id": "b5792a24-c33b-4dab-b25f-9a0de972821a",
   "metadata": {},
   "outputs": [],
   "source": [
    "from Libs.SharedLibs import *"
   ]
  },
  {
   "cell_type": "code",
   "execution_count": 3,
   "id": "12049d18-ee23-41f4-a807-3c38c145b9a0",
   "metadata": {},
   "outputs": [],
   "source": [
    "# def getFileList(srcDir,regex='.*\\.wav'):\n",
    "#     # regex = '.*\\.mp3'\n",
    "#     results = os.listdir(srcDir)\n",
    "#     out_files = []\n",
    "#     cnt_files = 0\n",
    "#     for file in results:\n",
    "#         if os.path.isdir(os.path.join(srcDir, file)):\n",
    "#             out_files += getMp3List(os.path.join(srcDir, file))\n",
    "#         elif re.match(regex, file,  re.I):  # file.startswith(startExtension) or file.endswith(\".txt\") or file.endswith(endExtension):\n",
    "#             out_files.append(os.path.join(srcDir, file))\n",
    "#             cnt_files = cnt_files + 1\n",
    "#     return out_files"
   ]
  },
  {
   "cell_type": "code",
   "execution_count": 4,
   "id": "b47e89f7-5fa4-4e8c-a203-ec273ef1e20c",
   "metadata": {},
   "outputs": [],
   "source": [
    "# def Convert(src_wav, dest_wav, sr):\n",
    "#     subprocess.call('ffmpeg -i {} -ac 1 -ar {} -loglevel error -y {}'.format(\n",
    "#             src_wav, sr, dest_wav), shell=True);"
   ]
  },
  {
   "cell_type": "code",
   "execution_count": 5,
   "id": "d26528c0-6f7a-4cb9-bd7d-c4d30d7b9aea",
   "metadata": {},
   "outputs": [],
   "source": [
    "# print(getFileList(\"./forOneClassModel_alarm/alarm_negtive_44K/\"))\n",
    "# src_wav_lst = getFileList(\"./forOneClassModel_alarm/alarm_negtive_44K/\");\n",
    "# dest_wav_dir = \"./forOneClassModel_alarm/alarm_negtive/{}_20k_siren.wav\";\n",
    "# sr = 20000;\n",
    "# for i in src_wav_lst:\n",
    "#     srcname = os.path.basename(i).split('.')[0];\n",
    "#     fname = dest_wav_dir.format(srcname);\n",
    "#     print(\"processing {}...\".format(i));\n",
    "#     Convert(src_wav=i, dest_wav=fname, sr=sr);"
   ]
  },
  {
   "cell_type": "code",
   "execution_count": 8,
   "id": "f5706bda-d8fe-44d6-aa25-350daacddcb7",
   "metadata": {},
   "outputs": [],
   "source": [
    "def getFolderList(rootDir=None):\n",
    "    return [x[0] for x in os.walk(rootDir)]\n",
    "    "
   ]
  },
  {
   "cell_type": "code",
   "execution_count": 9,
   "id": "737ce954-8d3f-424b-a498-2406041752ad",
   "metadata": {},
   "outputs": [
    {
     "name": "stdout",
     "output_type": "stream",
     "text": [
      "['../datasets/forOneClassModel_alarm/train/other_sounds/44K/', '../datasets/forOneClassModel_alarm/train/other_sounds/44K/29_drinking_sipping_esc50', '../datasets/forOneClassModel_alarm/train/other_sounds/44K/15_water_drop_esc50', '../datasets/forOneClassModel_alarm/train/other_sounds/44K/17_pouring_water_esc50', '../datasets/forOneClassModel_alarm/train/other_sounds/44K/19_thunderstorm_esc50', '../datasets/forOneClassModel_alarm/train/other_sounds/44K/5_cat_esc50', '../datasets/forOneClassModel_alarm/train/other_sounds/44K/30_door_wood_knock_esc50', '../datasets/forOneClassModel_alarm/train/other_sounds/44K/27_brushing_teeth_esc50', '../datasets/forOneClassModel_alarm/train/other_sounds/44K/36_vacuum_cleaner_esc50', '../datasets/forOneClassModel_alarm/train/other_sounds/44K/28_snoring_esc50', '../datasets/forOneClassModel_alarm/train/other_sounds/44K/26_laughing_esc50', '../datasets/forOneClassModel_alarm/train/other_sounds/44K/35_wash_machine_esc50', '../datasets/forOneClassModel_alarm/train/other_sounds/44K/33_door_wood_creaks_esc50', '../datasets/forOneClassModel_alarm/train/other_sounds/44K/21_sneezing_esc50', '../datasets/forOneClassModel_alarm/train/other_sounds/44K/39_glass_breaking_esc50', '../datasets/forOneClassModel_alarm/train/other_sounds/44K/10_rain_esc50', '../datasets/forOneClassModel_alarm/train/other_sounds/44K/14_chirping_birds_esc50', '../datasets/forOneClassModel_alarm/train/other_sounds/44K/98_silence', '../datasets/forOneClassModel_alarm/train/other_sounds/44K/22_clap_esc50', '../datasets/forOneClassModel_alarm/train/other_sounds/44K/0_dog_esc50', '../datasets/forOneClassModel_alarm/train/other_sounds/44K/25_footsteps_esc50', '../datasets/forOneClassModel_alarm/train/other_sounds/44K/24_coughing_esc50', '../datasets/forOneClassModel_alarm/train/other_sounds/44K/44_engine_esc50', '../datasets/forOneClassModel_alarm/train/other_sounds/44K/43_car_horn_esc50', '../datasets/forOneClassModel_alarm/train/other_sounds/44K/20_crying_baby_esc50', '../datasets/forOneClassModel_alarm/train/other_sounds/44K/18_toilet_flush_esc50']\n"
     ]
    }
   ],
   "source": [
    "src_dir = \"../datasets/forOneClassModel_alarm/train/other_sounds/44K/\"\n",
    "subdirs = getFolderList(src_dir)\n",
    "for d in subdirs:\n",
    "    print(f\"\")"
   ]
  },
  {
   "cell_type": "code",
   "execution_count": null,
   "id": "fbf499fa-5e29-4477-9106-4a0eeac1f001",
   "metadata": {},
   "outputs": [],
   "source": []
  }
 ],
 "metadata": {
  "kernelspec": {
   "display_name": "Python 3 (ipykernel)",
   "language": "python",
   "name": "python3"
  },
  "language_info": {
   "codemirror_mode": {
    "name": "ipython",
    "version": 3
   },
   "file_extension": ".py",
   "mimetype": "text/x-python",
   "name": "python",
   "nbconvert_exporter": "python",
   "pygments_lexer": "ipython3",
   "version": "3.10.13"
  }
 },
 "nbformat": 4,
 "nbformat_minor": 5
}
