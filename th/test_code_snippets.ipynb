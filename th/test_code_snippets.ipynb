{
 "cells": [
  {
   "cell_type": "code",
   "execution_count": 2,
   "id": "b74fe44b-7d82-4912-8d69-664b654019d9",
   "metadata": {},
   "outputs": [],
   "source": [
    "import os\n",
    "import sys"
   ]
  },
  {
   "cell_type": "code",
   "execution_count": null,
   "id": "72f44df7-273a-428d-9f2d-608c8bc3fbe6",
   "metadata": {},
   "outputs": [],
   "source": []
  },
  {
   "cell_type": "code",
   "execution_count": 3,
   "id": "38decb0e-4bdd-4b10-a9e4-4282a2ba1667",
   "metadata": {},
   "outputs": [],
   "source": [
    "aPath = sys.path.append(os.path.join(os.getcwd(),\"common\"))"
   ]
  },
  {
   "cell_type": "code",
   "execution_count": 4,
   "id": "f0b2ccb9-4ac3-4b3a-be49-e95b8cf1daba",
   "metadata": {},
   "outputs": [
    {
     "name": "stdout",
     "output_type": "stream",
     "text": [
      "None\n"
     ]
    }
   ],
   "source": [
    "print(aPath)"
   ]
  },
  {
   "cell_type": "code",
   "execution_count": 8,
   "id": "2bb65029-e8c5-49cf-a460-d8b779d38986",
   "metadata": {},
   "outputs": [
    {
     "name": "stdout",
     "output_type": "stream",
     "text": [
      "/home/ai/RLRepo/Works/Projects/TransferLearning_for_ACDNet/torch\n",
      "/home/ai/RLRepo/Works/Projects/TransferLearning_for_ACDNet\n"
     ]
    }
   ],
   "source": [
    "curdir = os.getcwd()\n",
    "lastleldir = curdir[:curdir.rfind(\"/\")]\n",
    "print(curdir)\n",
    "print(lastleldir)\n",
    "# print(os.getcwd()[:])"
   ]
  },
  {
   "cell_type": "code",
   "execution_count": null,
   "id": "87d71108-6f4d-449e-9707-0c2e0d7e986b",
   "metadata": {},
   "outputs": [],
   "source": []
  }
 ],
 "metadata": {
  "kernelspec": {
   "display_name": "Python 3 (ipykernel)",
   "language": "python",
   "name": "python3"
  },
  "language_info": {
   "codemirror_mode": {
    "name": "ipython",
    "version": 3
   },
   "file_extension": ".py",
   "mimetype": "text/x-python",
   "name": "python",
   "nbconvert_exporter": "python",
   "pygments_lexer": "ipython3",
   "version": "3.10.13"
  }
 },
 "nbformat": 4,
 "nbformat_minor": 5
}
