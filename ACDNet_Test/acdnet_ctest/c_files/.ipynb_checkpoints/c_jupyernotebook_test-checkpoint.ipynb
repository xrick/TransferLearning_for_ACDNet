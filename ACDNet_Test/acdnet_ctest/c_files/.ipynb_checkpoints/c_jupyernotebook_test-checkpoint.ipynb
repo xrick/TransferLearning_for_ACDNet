{
 "cells": [
  {
   "cell_type": "code",
   "execution_count": 1,
   "id": "2e1f95f3-1dd1-42a1-8090-b39c8ef15493",
   "metadata": {},
   "outputs": [],
   "source": [
    "#include<stdio.h>"
   ]
  },
  {
   "cell_type": "code",
   "execution_count": 4,
   "id": "17e3706f-c461-4cb1-a2d2-0f6fc64e39c0",
   "metadata": {},
   "outputs": [],
   "source": [
    "int main(){\n",
    "    printf(\"this is a %s\",\"string\");\n",
    "}"
   ]
  },
  {
   "cell_type": "code",
   "execution_count": 3,
   "id": "a2beb9fa-0683-4c7b-8612-50627cea30e9",
   "metadata": {},
   "outputs": [
    {
     "name": "stdout",
     "output_type": "stream",
     "text": [
      "this is a string"
     ]
    },
    {
     "data": {
      "text/plain": [
       "0"
      ]
     },
     "execution_count": 3,
     "metadata": {},
     "output_type": "execute_result"
    }
   ],
   "source": [
    "main()"
   ]
  },
  {
   "cell_type": "code",
   "execution_count": null,
   "id": "d907bcc5-a701-48a4-b2be-c1d309e04c55",
   "metadata": {},
   "outputs": [],
   "source": [
    "/*\n",
    "def maskOP(x):\n",
    "    x = np.int16(x)\n",
    "    print(f\"begin:x:{x}\")\n",
    "    if (mask8&x):\n",
    "        return x >> 8\n",
    "    elif (mask7&x):\n",
    "        return x >> 7\n",
    "    elif (mask6&x):\n",
    "        return x >> 6\n",
    "    elif (mask5&x):\n",
    "        return x >> 5\n",
    "    elif (mask4&x):\n",
    "        return x >> 4\n",
    "    elif (mask3&x):\n",
    "        return x >> 3\n",
    "    elif (mask2&x):\n",
    "        return x >> 2\n",
    "    elif (mask1&x):\n",
    "        return x >> 1\n",
    "    elif (mask0&x):\n",
    "        return x\n",
    "    else:\n",
    "        return 0;\n",
    "*/"
   ]
  },
  {
   "cell_type": "code",
   "execution_count": 5,
   "id": "acfa1c5c-d2ac-44f7-bd1a-8ea89a98fd53",
   "metadata": {},
   "outputs": [],
   "source": [
    "#define mask8 0x4000 // >> 8 : 16384\n",
    "#define mask7 0x2000 // >> 7 :  8192\n",
    "#define mask6 0x1000 // >> 6 :  4096\n",
    "#define mask5 0x0800 // >> 5 :  2048\n",
    "#define mask4 0x0400 // >> 4 :  1024\n",
    "#define mask3 0x0200 // >> 3 :   512\n",
    "#define mask2 0x0100 // >> 2 :   256\n",
    "#define mask1 0x0080 // >> 1 :   128\n",
    "#define mask0 0x0040 // >> 0 :    64 below the value, drop the value"
   ]
  },
  {
   "cell_type": "code",
   "execution_count": 7,
   "id": "3f5f6ac3-8b2c-4048-b972-89a2c4427ae0",
   "metadata": {},
   "outputs": [],
   "source": [
    "int8_t maskOP(int16_t x){\n",
    "    if (mask8&x)\n",
    "        return x >> 8;\n",
    "    else if (mask7&x)\n",
    "        return x >> 7;\n",
    "    else if (mask6&x)\n",
    "        return x >> 6;\n",
    "    else if (mask5&x)\n",
    "        return x >> 5;\n",
    "    else if (mask4&x)\n",
    "        return x >> 4;\n",
    "    else if (mask3&x)\n",
    "        return x >> 3;\n",
    "    else if (mask2&x)\n",
    "        return x >> 2;\n",
    "    else if (mask1&x)\n",
    "        return x >> 1;\n",
    "    else if (mask0&x)\n",
    "        return x;\n",
    "    else\n",
    "        return 0;\n",
    "}"
   ]
  },
  {
   "cell_type": "code",
   "execution_count": 8,
   "id": "7f70ae28-abcc-4fd5-84b2-e74be7d8120b",
   "metadata": {},
   "outputs": [
    {
     "name": "stdout",
     "output_type": "stream",
     "text": [
      "the converted_x is 64"
     ]
    }
   ],
   "source": [
    "int16_t testx = 8315;\n",
    "int8_t converted_x = maskOP(testx);\n",
    "printf(\"the converted_x is %d\", converted_x);"
   ]
  },
  {
   "cell_type": "code",
   "execution_count": null,
   "id": "98a3fded-4d8c-4c39-9935-720245a08d40",
   "metadata": {},
   "outputs": [],
   "source": []
  }
 ],
 "metadata": {
  "kernelspec": {
   "display_name": "C++11",
   "language": "C++11",
   "name": "xcpp11"
  },
  "language_info": {
   "codemirror_mode": "text/x-c++src",
   "file_extension": ".cpp",
   "mimetype": "text/x-c++src",
   "name": "c++",
   "version": "11"
  }
 },
 "nbformat": 4,
 "nbformat_minor": 5
}
