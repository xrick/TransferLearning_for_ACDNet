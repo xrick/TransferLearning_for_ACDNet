{
 "cells": [
  {
   "cell_type": "code",
   "execution_count": 1,
   "id": "fbfd6151-7454-41f1-ab5f-a88a4c034960",
   "metadata": {},
   "outputs": [],
   "source": [
    "#include<stdio.h>"
   ]
  },
  {
   "cell_type": "code",
   "execution_count": 3,
   "id": "836cd1b7-9c98-4e11-90e4-99b58d213206",
   "metadata": {},
   "outputs": [],
   "source": [
    "#define mask8 0x4000\n",
    "#define mask7 0x2000\n",
    "#define mask6 0x1000\n",
    "#define mask5 0x0800\n",
    "#define mask4 0x0400\n",
    "#define mask3 0x0200\n",
    "#define mask2 0x0100\n",
    "#define mask1 0x0080\n",
    "#define mask0 0x0040"
   ]
  },
  {
   "cell_type": "code",
   "execution_count": 5,
   "id": "ac5bef5f-3e26-43c8-9dee-7b8e2217c10f",
   "metadata": {},
   "outputs": [
    {
     "name": "stderr",
     "output_type": "stream",
     "text": [
      "\u001b[1minput_line_17:4:16: \u001b[0m\u001b[0;1;31merror: \u001b[0m\u001b[1muse of undeclared identifier 'x'\u001b[0m\n",
      "        return x >> 8;\n",
      "\u001b[0;1;32m               ^\n",
      "\u001b[0m\u001b[1minput_line_17:7:16: \u001b[0m\u001b[0;1;31merror: \u001b[0m\u001b[1muse of undeclared identifier 'x'\u001b[0m\n",
      "        return x >> 7;\n",
      "\u001b[0;1;32m               ^\n",
      "\u001b[0m\u001b[1minput_line_17:10:16: \u001b[0m\u001b[0;1;31merror: \u001b[0m\u001b[1muse of undeclared identifier 'x'\u001b[0m\n",
      "        return x >> 6;\n",
      "\u001b[0;1;32m               ^\n",
      "\u001b[0m\u001b[1minput_line_17:13:16: \u001b[0m\u001b[0;1;31merror: \u001b[0m\u001b[1muse of undeclared identifier 'x'\u001b[0m\n",
      "        return x >> 5;\n",
      "\u001b[0;1;32m               ^\n",
      "\u001b[0m\u001b[1minput_line_17:16:16: \u001b[0m\u001b[0;1;31merror: \u001b[0m\u001b[1muse of undeclared identifier 'x'\u001b[0m\n",
      "        return x >> 4;\n",
      "\u001b[0;1;32m               ^\n",
      "\u001b[0m\u001b[1minput_line_17:19:16: \u001b[0m\u001b[0;1;31merror: \u001b[0m\u001b[1muse of undeclared identifier 'x'\u001b[0m\n",
      "        return x >> 3;\n",
      "\u001b[0;1;32m               ^\n",
      "\u001b[0m\u001b[1minput_line_17:22:16: \u001b[0m\u001b[0;1;31merror: \u001b[0m\u001b[1muse of undeclared identifier 'x'\u001b[0m\n",
      "        return x >> 1;\n",
      "\u001b[0;1;32m               ^\n",
      "\u001b[0m"
     ]
    },
    {
     "ename": "Interpreter Error",
     "evalue": "",
     "output_type": "error",
     "traceback": [
      "Interpreter Error: "
     ]
    }
   ],
   "source": [
    "int8_t Int8Quant(int ori_num){\n",
    "    \n",
    "    if(mask8&ori_num){\n",
    "        return x >> 8;\n",
    "    }\n",
    "    if(mask7&ori_num){\n",
    "        return x >> 7;\n",
    "    }\n",
    "    if(mask6&ori_num){\n",
    "        return x >> 6;\n",
    "    }\n",
    "    if(mask5&ori_num){\n",
    "        return x >> 5;\n",
    "    }\n",
    "    if(mask4&ori_num){\n",
    "        return x >> 4;\n",
    "    }\n",
    "    if(mask3&ori_num){\n",
    "        return x >> 3;\n",
    "    }\n",
    "    if(mask2&ori_num){\n",
    "        return x >> 2;\n",
    "    }\n",
    "    if(mask1&ori_num){\n",
    "        return x >> 1;\n",
    "    }\n",
    "    return 0;\n",
    "    \n",
    "}"
   ]
  },
  {
   "cell_type": "code",
   "execution_count": null,
   "id": "af6f6ce0-a56c-406b-8b07-b3ef10fd7a51",
   "metadata": {},
   "outputs": [],
   "source": [
    "int test_int8quant = 43578;\n",
    "int quant_num = In"
   ]
  },
  {
   "cell_type": "code",
   "execution_count": null,
   "id": "167091a4-c934-4cfe-8b8c-f72d5377de7c",
   "metadata": {},
   "outputs": [],
   "source": [
    "int8_t ary1[1][1][30225][1];\n"
   ]
  }
 ],
 "metadata": {
  "kernelspec": {
   "display_name": "C++11",
   "language": "C++11",
   "name": "xcpp11"
  },
  "language_info": {
   "codemirror_mode": "text/x-c++src",
   "file_extension": ".cpp",
   "mimetype": "text/x-c++src",
   "name": "c++",
   "version": "11"
  }
 },
 "nbformat": 4,
 "nbformat_minor": 5
}
