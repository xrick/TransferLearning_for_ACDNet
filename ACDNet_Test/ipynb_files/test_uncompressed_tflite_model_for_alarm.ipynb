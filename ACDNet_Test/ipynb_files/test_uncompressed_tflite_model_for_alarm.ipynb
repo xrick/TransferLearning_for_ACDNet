{
 "cells": [
  {
   "cell_type": "markdown",
   "id": "34a69029-4fb8-4420-9be3-06ea3cf14f0d",
   "metadata": {},
   "source": [
    "## 測試項目\n",
    "1. 訓練集中的alarm聲\n",
    "2. 使用pruned and quantized tflite model\n",
    "4. export to cc file"
   ]
  },
  {
   "cell_type": "code",
   "execution_count": 1,
   "id": "a9f0a4a7-cc91-44ff-a761-5ec09ce97599",
   "metadata": {},
   "outputs": [
    {
     "name": "stderr",
     "output_type": "stream",
     "text": [
      "2024-01-19 12:35:59.121351: I tensorflow/core/util/port.cc:113] oneDNN custom operations are on. You may see slightly different numerical results due to floating-point round-off errors from different computation orders. To turn them off, set the environment variable `TF_ENABLE_ONEDNN_OPTS=0`.\n",
      "2024-01-19 12:35:59.141974: E external/local_xla/xla/stream_executor/cuda/cuda_dnn.cc:9261] Unable to register cuDNN factory: Attempting to register factory for plugin cuDNN when one has already been registered\n",
      "2024-01-19 12:35:59.141993: E external/local_xla/xla/stream_executor/cuda/cuda_fft.cc:607] Unable to register cuFFT factory: Attempting to register factory for plugin cuFFT when one has already been registered\n",
      "2024-01-19 12:35:59.142654: E external/local_xla/xla/stream_executor/cuda/cuda_blas.cc:1515] Unable to register cuBLAS factory: Attempting to register factory for plugin cuBLAS when one has already been registered\n",
      "2024-01-19 12:35:59.146272: I tensorflow/core/platform/cpu_feature_guard.cc:182] This TensorFlow binary is optimized to use available CPU instructions in performance-critical operations.\n",
      "To enable the following instructions: AVX2 AVX_VNNI FMA, in other operations, rebuild TensorFlow with the appropriate compiler flags.\n",
      "2024-01-19 12:35:59.500732: W tensorflow/compiler/tf2tensorrt/utils/py_utils.cc:38] TF-TRT Warning: Could not find TensorRT\n"
     ]
    }
   ],
   "source": [
    "import os\n",
    "import sys\n",
    "import datetime\n",
    "import shutil\n",
    "import numpy as np\n",
    "import tensorflow as tf\n",
    "# from tensorflow import keras\n",
    "import zipfile\n",
    "import wavio\n",
    "from common import utils as U\n",
    "np.set_printoptions(threshold=sys.maxsize)"
   ]
  },
  {
   "cell_type": "code",
   "execution_count": 2,
   "id": "218705f2-4f93-4cb9-bf6b-84abd01d199a",
   "metadata": {},
   "outputs": [],
   "source": [
    "from datetime import datetime\n",
    "import re"
   ]
  },
  {
   "cell_type": "markdown",
   "id": "30027b0c-feb4-45ba-aac1-d14089a7516a",
   "metadata": {},
   "source": [
    "### Loading TFlite Model"
   ]
  },
  {
   "cell_type": "code",
   "execution_count": 3,
   "id": "cff7e097-1237-4564-96dd-678ba95ffd08",
   "metadata": {},
   "outputs": [],
   "source": [
    "tflite_model_path = \"../../refine_codes/tflite_models/acdnet_alarm_3rd_acc97.7_20240119123507.tflite\";\n",
    "# Load quantized TFLite model\n",
    "tflite_interpreter = tf.lite.Interpreter(model_path=tflite_model_path)"
   ]
  },
  {
   "cell_type": "code",
   "execution_count": 4,
   "id": "ce8031ec-a85c-401f-a714-0579f2a43833",
   "metadata": {},
   "outputs": [
    {
     "name": "stdout",
     "output_type": "stream",
     "text": [
      "== Input details ==\n",
      "name: x.3\n",
      "shape: [    1     1 30225     1]\n",
      "type: <class 'numpy.float32'>\n",
      "\n",
      "== Output details ==\n",
      "name: 285\n",
      "shape: [1 2]\n",
      "type: <class 'numpy.float32'>\n"
     ]
    },
    {
     "name": "stderr",
     "output_type": "stream",
     "text": [
      "INFO: Created TensorFlow Lite XNNPACK delegate for CPU.\n"
     ]
    }
   ],
   "source": [
    "# model.summary()\n",
    "input_details = tflite_interpreter.get_input_details()\n",
    "output_details = tflite_interpreter.get_output_details()\n",
    "\n",
    "print(\"== Input details ==\")\n",
    "print(\"name:\", input_details[0]['name'])\n",
    "print(\"shape:\", input_details[0]['shape'])\n",
    "print(\"type:\", input_details[0]['dtype'])\n",
    "\n",
    "print(\"\\n== Output details ==\")\n",
    "print(\"name:\", output_details[0]['name'])\n",
    "print(\"shape:\", output_details[0]['shape'])\n",
    "print(\"type:\", output_details[0]['dtype'])\n",
    "\n",
    "#resize the input and output\n",
    "# tflite_interpreter_quant.resize_tensor_input(input_details[0]['index'], (2, 1, 30225, 1))\n",
    "# tflite_interpreter_quant.resize_tensor_input(output_details[0]['index'], (2, 2))\n",
    "\n",
    "# input_details = tflite_interpreter_quant.get_input_details()\n",
    "# output_details = tflite_interpreter_quant.get_output_details()\n",
    "\n",
    "# print(\"== Input details ==\")\n",
    "# print(\"name:\", input_details[0]['name'])\n",
    "# print(\"shape:\", input_details[0]['shape'])\n",
    "# print(\"type:\", input_details[0]['dtype'])\n",
    "\n",
    "# print(\"\\n== Output details ==\")\n",
    "# print(\"name:\", output_details[0]['name'])\n",
    "# print(\"shape:\", output_details[0]['shape'])\n",
    "# print(\"type:\", output_details[0]['dtype'])\n",
    "\n",
    "tflite_interpreter.allocate_tensors();"
   ]
  },
  {
   "cell_type": "markdown",
   "id": "622c2bc6-26c8-41a0-908e-0062f48168a1",
   "metadata": {},
   "source": [
    "### loading dataset from npz format\n",
    "1. ACDNet input length is 30225\n",
    "2. sr is 44100 and 20000\n",
    "3. need to convert 16K to 20000\n",
    "### ACDNet Config Setting\n",
    "#### Training Parameters\n",
    "1. opt.batchSize = 64;\n",
    "2. opt.weightDecay = 5e-4;\n",
    "3. opt.momentum = 0.9;\n",
    "4. opt.nEpochs = 2000;\n",
    "5. opt.LR = 0.1;\n",
    "6. opt.schedule = [0.3, 0.6, 0.9];\n",
    "7. opt.warmup = 10; \n",
    "#### Basic Net Configuration\n",
    "- nClasses = 50\n",
    "- nFolds = 5\n",
    "- splits = \\[i for in range(1, nFolds + 1)\\]\n",
    "- sr = 20000\n",
    "- inputLength = 30225\n",
    "<br>ngth = 30225;\n",
    "### How to convert 16K sound to 44.1K with python and sox\n",
    "\n",
    "if using sox the command is as following: <br />\n",
    "    sox old.wav -b 16 new.wav \n",
    "if using python you can do as following: <br />\n",
    "    import soundfile\n",
    "    \n",
    "data, samplerate = soundfile.read('old.wav\n",
    "    <br />)\n",
    "soundfile.write('new.wav', data, samplerate, subtype='PCM_1\n",
    "6')"
   ]
  },
  {
   "cell_type": "code",
   "execution_count": 5,
   "id": "08dc6913-7290-414b-a6f1-7172edd43562",
   "metadata": {},
   "outputs": [],
   "source": [
    "def genDataTimeStr():\n",
    "    return datetime.today().strftime('%Y-%m-%d %H:%M:%S').replace('-',\"\").replace(' ',\"\").replace(':',\"\");"
   ]
  },
  {
   "cell_type": "code",
   "execution_count": 6,
   "id": "4730cca4-ba34-43e0-8c32-13afb77d5d65",
   "metadata": {},
   "outputs": [],
   "source": [
    "def getFileList(srcDir,regex='.*\\.wav'):\n",
    "    results = os.listdir(srcDir)\n",
    "    out_files = []\n",
    "    cnt_files = 0\n",
    "    for file in results:\n",
    "        if os.path.isdir(os.path.join(srcDir, file)):\n",
    "            out_files += getFileList(os.path.join(srcDir, file))\n",
    "        elif re.match(regex, file,  re.I):  # file.startswith(startExtension) or file.endswith(\".txt\") or file.endswith(endExtension):\n",
    "            out_files.append(os.path.join(srcDir, file))\n",
    "            cnt_files = cnt_files + 1\n",
    "    return out_files"
   ]
  },
  {
   "cell_type": "markdown",
   "id": "501a0a0b-2b1a-45c3-9eed-0bf6b10f3f24",
   "metadata": {},
   "source": [
    "## sound preprocessing functions"
   ]
  },
  {
   "cell_type": "code",
   "execution_count": 7,
   "id": "a8156e68-94c4-44b4-af29-166c3533301a",
   "metadata": {},
   "outputs": [],
   "source": [
    "_inputLen = 30225\n",
    "_nCrops = 2\n",
    "def preprocess_setup():\n",
    "    funcs = []\n",
    "    funcs += [U.padding( _inputLen// 2),\n",
    "              U.normalize(32768.0),\n",
    "              U.multi_crop(_inputLen, _nCrops)]\n",
    "              # U.single_crop(_inputLen)]\n",
    "              # \n",
    "\n",
    "    return funcs\n",
    "\n",
    "def preprocess_debug():\n",
    "    debug_funcs = []\n",
    "    debug_funcs += [U.padding( _inputLen// 2),\n",
    "              U.normalize(32768.0),]\n",
    "              # U.multi_crop(_inputLen, _nCrops)]\n",
    "              # U.single_crop(_inputLen)]\n",
    "              # \n",
    "\n",
    "    return debug_funcs\n",
    "\n",
    "def preprocess(sound, funcs):\n",
    "    for f in funcs:\n",
    "        sound = f(sound)\n",
    "\n",
    "    return sound;"
   ]
  },
  {
   "cell_type": "code",
   "execution_count": 8,
   "id": "e9d59fc9-c11b-4027-8f53-8ae3b743f03d",
   "metadata": {},
   "outputs": [],
   "source": [
    "_funcs = preprocess_setup()\n",
    "# _debug_funcs = preprocess_debug()"
   ]
  },
  {
   "cell_type": "markdown",
   "id": "91e9dcde-83a3-4b49-9603-27acdb123b72",
   "metadata": {},
   "source": [
    "### Read Test Wav File"
   ]
  },
  {
   "cell_type": "code",
   "execution_count": 9,
   "id": "9b0d4c18-078b-469a-8045-e2c79cb327ac",
   "metadata": {},
   "outputs": [],
   "source": [
    "# for i in p_wav_list:\n",
    "#     sound = wavio.read(i).data.T[0]\n",
    "#     start = sound.nonzero()[0].min();\n",
    "#     end = sound.nonzero()[0].max();\n",
    "#     sound = sound[start: end + 1]\n",
    "#     sound_debug = np.array(preprocess(sound,_debug_funcs));\n",
    "#     print(f\"sound content after pad and normalize:\\n{sound_debug}\")\n",
    "#     label = int(p_label);\n",
    "#     print(f\"current sound start:{start} to end:{end}\");\n",
    "#     label = int(p_label);\n",
    "#     if len(sound)> 220500:\n",
    "#         sound = sound[:220500]\n",
    "#     sound = preprocess(sound, _funcs);\n",
    "#     print(f\"label is {label} and sound len is {len(sound)}\");\n",
    "#     sounds.append(sound);\n",
    "#     labels.append(label);\n",
    "    \n",
    "# for j in n_wav_list:\n",
    "#     sound = wavio.read(j).data.T[0]\n",
    "#     start = sound.nonzero()[0].min();\n",
    "#     end = sound.nonzero()[0].max();\n",
    "#     sound = sound[start: end + 1];\n",
    "#     sound_debug = np.array(preprocess(sound,_debug_funcs));\n",
    "#     print(f\"sound content after pad and normalize:\\n{sound_debug}\")\n",
    "#     label = int(n_label);\n",
    "#     print(f\"current sound start:{start} to end:{end}\");\n",
    "    \n",
    "#     sound = np.float32(preprocess(sound, _funcs));\n",
    "#     print(f\"label is {label} and sound len is {len(sound)}\")\n",
    "#     sounds.append(sound);\n",
    "#     labels.append(label);"
   ]
  },
  {
   "cell_type": "code",
   "execution_count": 21,
   "id": "06702eca-28ee-4af3-a0d4-3db6d1496f28",
   "metadata": {},
   "outputs": [
    {
     "name": "stdout",
     "output_type": "stream",
     "text": [
      "sounds length: 104\n",
      "labels length: 104\n"
     ]
    }
   ],
   "source": [
    "positive_test_wavs = \"./test_sounds/positive/\"\n",
    "negative_test_wavs_others = \"./test_sounds/negative/othersounds/\"\n",
    "negative_test_wavs_siren = \"./test_sounds/negative/siren/\"\n",
    "\n",
    "p_wav_list = getFileList(positive_test_wavs);\n",
    "n_wav_list_other = getFileList(negative_test_wavs_others);\n",
    "n_wav_list_siren = getFileList(negative_test_wavs_siren);\n",
    "# print(f\"total alarm sounds:{len(p_wav_list)} \");\n",
    "# print(f\"total other sounds:{len(n_wav_list)}\")\n",
    "p_label = 52;\n",
    "n_label = 99;\n",
    "\n",
    "sounds = [];\n",
    "labels = [];\n",
    "## sound = preprocess(sound, _funcs)\n",
    "for i in p_wav_list:\n",
    "    sound = wavio.read(i).data.T[0]\n",
    "    start = sound.nonzero()[0].min();\n",
    "    end = sound.nonzero()[0].max();\n",
    "    sound = sound[start: end + 1]\n",
    "    label = int(p_label);\n",
    "    if len(sound)> 220500:\n",
    "        sound = sound[:220500]\n",
    "    sound = preprocess(sound, _funcs);\n",
    "    sounds.append(sound);\n",
    "    labels.append(label);\n",
    "    \n",
    "for j in n_wav_list_other:\n",
    "    sound = wavio.read(j).data.T[0]\n",
    "    start = sound.nonzero()[0].min();\n",
    "    end = sound.nonzero()[0].max();\n",
    "    sound = sound[start: end + 1];\n",
    "    label = int(n_label);\n",
    "    sound = np.float32(preprocess(sound, _funcs));\n",
    "    sounds.append(sound);\n",
    "    labels.append(label);\n",
    "\n",
    "# for k in n_wav_list_siren:\n",
    "#     sound = wavio.read(j).data.T[0]\n",
    "#     start = sound.nonzero()[0].min();\n",
    "#     end = sound.nonzero()[0].max();\n",
    "#     sound = sound[start: end + 1];\n",
    "#     label = int(n_label);\n",
    "#     sound = np.float32(preprocess(sound, _funcs));\n",
    "#     sounds.append(sound);\n",
    "#     labels.append(label);\n",
    "\n",
    "print(f\"sounds length: {len(sounds)}\");\n",
    "print(f\"labels length: {len(labels)}\");\n",
    "\n",
    "# sound = wavio.read(test_sound_file).data.T[0]\n",
    "# start = sound.nonzero()[0].min()\n",
    "# end = sound.nonzero()[0].max()\n",
    "# sound = sound[start: end + 1]  # Remove silent sections\n",
    "# label = 18 #int(os.path.splitext(test_sound_file)[0].split('-')[-1])\n",
    "\n",
    "# if len(sound)> 220500:\n",
    "#     sound = sound[:220500]\n",
    "\n",
    "# ec50_sound1 =  wavio.read(ec50_18_sound).data.T[0]\n",
    "# start_ec50 = ec50_sound1.nonzero()[0].min()\n",
    "# end_ec50 = ec50_sound1.nonzero()[0].max()\n",
    "# ec50_sound1 = ec50_sound1[start_ec50:end_ec50+1]\n",
    "# ec50_18_label = 18"
   ]
  },
  {
   "cell_type": "code",
   "execution_count": 22,
   "id": "32ee0121-918b-4c85-8514-b82aceae4c29",
   "metadata": {},
   "outputs": [],
   "source": [
    "# print(sounds)\n",
    "# print(labels)"
   ]
  },
  {
   "cell_type": "code",
   "execution_count": 23,
   "id": "12e3b08b-bc1b-4dde-bda8-b212fc4352a1",
   "metadata": {},
   "outputs": [
    {
     "name": "stdout",
     "output_type": "stream",
     "text": [
      "(30225,)\n",
      "<class 'int'>\n"
     ]
    }
   ],
   "source": [
    "print(sounds[0][1].shape)\n",
    "print(type(labels[0]))"
   ]
  },
  {
   "cell_type": "code",
   "execution_count": 24,
   "id": "992df970-da8d-4c7a-ba72-3f97efe247fc",
   "metadata": {},
   "outputs": [],
   "source": [
    "# sound = np.expand_dims(sound, axis=1)\n",
    "# sound = np.expand_dims(sound, axis=3)\n",
    "# print(sound.shape)"
   ]
  },
  {
   "cell_type": "code",
   "execution_count": 25,
   "id": "43e8d6c5-d9ce-461a-9ec9-497a8cef4ba8",
   "metadata": {},
   "outputs": [
    {
     "name": "stdout",
     "output_type": "stream",
     "text": [
      "Prediction result: [[0.7094592  0.29054078]], and true label: 52\n",
      "Prediction result: [[0.58533764 0.41466233]], and true label: 52\n",
      "Prediction result: [[0.7805706 0.2194294]], and true label: 52\n",
      "Prediction result: [[0.4061107 0.5938893]], and true label: 52\n",
      "Prediction result: [[0.8483568  0.15164323]], and true label: 52\n",
      "Prediction result: [[0.73566455 0.2643354 ]], and true label: 52\n",
      "Prediction result: [[0.3745013 0.6254987]], and true label: 52\n",
      "Prediction result: [[0.5608216  0.43917844]], and true label: 52\n",
      "Prediction result: [[0.814412   0.18558805]], and true label: 52\n",
      "Prediction result: [[0.57236564 0.4276344 ]], and true label: 52\n",
      "Prediction result: [[0.62097853 0.37902147]], and true label: 52\n",
      "Prediction result: [[0.7938562  0.20614375]], and true label: 52\n",
      "Prediction result: [[0.86678195 0.1332181 ]], and true label: 52\n",
      "Prediction result: [[0.83692807 0.16307195]], and true label: 52\n",
      "Prediction result: [[0.5982934  0.40170658]], and true label: 52\n",
      "Prediction result: [[0.60975266 0.39024737]], and true label: 52\n",
      "Prediction result: [[0.5750586 0.4249414]], and true label: 52\n",
      "Prediction result: [[0.47405285 0.52594715]], and true label: 52\n",
      "Prediction result: [[0.7765697  0.22343029]], and true label: 52\n",
      "Prediction result: [[0.6418443 0.3581557]], and true label: 52\n",
      "Prediction result: [[0.56194067 0.43805924]], and true label: 52\n",
      "Prediction result: [[0.62142175 0.37857822]], and true label: 52\n",
      "Prediction result: [[0.6858703 0.3141297]], and true label: 52\n",
      "Prediction result: [[0.38739026 0.61260974]], and true label: 52\n",
      "Prediction result: [[0.85570455 0.1442954 ]], and true label: 52\n",
      "Prediction result: [[0.40238658 0.59761345]], and true label: 52\n",
      "Prediction result: [[0.37311453 0.6268854 ]], and true label: 52\n",
      "Prediction result: [[0.5758204  0.42417958]], and true label: 52\n",
      "Prediction result: [[0.814044   0.18595599]], and true label: 52\n",
      "Prediction result: [[0.79814655 0.20185342]], and true label: 52\n",
      "Prediction result: [[0.6976876  0.30231234]], and true label: 52\n",
      "Prediction result: [[0.39734066 0.60265934]], and true label: 52\n",
      "Prediction result: [[0.53456044 0.46543953]], and true label: 52\n",
      "Prediction result: [[0.6977255  0.30227453]], and true label: 52\n",
      "Prediction result: [[0.5442284  0.45577165]], and true label: 52\n",
      "Prediction result: [[0.62362987 0.37637013]], and true label: 52\n",
      "Prediction result: [[0.70843637 0.29156363]], and true label: 52\n",
      "Prediction result: [[0.6130926  0.38690743]], and true label: 52\n",
      "Prediction result: [[0.70402247 0.29597756]], and true label: 52\n",
      "Prediction result: [[0.65024906 0.349751  ]], and true label: 52\n",
      "Prediction result: [[0.8775555  0.12244453]], and true label: 52\n",
      "Prediction result: [[0.45982987 0.54017013]], and true label: 52\n",
      "Prediction result: [[0.58307374 0.4169263 ]], and true label: 52\n",
      "Prediction result: [[0.70498675 0.29501325]], and true label: 52\n",
      "Prediction result: [[0.6758844  0.32411557]], and true label: 52\n",
      "Prediction result: [[0.471813   0.52818704]], and true label: 52\n",
      "Prediction result: [[0.34192517 0.6580748 ]], and true label: 52\n",
      "Prediction result: [[0.8694484  0.13055153]], and true label: 52\n",
      "Prediction result: [[0.7584089  0.24159108]], and true label: 52\n",
      "Prediction result: [[0.625108   0.37489206]], and true label: 52\n",
      "Prediction result: [[0.60645646 0.39354345]], and true label: 52\n",
      "Prediction result: [[0.81237847 0.18762152]], and true label: 52\n",
      "Prediction result: [[0.63347787 0.36652213]], and true label: 52\n",
      "Prediction result: [[0.8482173  0.15178266]], and true label: 52\n",
      "Prediction result: [[0.51494664 0.48505345]], and true label: 52\n",
      "Prediction result: [[0.74076205 0.25923795]], and true label: 52\n",
      "Prediction result: [[0.8848178  0.11518222]], and true label: 52\n",
      "Prediction result: [[0.74898493 0.2510151 ]], and true label: 52\n",
      "Prediction result: [[0.60001785 0.39998212]], and true label: 52\n",
      "Prediction result: [[0.5504786 0.4495214]], and true label: 52\n",
      "Prediction result: [[0.7747804  0.22521953]], and true label: 52\n",
      "Prediction result: [[0.7388706 0.2611294]], and true label: 52\n",
      "Prediction result: [[0.80335844 0.19664155]], and true label: 52\n",
      "Prediction result: [[0.38796252 0.6120375 ]], and true label: 52\n",
      "Prediction result: [[0.81006366 0.18993634]], and true label: 52\n",
      "Prediction result: [[0.69314677 0.30685323]], and true label: 52\n",
      "Prediction result: [[0.83401316 0.1659868 ]], and true label: 52\n",
      "Prediction result: [[0.75873095 0.24126911]], and true label: 52\n",
      "Prediction result: [[0.51014936 0.4898507 ]], and true label: 52\n",
      "Prediction result: [[0.8418553  0.15814474]], and true label: 52\n",
      "Prediction result: [[0.83842516 0.1615749 ]], and true label: 52\n",
      "Prediction result: [[0.7671993  0.23280075]], and true label: 52\n",
      "Prediction result: [[0.76848567 0.2315144 ]], and true label: 52\n",
      "Prediction result: [[0.5641438 0.4358562]], and true label: 52\n",
      "Prediction result: [[0.83990186 0.16009814]], and true label: 52\n",
      "Prediction result: [[0.6912596  0.30874038]], and true label: 52\n",
      "Prediction result: [[0.6695726  0.33042738]], and true label: 52\n",
      "Prediction result: [[0.5723988  0.42760125]], and true label: 52\n",
      "Prediction result: [[0.87208605 0.12791394]], and true label: 52\n",
      "Prediction result: [[0.7132843  0.28671572]], and true label: 52\n",
      "Prediction result: [[0.7355775  0.26442245]], and true label: 52\n",
      "Prediction result: [[0.6707759  0.32922408]], and true label: 52\n",
      "Prediction result: [[0.5694904  0.43050963]], and true label: 52\n",
      "Prediction result: [[0.84015024 0.15984973]], and true label: 52\n",
      "Prediction result: [[0.5577235  0.44227648]], and true label: 52\n",
      "Prediction result: [[0.80510426 0.19489577]], and true label: 52\n",
      "Prediction result: [[0.830468   0.16953197]], and true label: 52\n",
      "Prediction result: [[0.77193844 0.22806153]], and true label: 52\n",
      "Prediction result: [[0.7595947  0.24040534]], and true label: 99\n",
      "Prediction result: [[0.5204728  0.47952715]], and true label: 99\n",
      "Prediction result: [[0.7386908  0.26130927]], and true label: 99\n",
      "Prediction result: [[0.5775772  0.42242286]], and true label: 99\n",
      "Prediction result: [[0.40326092 0.5967391 ]], and true label: 99\n",
      "Prediction result: [[0.84317094 0.1568291 ]], and true label: 99\n",
      "Prediction result: [[0.5958368  0.40416312]], and true label: 99\n",
      "Prediction result: [[0.7170182  0.28298178]], and true label: 99\n",
      "Prediction result: [[0.81978303 0.18021691]], and true label: 99\n",
      "Prediction result: [[0.5665424  0.43345767]], and true label: 99\n",
      "Prediction result: [[0.84265155 0.15734845]], and true label: 99\n",
      "Prediction result: [[0.7008372 0.2991628]], and true label: 99\n",
      "Prediction result: [[0.79485077 0.20514919]], and true label: 99\n",
      "Prediction result: [[0.7807698  0.21923019]], and true label: 99\n",
      "Prediction result: [[0.7794052 0.2205948]], and true label: 99\n",
      "Prediction result: [[0.746202   0.25379804]], and true label: 99\n",
      "total sounds result is 75.0\n",
      "total alarm sounds result is 87.5\n"
     ]
    }
   ],
   "source": [
    "test_len = len(sounds);\n",
    "p_total_len = len(p_wav_list);\n",
    "n_total_len = len(n_wav_list);\n",
    "correct_num = 0;\n",
    "p_correct_num = 0;\n",
    "n_correct_num = 0;\n",
    "n_correct_siren_num = 0;\n",
    "n_correct_othersounds_num = 0;\n",
    "for w in range(test_len): \n",
    "    s = sounds[w]\n",
    "    l = labels[w]\n",
    "    s_test = np.expand_dims(s[0], axis=0);\n",
    "    s_test = np.expand_dims(s_test, axis=1);\n",
    "    s_test = np.expand_dims(s_test, axis=3);\n",
    "    s_test = np.float32(s_test);\n",
    "    # print(s_test.shape)\n",
    "    # print(f\"the {w+1} item's shape:\\n  {s.shape}\");\n",
    "    # Run inference\n",
    "    # print(f\"s type:{type(s)}, and s shape:{s.shape}\")\n",
    "    tflite_interpreter.set_tensor(input_details[0]['index'], s_test);\n",
    "    tflite_interpreter.invoke()\n",
    "    pred = tflite_interpreter.get_tensor(output_details[0]['index'])\n",
    "    # print(f\"Prediction result shape:{pred.shape}\\n\");\n",
    "    print(f\"Prediction result: {pred}, and true label: {l}\")\n",
    "    if l == 52: #positive\n",
    "        if pred[0][0] > pred[0][1]:\n",
    "            correct_num += 1;\n",
    "            p_correct_num += 1;\n",
    "    if l == 99: #negative\n",
    "        if pred[0][0] < pred[0][1]:\n",
    "            correct_num += 1;\n",
    "            n_correct_num += 1;\n",
    "print(f\"total sounds result is {100*(correct_num/test_len)}\");\n",
    "print(f\"total alarm sounds result is {100*(p_correct_num/p_total_len)}\");"
   ]
  },
  {
   "cell_type": "code",
   "execution_count": 15,
   "id": "780eb0f5-3acb-4070-8164-00bcf30593c9",
   "metadata": {},
   "outputs": [],
   "source": [
    "# scores = model.predict(sound, batch_size=len(sound), verbose=0);\n",
    "# print(type(scores))\n",
    "# print(scores.shape)\n",
    "\n",
    "# for res in scores:\n",
    "#     max_value = res.max()\n",
    "#     max_index = np.argmax(res)\n",
    "#     print(f\"max value:{max_value:.5f} and index is {max_index}\")\n",
    "#     print('\\n'.join('{}: {:.5f}'.format(*k) for k in enumerate(res)))"
   ]
  },
  {
   "cell_type": "code",
   "execution_count": null,
   "id": "7024bdc4-6093-4182-ab95-9f3688b6ff1a",
   "metadata": {},
   "outputs": [],
   "source": []
  },
  {
   "cell_type": "code",
   "execution_count": null,
   "id": "c999d37e-c098-4d06-a68c-a436d82a59f0",
   "metadata": {},
   "outputs": [],
   "source": []
  }
 ],
 "metadata": {
  "kernelspec": {
   "display_name": "Python 3 (ipykernel)",
   "language": "python",
   "name": "python3"
  },
  "language_info": {
   "codemirror_mode": {
    "name": "ipython",
    "version": 3
   },
   "file_extension": ".py",
   "mimetype": "text/x-python",
   "name": "python",
   "nbconvert_exporter": "python",
   "pygments_lexer": "ipython3",
   "version": "3.10.13"
  }
 },
 "nbformat": 4,
 "nbformat_minor": 5
}
