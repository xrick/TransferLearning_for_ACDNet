{
 "cells": [
  {
   "cell_type": "code",
   "execution_count": 5,
   "id": "06f1904b-f659-48aa-ae6a-6238877d1c37",
   "metadata": {},
   "outputs": [],
   "source": [
    "import sys\n",
    "import os\n",
    "import subprocess\n",
    "import glob\n",
    "import numpy as np\n",
    "import wavio"
   ]
  },
  {
   "cell_type": "code",
   "execution_count": null,
   "id": "3a795603-c88e-4072-a563-30930c43874f",
   "metadata": {},
   "outputs": [],
   "source": []
  },
  {
   "cell_type": "code",
   "execution_count": 8,
   "id": "d444a865-2dc1-4fdc-993f-25b7a596ee0e",
   "metadata": {},
   "outputs": [],
   "source": [
    "def main():\n",
    "    mainDir = os.getcwd();\n",
    "    ueciot10_path = os.path.join(mainDir, 'datasets/processed_data/');\n",
    "    print(ueciot10_path)"
   ]
  },
  {
   "cell_type": "code",
   "execution_count": 9,
   "id": "452d704b-1419-413f-ab3b-91cb1f09fb61",
   "metadata": {},
   "outputs": [
    {
     "name": "stdout",
     "output_type": "stream",
     "text": [
      "/home/ai/RLRepo/Works/Projects/TransferLearning_for_ACDNet/datasets/processed_data/\n"
     ]
    }
   ],
   "source": [
    "main()"
   ]
  },
  {
   "cell_type": "code",
   "execution_count": 19,
   "id": "e1102cc5-6320-4910-b872-a3010eef289b",
   "metadata": {},
   "outputs": [],
   "source": [
    "def create_dataset(src_path, ueciot10_dst_path):\n",
    "    print('* {} -> {}'.format(src_path, ueciot10_dst_path))\n",
    "    fold = 1;\n",
    "    ueciot10_dataset = {};\n",
    "    ueciot10_dataset['fold{}'.format(fold)] = {}\n",
    "    ueciot10_sounds = [];\n",
    "    ueciot10_labels = [];\n",
    "    # for fold in range(1, 6):\n",
    "    #     esc50_dataset['fold{}'.format(fold)] = {}\n",
    "    #     esc50_sounds = []\n",
    "    #     esc50_labels = []\n",
    "   \n",
    "    for wav_file in sorted(glob.glob(os.path.join(src_path, '*.wav'))):\n",
    "        sound = wavio.read(wav_file).data.T[0]\n",
    "        start = sound.nonzero()[0].min()\n",
    "        end = sound.nonzero()[0].max()\n",
    "        sound = sound[start: end + 1]  # Remove silent sections\n",
    "        label = int(os.path.splitext(wav_file)[0].split('-')[-1])\n",
    "        ueciot10_sounds.append(sound)\n",
    "        ueciot10_labels.append(label)\n",
    "\n",
    "    ueciot10_dataset['fold{}'.format(fold)]['sounds'] = ueciot10_sounds\n",
    "    ueciot10_dataset['fold{}'.format(fold)]['labels'] = ueciot10_labels\n",
    "    # print(ueciot10_dataset)\n",
    "    # print(\"ueciot10 sounds:\\n\")\n",
    "    # print(ueciot10_dataset[\"fold1\"][\"sounds\"])\n",
    "    # print(ueciot10_dataset[\"fold1\"][\"labels\"])\n",
    "    np.savez(ueciot10_dst_path, **ueciot10_dataset)"
   ]
  },
  {
   "cell_type": "code",
   "execution_count": null,
   "id": "bda3f770-5c2f-4f86-a167-8625ddcd5598",
   "metadata": {},
   "outputs": [],
   "source": []
  },
  {
   "cell_type": "code",
   "execution_count": 20,
   "id": "a05b75c3-2759-4a41-97bb-fd9293c6c1ac",
   "metadata": {},
   "outputs": [
    {
     "name": "stdout",
     "output_type": "stream",
     "text": [
      "* /home/ai/RLRepo/Works/Projects/TransferLearning_for_ACDNet/datasets/processed_data/ -> /home/ai/RLRepo/Works/Projects/TransferLearning_for_ACDNet/datasets/fold1_dataset.npz\n"
     ]
    }
   ],
   "source": [
    "_src_path = \"/home/ai/RLRepo/Works/Projects/TransferLearning_for_ACDNet/datasets/processed_data/\"\n",
    "_dest_path = \"/home/ai/RLRepo/Works/Projects/TransferLearning_for_ACDNet/datasets/fold1_dataset.npz\"\n",
    "create_dataset(_src_path, _dest_path)\n",
    "\n",
    "# if __name__ == '__main__':\n",
    "#     main()"
   ]
  },
  {
   "cell_type": "code",
   "execution_count": 4,
   "id": "c5bb2ac0-6000-492c-8d67-81de1a3f3c18",
   "metadata": {},
   "outputs": [
    {
     "data": {
      "text/plain": [
       "['/home/ai/RLRepo/Works/Projects/TransferLearning_for_ACDNet/datasets/processed_data/1-19111-A-24.wav',\n",
       " '/home/ai/RLRepo/Works/Projects/TransferLearning_for_ACDNet/datasets/processed_data/1-19118-A-24.wav',\n",
       " '/home/ai/RLRepo/Works/Projects/TransferLearning_for_ACDNet/datasets/processed_data/1-20736-A-18.wav',\n",
       " '/home/ai/RLRepo/Works/Projects/TransferLearning_for_ACDNet/datasets/processed_data/1-28005-A-18.wav',\n",
       " '/home/ai/RLRepo/Works/Projects/TransferLearning_for_ACDNet/datasets/processed_data/1-30214-A-18.wav',\n",
       " '/home/ai/RLRepo/Works/Projects/TransferLearning_for_ACDNet/datasets/processed_data/1-30830-A-24.wav',\n",
       " '/home/ai/RLRepo/Works/Projects/TransferLearning_for_ACDNet/datasets/processed_data/1-46274-A-18.wav',\n",
       " '/home/ai/RLRepo/Works/Projects/TransferLearning_for_ACDNet/datasets/processed_data/1-51170-A-18.wav',\n",
       " '/home/ai/RLRepo/Works/Projects/TransferLearning_for_ACDNet/datasets/processed_data/1-52266-A-24.wav',\n",
       " '/home/ai/RLRepo/Works/Projects/TransferLearning_for_ACDNet/datasets/processed_data/1-52323-A-24.wav',\n",
       " '/home/ai/RLRepo/Works/Projects/TransferLearning_for_ACDNet/datasets/processed_data/1-53663-A-24.wav',\n",
       " '/home/ai/RLRepo/Works/Projects/TransferLearning_for_ACDNet/datasets/processed_data/1-53670-A-18.wav',\n",
       " '/home/ai/RLRepo/Works/Projects/TransferLearning_for_ACDNet/datasets/processed_data/1-54752-A-18.wav',\n",
       " '/home/ai/RLRepo/Works/Projects/TransferLearning_for_ACDNet/datasets/processed_data/1-58792-A-24.wav',\n",
       " '/home/ai/RLRepo/Works/Projects/TransferLearning_for_ACDNet/datasets/processed_data/1-63679-A-24.wav',\n",
       " '/home/ai/RLRepo/Works/Projects/TransferLearning_for_ACDNet/datasets/processed_data/2-64332-A-18.wav',\n",
       " '/home/ai/RLRepo/Works/Projects/TransferLearning_for_ACDNet/datasets/processed_data/2-67422-A-18.wav',\n",
       " '/home/ai/RLRepo/Works/Projects/TransferLearning_for_ACDNet/datasets/processed_data/2-70280-A-18.wav',\n",
       " '/home/ai/RLRepo/Works/Projects/TransferLearning_for_ACDNet/datasets/processed_data/4-155650-B-24.wav',\n",
       " '/home/ai/RLRepo/Works/Projects/TransferLearning_for_ACDNet/datasets/processed_data/boiling_water_1_1-53.wav',\n",
       " '/home/ai/RLRepo/Works/Projects/TransferLearning_for_ACDNet/datasets/processed_data/boiling_water_1_2-53.wav',\n",
       " '/home/ai/RLRepo/Works/Projects/TransferLearning_for_ACDNet/datasets/processed_data/boiling_water_1_3-53.wav',\n",
       " '/home/ai/RLRepo/Works/Projects/TransferLearning_for_ACDNet/datasets/processed_data/boiling_water_2_1-53.wav',\n",
       " '/home/ai/RLRepo/Works/Projects/TransferLearning_for_ACDNet/datasets/processed_data/boiling_water_2_2-53.wav',\n",
       " '/home/ai/RLRepo/Works/Projects/TransferLearning_for_ACDNet/datasets/processed_data/boiling_water_2_3-53.wav',\n",
       " '/home/ai/RLRepo/Works/Projects/TransferLearning_for_ACDNet/datasets/processed_data/boiling_water_2_4-53.wav',\n",
       " '/home/ai/RLRepo/Works/Projects/TransferLearning_for_ACDNet/datasets/processed_data/boiling_water_2_5-53.wav',\n",
       " '/home/ai/RLRepo/Works/Projects/TransferLearning_for_ACDNet/datasets/processed_data/boiling_water_2_6-53.wav',\n",
       " '/home/ai/RLRepo/Works/Projects/TransferLearning_for_ACDNet/datasets/processed_data/boiling_water_2_7-53.wav',\n",
       " '/home/ai/RLRepo/Works/Projects/TransferLearning_for_ACDNet/datasets/processed_data/boiling_water_2_8-53.wav',\n",
       " '/home/ai/RLRepo/Works/Projects/TransferLearning_for_ACDNet/datasets/processed_data/coughing_81088-24.wav',\n",
       " '/home/ai/RLRepo/Works/Projects/TransferLearning_for_ACDNet/datasets/processed_data/fire_alarm_1_1-52.wav',\n",
       " '/home/ai/RLRepo/Works/Projects/TransferLearning_for_ACDNet/datasets/processed_data/fire_alarm_1_2-52.wav',\n",
       " '/home/ai/RLRepo/Works/Projects/TransferLearning_for_ACDNet/datasets/processed_data/fire_alarm_1_3-52.wav',\n",
       " '/home/ai/RLRepo/Works/Projects/TransferLearning_for_ACDNet/datasets/processed_data/fire_alarm_1_4-52.wav',\n",
       " '/home/ai/RLRepo/Works/Projects/TransferLearning_for_ACDNet/datasets/processed_data/fire_alarm_1_5-52.wav',\n",
       " '/home/ai/RLRepo/Works/Projects/TransferLearning_for_ACDNet/datasets/processed_data/fire_alarm_1_6-52.wav',\n",
       " '/home/ai/RLRepo/Works/Projects/TransferLearning_for_ACDNet/datasets/processed_data/fire_alarm_1_7-52.wav',\n",
       " '/home/ai/RLRepo/Works/Projects/TransferLearning_for_ACDNet/datasets/processed_data/fire_alarm_2_1-52.wav',\n",
       " '/home/ai/RLRepo/Works/Projects/TransferLearning_for_ACDNet/datasets/processed_data/fire_alarm_2_2-52.wav',\n",
       " '/home/ai/RLRepo/Works/Projects/TransferLearning_for_ACDNet/datasets/processed_data/fire_alarm_2_3-52.wav',\n",
       " '/home/ai/RLRepo/Works/Projects/TransferLearning_for_ACDNet/datasets/processed_data/fire_alarm_2_4-52.wav',\n",
       " '/home/ai/RLRepo/Works/Projects/TransferLearning_for_ACDNet/datasets/processed_data/fire_alarm_2_5-52.wav',\n",
       " '/home/ai/RLRepo/Works/Projects/TransferLearning_for_ACDNet/datasets/processed_data/fire_alarm_2_6-52.wav',\n",
       " '/home/ai/RLRepo/Works/Projects/TransferLearning_for_ACDNet/datasets/processed_data/pouring_water_1_1-17.wav',\n",
       " '/home/ai/RLRepo/Works/Projects/TransferLearning_for_ACDNet/datasets/processed_data/pouring_water_1_2-17.wav',\n",
       " '/home/ai/RLRepo/Works/Projects/TransferLearning_for_ACDNet/datasets/processed_data/pouring_water_1_3-17.wav',\n",
       " '/home/ai/RLRepo/Works/Projects/TransferLearning_for_ACDNet/datasets/processed_data/pouring_water_1_4-17.wav',\n",
       " '/home/ai/RLRepo/Works/Projects/TransferLearning_for_ACDNet/datasets/processed_data/pouring_water_2_1-17.wav',\n",
       " '/home/ai/RLRepo/Works/Projects/TransferLearning_for_ACDNet/datasets/processed_data/pouring_water_2_2-17.wav',\n",
       " '/home/ai/RLRepo/Works/Projects/TransferLearning_for_ACDNet/datasets/processed_data/pouring_water_3_1-17.wav',\n",
       " '/home/ai/RLRepo/Works/Projects/TransferLearning_for_ACDNet/datasets/processed_data/pouring_water_4_1-17.wav',\n",
       " '/home/ai/RLRepo/Works/Projects/TransferLearning_for_ACDNet/datasets/processed_data/pouring_water_4_2-17.wav',\n",
       " '/home/ai/RLRepo/Works/Projects/TransferLearning_for_ACDNet/datasets/processed_data/pouring_water_4_3-17.wav',\n",
       " '/home/ai/RLRepo/Works/Projects/TransferLearning_for_ACDNet/datasets/processed_data/tea_kettle_whistling_69415-51.wav',\n",
       " '/home/ai/RLRepo/Works/Projects/TransferLearning_for_ACDNet/datasets/processed_data/tea_kettle_whistling_69415_2-51.wav',\n",
       " '/home/ai/RLRepo/Works/Projects/TransferLearning_for_ACDNet/datasets/processed_data/whistling_kettle_1_1-51.wav',\n",
       " '/home/ai/RLRepo/Works/Projects/TransferLearning_for_ACDNet/datasets/processed_data/whistling_kettle_1_2-51.wav',\n",
       " '/home/ai/RLRepo/Works/Projects/TransferLearning_for_ACDNet/datasets/processed_data/whistling_kettle_1_3-51.wav',\n",
       " '/home/ai/RLRepo/Works/Projects/TransferLearning_for_ACDNet/datasets/processed_data/whistling_kettle_1_4-51.wav',\n",
       " '/home/ai/RLRepo/Works/Projects/TransferLearning_for_ACDNet/datasets/processed_data/whistling_kettle_2_1-51.wav',\n",
       " '/home/ai/RLRepo/Works/Projects/TransferLearning_for_ACDNet/datasets/processed_data/whistling_kettle_2_2-51.wav',\n",
       " '/home/ai/RLRepo/Works/Projects/TransferLearning_for_ACDNet/datasets/processed_data/whistling_kettle_2_3-51.wav',\n",
       " '/home/ai/RLRepo/Works/Projects/TransferLearning_for_ACDNet/datasets/processed_data/whistling_kettle_2_4-51.wav',\n",
       " '/home/ai/RLRepo/Works/Projects/TransferLearning_for_ACDNet/datasets/processed_data/whistling_kettle_2_5-51.wav']"
      ]
     },
     "execution_count": 4,
     "metadata": {},
     "output_type": "execute_result"
    }
   ],
   "source": [
    "_src_path = \"/home/ai/RLRepo/Works/Projects/TransferLearning_for_ACDNet/datasets/processed_data/\"\n",
    "# sorted(glob.glob(os.path.join(_src_path, '*.wav')))"
   ]
  },
  {
   "cell_type": "code",
   "execution_count": null,
   "id": "6179aa33-d102-43e1-9c4d-162711aacab4",
   "metadata": {},
   "outputs": [],
   "source": []
  }
 ],
 "metadata": {
  "kernelspec": {
   "display_name": "Python 3 (ipykernel)",
   "language": "python",
   "name": "python3"
  },
  "language_info": {
   "codemirror_mode": {
    "name": "ipython",
    "version": 3
   },
   "file_extension": ".py",
   "mimetype": "text/x-python",
   "name": "python",
   "nbconvert_exporter": "python",
   "pygments_lexer": "ipython3",
   "version": "3.10.13"
  }
 },
 "nbformat": 4,
 "nbformat_minor": 5
}
