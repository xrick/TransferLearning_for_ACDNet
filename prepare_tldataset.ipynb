{
 "cells": [
  {
   "cell_type": "code",
   "execution_count": 3,
   "id": "06f1904b-f659-48aa-ae6a-6238877d1c37",
   "metadata": {},
   "outputs": [],
   "source": [
    "import sys\n",
    "import os\n",
    "import subprocess\n",
    "import glob\n",
    "import numpy as np\n",
    "import wavio"
   ]
  },
  {
   "cell_type": "code",
   "execution_count": null,
   "id": "3a795603-c88e-4072-a563-30930c43874f",
   "metadata": {},
   "outputs": [],
   "source": []
  },
  {
   "cell_type": "code",
   "execution_count": 7,
   "id": "d444a865-2dc1-4fdc-993f-25b7a596ee0e",
   "metadata": {},
   "outputs": [],
   "source": [
    "def main():\n",
    "    mainDir = os.getcwd();\n",
    "    ueciot10_path = os.path.join(mainDir, 'datasetss/processed_data/');\n",
    "    print(ueciot10_path)"
   ]
  },
  {
   "cell_type": "code",
   "execution_count": null,
   "id": "452d704b-1419-413f-ab3b-91cb1f09fb61",
   "metadata": {},
   "outputs": [],
   "source": []
  },
  {
   "cell_type": "code",
   "execution_count": null,
   "id": "e1102cc5-6320-4910-b872-a3010eef289b",
   "metadata": {},
   "outputs": [],
   "source": [
    "def create_dataset(src_path, ueciot_dst_path):\n",
    "    print('* {} -> {}'.format(src_path, esc50_dst_path))\n",
    "    ueciot_dataset = {};\n",
    "    ueciot_sounds = [];\n",
    "    ueciot_labels = [];\n",
    "    # for fold in range(1, 6):\n",
    "    #     esc50_dataset['fold{}'.format(fold)] = {}\n",
    "    #     esc50_sounds = []\n",
    "    #     esc50_labels = []\n",
    "    fold = 1;\n",
    "    for wav_file in sorted(glob.glob(os.path.join(src_path, '{}-*.wav'.format(fold)))):\n",
    "        sound = wavio.read(wav_file).data.T[0]\n",
    "        start = sound.nonzero()[0].min()\n",
    "        end = sound.nonzero()[0].max()\n",
    "        sound = sound[start: end + 1]  # Remove silent sections\n",
    "        label = int(os.path.splitext(wav_file)[0].split('-')[-1])\n",
    "        esc50_sounds.append(sound)\n",
    "        esc50_labels.append(label)\n",
    "\n",
    "    esc50_dataset['fold{}'.format(fold)]['sounds'] = esc50_sounds\n",
    "    esc50_dataset['fold{}'.format(fold)]['labels'] = esc50_labels"
   ]
  },
  {
   "cell_type": "code",
   "execution_count": null,
   "id": "bda3f770-5c2f-4f86-a167-8625ddcd5598",
   "metadata": {},
   "outputs": [],
   "source": []
  },
  {
   "cell_type": "code",
   "execution_count": 8,
   "id": "a05b75c3-2759-4a41-97bb-fd9293c6c1ac",
   "metadata": {},
   "outputs": [
    {
     "name": "stdout",
     "output_type": "stream",
     "text": [
      "/home/ai/RLRepo/Works/Projects/TransferLearning_for_ACDNet/datasetss/processed_data/\n"
     ]
    }
   ],
   "source": [
    "main()\n",
    "# if __name__ == '__main__':\n",
    "#     main()"
   ]
  },
  {
   "cell_type": "code",
   "execution_count": 9,
   "id": "c5bb2ac0-6000-492c-8d67-81de1a3f3c18",
   "metadata": {},
   "outputs": [
    {
     "data": {
      "text/plain": [
       "[]"
      ]
     },
     "execution_count": 9,
     "metadata": {},
     "output_type": "execute_result"
    }
   ],
   "source": [
    "_src_path = \"/home/ai/RLRepo/Works/Projects/TransferLearning_for_ACDNet/datasetss/processed_data/\"\n",
    "sorted(glob.glob(os.path.join(_src_path, '*.wav')))"
   ]
  },
  {
   "cell_type": "code",
   "execution_count": null,
   "id": "6179aa33-d102-43e1-9c4d-162711aacab4",
   "metadata": {},
   "outputs": [],
   "source": []
  }
 ],
 "metadata": {
  "kernelspec": {
   "display_name": "Python 3 (ipykernel)",
   "language": "python",
   "name": "python3"
  },
  "language_info": {
   "codemirror_mode": {
    "name": "ipython",
    "version": 3
   },
   "file_extension": ".py",
   "mimetype": "text/x-python",
   "name": "python",
   "nbconvert_exporter": "python",
   "pygments_lexer": "ipython3",
   "version": "3.10.13"
  }
 },
 "nbformat": 4,
 "nbformat_minor": 5
}
