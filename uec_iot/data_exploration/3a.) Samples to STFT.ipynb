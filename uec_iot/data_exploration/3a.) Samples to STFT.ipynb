{
 "cells": [
  {
   "cell_type": "markdown",
   "metadata": {},
   "source": [
    "This notebook converts all `.npy` samples in the directory `.drumData` into STFT features. Unlike, our other feature extraction pipelines (MFCC, MIR and WaveNet) parts of the code in this notebook are adapted from Kyle McDonald's original implementation to make the STFT features work well with TSNE through a series of transformations and edge case checks. We found these to be useful when running the features through TSNE, but they were uneccesary for UMAP. Output dimensiosn per file are (32,32). \n",
    "\n",
    "The original notebook can be found at:\n",
    "https://github.com/kylemcdonald/AudioNotebooks/blob/master/Samples%20to%20Fingerprints.ipynb"
   ]
  },
  {
   "cell_type": "code",
   "execution_count": 1,
   "metadata": {
    "collapsed": true,
    "jupyter": {
     "outputs_hidden": true
    }
   },
   "outputs": [],
   "source": [
    "data_root = 'drumData'\n",
    "n_fft = 1024\n",
    "hop_length = n_fft/4\n",
    "use_logamp = False # boost the brightness of quiet sounds\n",
    "reduce_rows = 10 # how many frequency bands to average into one\n",
    "reduce_cols = 1 # how many time steps to average into one\n",
    "crop_rows = 32 # limit how many frequency bands to use\n",
    "crop_cols = 32 # limit how many time steps to use\n",
    "limit = None # set this to 100 to only process 100 samples"
   ]
  },
  {
   "cell_type": "code",
   "execution_count": 2,
   "metadata": {
    "collapsed": true,
    "jupyter": {
     "outputs_hidden": true
    }
   },
   "outputs": [],
   "source": [
    "%matplotlib inline\n",
    "from utils import *\n",
    "from tqdm import *\n",
    "from os.path import join\n",
    "from matplotlib import pyplot as plt\n",
    "from skimage.measure import block_reduce\n",
    "from multiprocessing import Pool\n",
    "import numpy as np\n",
    "import librosa"
   ]
  },
  {
   "cell_type": "markdown",
   "metadata": {},
   "source": [
    "# Load audio samples"
   ]
  },
  {
   "cell_type": "code",
   "execution_count": 3,
   "metadata": {},
   "outputs": [
    {
     "name": "stdout",
     "output_type": "stream",
     "text": [
      "CPU times: user 854 µs, sys: 219 ms, total: 220 ms\n",
      "Wall time: 380 ms\n",
      "CPU times: user 561 µs, sys: 18.1 ms, total: 18.7 ms\n",
      "Wall time: 40.4 ms\n",
      "CPU times: user 551 µs, sys: 98.1 ms, total: 98.6 ms\n",
      "Wall time: 158 ms\n",
      "CPU times: user 1.79 ms, sys: 69.1 ms, total: 70.8 ms\n",
      "Wall time: 148 ms\n",
      "CPU times: user 562 µs, sys: 7.03 ms, total: 7.59 ms\n",
      "Wall time: 10.8 ms\n",
      "CPU times: user 446 µs, sys: 13.1 ms, total: 13.5 ms\n",
      "Wall time: 22.2 ms\n",
      "CPU times: user 661 µs, sys: 39.3 ms, total: 40 ms\n",
      "Wall time: 55.9 ms\n"
     ]
    }
   ],
   "source": [
    "drumNames = [\"kick\", \"tom\", \"snare\", \"clap\", \"hi.hat\", \"ride\", \"crash\"]\n",
    "drumFingerPrints = {}\n",
    "drumSamples = {}\n",
    "for d in drumNames:\n",
    "    %time drumSamples[d] = np.load(join(data_root, d+'_samples.npy'))"
   ]
  },
  {
   "cell_type": "markdown",
   "metadata": {},
   "source": [
    "# STFT extraction pipeline"
   ]
  },
  {
   "cell_type": "code",
   "execution_count": 4,
   "metadata": {},
   "outputs": [
    {
     "name": "stdout",
     "output_type": "stream",
     "text": [
      "CPU times: user 283 ms, sys: 230 ms, total: 512 ms\n",
      "Wall time: 1.81 s\n",
      "generated finger print for kick (5158, 32, 32)\n",
      "CPU times: user 26.8 ms, sys: 24.3 ms, total: 51 ms\n",
      "Wall time: 137 ms\n",
      "generated finger print for tom (422, 32, 32)\n",
      "CPU times: user 144 ms, sys: 141 ms, total: 284 ms\n",
      "Wall time: 732 ms\n",
      "generated finger print for snare (2546, 32, 32)\n",
      "CPU times: user 77.6 ms, sys: 75.9 ms, total: 153 ms\n",
      "Wall time: 435 ms\n",
      "generated finger print for clap (1324, 32, 32)\n",
      "CPU times: user 13.8 ms, sys: 10.2 ms, total: 24 ms\n",
      "Wall time: 66.3 ms\n",
      "generated finger print for hi.hat (159, 32, 32)\n",
      "CPU times: user 16.4 ms, sys: 13.6 ms, total: 30.1 ms\n",
      "Wall time: 90.8 ms\n",
      "generated finger print for ride (228, 32, 32)\n",
      "CPU times: user 45.4 ms, sys: 45.5 ms, total: 90.9 ms\n",
      "Wall time: 255 ms\n",
      "generated finger print for crash (723, 32, 32)\n"
     ]
    }
   ],
   "source": [
    "window = np.hanning(n_fft)\n",
    "def job(y):\n",
    "    S = librosa.stft(y, n_fft=n_fft, hop_length=hop_length, window=window)\n",
    "    amp = np.abs(S)\n",
    "    if reduce_rows > 1 or reduce_cols > 1:\n",
    "        amp = block_reduce(amp, (reduce_rows, reduce_cols), func=np.mean)\n",
    "    if amp.shape[1] < crop_cols:\n",
    "        amp = np.pad(amp, ((0, 0), (0, crop_cols-amp.shape[1])), 'constant')\n",
    "    amp = amp[:crop_rows, :crop_cols]\n",
    "    if use_logamp:\n",
    "        amp = librosa.logamplitude(amp**2)\n",
    "    amp -= amp.min()\n",
    "    if amp.max() > 0:\n",
    "        amp /= amp.max()\n",
    "    amp = np.flipud(amp) # for visualization, put low frequencies on bottom\n",
    "    return amp\n",
    "\n",
    "for d in drumNames:\n",
    "    pool = Pool()\n",
    "    %time fingerprints = pool.map(job, drumSamples[d][:limit])\n",
    "    fingerprints = np.asarray(fingerprints).astype(np.float32)\n",
    "    drumFingerPrints[d] = fingerprints\n",
    "    print \"generated finger print for\", d, fingerprints.shape"
   ]
  },
  {
   "cell_type": "markdown",
   "metadata": {},
   "source": [
    "# Write features to `.npy` files"
   ]
  },
  {
   "cell_type": "code",
   "execution_count": null,
   "metadata": {},
   "outputs": [],
   "source": [
    "for d in drumNames:\n",
    "    np.save(join(data_root, d+'_stft.npy'), drumFingerPrints[d])\n",
    "    print \"saved\", d+'_stft.npy'"
   ]
  }
 ],
 "metadata": {
  "kernelspec": {
   "display_name": "Python 3 (ipykernel)",
   "language": "python",
   "name": "python3"
  },
  "language_info": {
   "codemirror_mode": {
    "name": "ipython",
    "version": 3
   },
   "file_extension": ".py",
   "mimetype": "text/x-python",
   "name": "python",
   "nbconvert_exporter": "python",
   "pygments_lexer": "ipython3",
   "version": "3.10.12"
  }
 },
 "nbformat": 4,
 "nbformat_minor": 4
}
