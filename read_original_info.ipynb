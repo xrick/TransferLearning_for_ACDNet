{
 "cells": [
  {
   "cell_type": "code",
   "execution_count": 1,
   "id": "b1290e9d-7cb7-423b-a50e-66b48694632d",
   "metadata": {},
   "outputs": [],
   "source": [
    "import os;\n",
    "import sys;\n",
    "import numpy as np;\n",
    "import random;\n",
    "# from tensorflow import keras;\n",
    "import glob;\n",
    "import math;\n",
    "import time;"
   ]
  },
  {
   "cell_type": "code",
   "execution_count": 2,
   "id": "db529047-b359-4eb4-8b30-a64070e7d848",
   "metadata": {},
   "outputs": [],
   "source": [
    "sys.path.append(os.getcwd());\n",
    "sys.path.append(os.path.join(os.getcwd(), 'common'));"
   ]
  },
  {
   "cell_type": "code",
   "execution_count": 3,
   "id": "6f201ed7-7f20-48ae-ae0b-829b073d4053",
   "metadata": {},
   "outputs": [
    {
     "name": "stdout",
     "output_type": "stream",
     "text": [
      "WARNING:tensorflow:From C:\\Users\\UEC\\AppData\\Roaming\\Python\\Python310\\site-packages\\keras\\src\\losses.py:2976: The name tf.losses.sparse_softmax_cross_entropy is deprecated. Please use tf.compat.v1.losses.sparse_softmax_cross_entropy instead.\n",
      "\n"
     ]
    }
   ],
   "source": [
    "import common.utils as U;\n",
    "import common.tlopts as tlopts\n",
    "import resources.TLModels as tlmodels;"
   ]
  },
  {
   "cell_type": "code",
   "execution_count": null,
   "id": "d8eb7123-9534-452c-b4f5-c8998ce75af5",
   "metadata": {},
   "outputs": [],
   "source": []
  },
  {
   "cell_type": "code",
   "execution_count": null,
   "id": "e36da183-2c3a-43b4-8db4-2b9147efc630",
   "metadata": {},
   "outputs": [],
   "source": []
  }
 ],
 "metadata": {
  "kernelspec": {
   "display_name": "Python 3 (ipykernel)",
   "language": "python",
   "name": "python3"
  },
  "language_info": {
   "codemirror_mode": {
    "name": "ipython",
    "version": 3
   },
   "file_extension": ".py",
   "mimetype": "text/x-python",
   "name": "python",
   "nbconvert_exporter": "python",
   "pygments_lexer": "ipython3",
   "version": "3.10.13"
  }
 },
 "nbformat": 4,
 "nbformat_minor": 5
}
