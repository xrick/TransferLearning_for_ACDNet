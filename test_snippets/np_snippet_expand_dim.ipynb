{
 "cells": [
  {
   "cell_type": "code",
   "execution_count": 1,
   "id": "eccbbd3e-fad9-45a4-9f72-8152cd8ddf6d",
   "metadata": {},
   "outputs": [],
   "source": [
    "import numpy as np"
   ]
  },
  {
   "cell_type": "markdown",
   "id": "3cff83a0-24dd-4624-9a3d-f13ae0b5adc2",
   "metadata": {},
   "source": [
    "## np expand_dim demo"
   ]
  },
  {
   "cell_type": "code",
   "execution_count": null,
   "id": "70a1f1d6-e915-46ea-854f-f76a62b9331e",
   "metadata": {},
   "outputs": [],
   "source": []
  }
 ],
 "metadata": {
  "kernelspec": {
   "display_name": "Python 3 (ipykernel)",
   "language": "python",
   "name": "python3"
  },
  "language_info": {
   "codemirror_mode": {
    "name": "ipython",
    "version": 3
   },
   "file_extension": ".py",
   "mimetype": "text/x-python",
   "name": "python",
   "nbconvert_exporter": "python",
   "pygments_lexer": "ipython3",
   "version": "3.10.13"
  }
 },
 "nbformat": 4,
 "nbformat_minor": 5
}
